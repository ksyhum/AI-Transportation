{
 "nbformat": 4,
 "nbformat_minor": 0,
 "metadata": {
  "colab": {
   "provenance": []
  },
  "kernelspec": {
   "name": "python3",
   "language": "python",
   "display_name": "Python 3 (ipykernel)"
  },
  "language_info": {
   "name": "python"
  }
 },
 "cells": [
  {
   "cell_type": "markdown",
   "source": [
    "# Public Transport project"
   ],
   "metadata": {
    "id": "LAuwkehFXq2g"
   }
  },
  {
   "cell_type": "code",
   "source": [
    "import pandas as pd"
   ],
   "metadata": {
    "id": "fYUs8Nt8JlLC",
    "executionInfo": {
     "status": "ok",
     "timestamp": 1726142274436,
     "user_tz": -120,
     "elapsed": 1969,
     "user": {
      "displayName": "kasyful humam",
      "userId": "15081687490679394530"
     }
    },
    "ExecuteTime": {
     "end_time": "2024-09-12T12:01:20.308361Z",
     "start_time": "2024-09-12T12:01:19.555740Z"
    }
   },
   "execution_count": 1,
   "outputs": []
  },
  {
   "cell_type": "code",
   "execution_count": 5,
   "metadata": {
    "id": "_F7SnkL5IyiM",
    "colab": {
     "base_uri": "https://localhost:8080/",
     "height": 339
    },
    "executionInfo": {
     "status": "error",
     "timestamp": 1726142311319,
     "user_tz": -120,
     "elapsed": 2876,
     "user": {
      "displayName": "kasyful humam",
      "userId": "15081687490679394530"
     }
    },
    "outputId": "dcdf8d3f-4e59-4942-f1b8-21be64e89b4d",
    "ExecuteTime": {
     "end_time": "2024-09-12T12:06:03.852548Z",
     "start_time": "2024-09-12T12:06:01.046703Z"
    }
   },
   "outputs": [
    {
     "name": "stderr",
     "output_type": "stream",
     "text": [
      "C:\\Users\\khafi\\AppData\\Local\\Temp\\ipykernel_1668\\1548786804.py:1: DtypeWarning: Columns (0,1,2,3,4,5,6,7,8,9,10,11,12,13,18,19,20,21,22,23,24,25,26,27,28,29,30) have mixed types. Specify dtype option on import or set low_memory=False.\n",
      "  df = pd.read_csv('DatasetPT.csv')\n"
     ]
    },
    {
     "data": {
      "text/plain": "  Basic information Unnamed: 1 Unnamed: 2     Unnamed: 3 Responsible variable  \\\n0     Calendar_date   route_id     bus_id  stop_sequence        arrival_delay   \n1          20220108          4      41344              1                  151   \n2          20220108          4      41344              2                  185   \n3          20220108          4      41344              3                  186   \n4          20220108          4      41344              4                  202   \n\n   Unnamed: 5                        Unnamed: 6             Unnamed: 7  \\\n0  dwell_time  travel_time_for_previous_section  scheduled_travel_time   \n1           0                                 0                    120   \n2          24                               171                     45   \n3           0                                55                     41   \n4          12                                42                     94   \n\n            Unnamed: 8    Unnamed: 9  ...          Unnamed: 21  \\\n0  upstream_stop_delay  origin_delay  ...  factor(weather)Rain   \n1                  100           100  ...                    0   \n2                  151           100  ...                    0   \n3                  185           100  ...                    0   \n4                  186           100  ...                    0   \n\n           Unnamed: 22              Unnamed: 23  \\\n0  factor(weather)Snow  factor(temperature)Cold   \n1                    0                        0   \n2                    0                        0   \n3                    0                        0   \n4                    0                        0   \n\n                     Unnamed: 24                Unnamed: 25  \\\n0  factor(temperature)Extra_cold  factor(temperature)Normal   \n1                              0                          1   \n2                              0                          1   \n3                              0                          1   \n4                              0                          1   \n\n                  Unnamed: 26                 Unnamed: 27  \\\n0  factor(day_of_week)weekday  factor(day_of_week)weekend   \n1                           0                           1   \n2                           0                           1   \n3                           0                           1   \n4                           0                           1   \n\n                         Unnamed: 28                      Unnamed: 29  \\\n0  factor(time_of_day)Afternoon_peak  factor(time_of_day)Morning_peak   \n1                                  0                                0   \n2                                  0                                0   \n3                                  0                                0   \n4                                  0                                0   \n\n                   Unnamed: 30  \n0  factor(time_of_day)Off-peak  \n1                            1  \n2                            1  \n3                            1  \n4                            1  \n\n[5 rows x 31 columns]",
      "text/html": "<div>\n<style scoped>\n    .dataframe tbody tr th:only-of-type {\n        vertical-align: middle;\n    }\n\n    .dataframe tbody tr th {\n        vertical-align: top;\n    }\n\n    .dataframe thead th {\n        text-align: right;\n    }\n</style>\n<table border=\"1\" class=\"dataframe\">\n  <thead>\n    <tr style=\"text-align: right;\">\n      <th></th>\n      <th>Basic information</th>\n      <th>Unnamed: 1</th>\n      <th>Unnamed: 2</th>\n      <th>Unnamed: 3</th>\n      <th>Responsible variable</th>\n      <th>Unnamed: 5</th>\n      <th>Unnamed: 6</th>\n      <th>Unnamed: 7</th>\n      <th>Unnamed: 8</th>\n      <th>Unnamed: 9</th>\n      <th>...</th>\n      <th>Unnamed: 21</th>\n      <th>Unnamed: 22</th>\n      <th>Unnamed: 23</th>\n      <th>Unnamed: 24</th>\n      <th>Unnamed: 25</th>\n      <th>Unnamed: 26</th>\n      <th>Unnamed: 27</th>\n      <th>Unnamed: 28</th>\n      <th>Unnamed: 29</th>\n      <th>Unnamed: 30</th>\n    </tr>\n  </thead>\n  <tbody>\n    <tr>\n      <th>0</th>\n      <td>Calendar_date</td>\n      <td>route_id</td>\n      <td>bus_id</td>\n      <td>stop_sequence</td>\n      <td>arrival_delay</td>\n      <td>dwell_time</td>\n      <td>travel_time_for_previous_section</td>\n      <td>scheduled_travel_time</td>\n      <td>upstream_stop_delay</td>\n      <td>origin_delay</td>\n      <td>...</td>\n      <td>factor(weather)Rain</td>\n      <td>factor(weather)Snow</td>\n      <td>factor(temperature)Cold</td>\n      <td>factor(temperature)Extra_cold</td>\n      <td>factor(temperature)Normal</td>\n      <td>factor(day_of_week)weekday</td>\n      <td>factor(day_of_week)weekend</td>\n      <td>factor(time_of_day)Afternoon_peak</td>\n      <td>factor(time_of_day)Morning_peak</td>\n      <td>factor(time_of_day)Off-peak</td>\n    </tr>\n    <tr>\n      <th>1</th>\n      <td>20220108</td>\n      <td>4</td>\n      <td>41344</td>\n      <td>1</td>\n      <td>151</td>\n      <td>0</td>\n      <td>0</td>\n      <td>120</td>\n      <td>100</td>\n      <td>100</td>\n      <td>...</td>\n      <td>0</td>\n      <td>0</td>\n      <td>0</td>\n      <td>0</td>\n      <td>1</td>\n      <td>0</td>\n      <td>1</td>\n      <td>0</td>\n      <td>0</td>\n      <td>1</td>\n    </tr>\n    <tr>\n      <th>2</th>\n      <td>20220108</td>\n      <td>4</td>\n      <td>41344</td>\n      <td>2</td>\n      <td>185</td>\n      <td>24</td>\n      <td>171</td>\n      <td>45</td>\n      <td>151</td>\n      <td>100</td>\n      <td>...</td>\n      <td>0</td>\n      <td>0</td>\n      <td>0</td>\n      <td>0</td>\n      <td>1</td>\n      <td>0</td>\n      <td>1</td>\n      <td>0</td>\n      <td>0</td>\n      <td>1</td>\n    </tr>\n    <tr>\n      <th>3</th>\n      <td>20220108</td>\n      <td>4</td>\n      <td>41344</td>\n      <td>3</td>\n      <td>186</td>\n      <td>0</td>\n      <td>55</td>\n      <td>41</td>\n      <td>185</td>\n      <td>100</td>\n      <td>...</td>\n      <td>0</td>\n      <td>0</td>\n      <td>0</td>\n      <td>0</td>\n      <td>1</td>\n      <td>0</td>\n      <td>1</td>\n      <td>0</td>\n      <td>0</td>\n      <td>1</td>\n    </tr>\n    <tr>\n      <th>4</th>\n      <td>20220108</td>\n      <td>4</td>\n      <td>41344</td>\n      <td>4</td>\n      <td>202</td>\n      <td>12</td>\n      <td>42</td>\n      <td>94</td>\n      <td>186</td>\n      <td>100</td>\n      <td>...</td>\n      <td>0</td>\n      <td>0</td>\n      <td>0</td>\n      <td>0</td>\n      <td>1</td>\n      <td>0</td>\n      <td>1</td>\n      <td>0</td>\n      <td>0</td>\n      <td>1</td>\n    </tr>\n  </tbody>\n</table>\n<p>5 rows × 31 columns</p>\n</div>"
     },
     "execution_count": 5,
     "metadata": {},
     "output_type": "execute_result"
    }
   ],
   "source": [
    "df = pd.read_csv('DatasetPT.csv')\n",
    "df.head()"
   ]
  },
  {
   "cell_type": "code",
   "source": [
    "shape = df.shape\n",
    "shape"
   ],
   "metadata": {
    "id": "puJOSbC1SO6V",
    "ExecuteTime": {
     "end_time": "2024-09-12T12:07:42.614205Z",
     "start_time": "2024-09-12T12:07:42.607900Z"
    }
   },
   "execution_count": 11,
   "outputs": [
    {
     "data": {
      "text/plain": "(545104, 31)"
     },
     "execution_count": 11,
     "metadata": {},
     "output_type": "execute_result"
    }
   ]
  },
  {
   "cell_type": "code",
   "outputs": [
    {
     "name": "stdout",
     "output_type": "stream",
     "text": [
      "Basic information                                              Calendar_date\n",
      "Unnamed: 1                                                          route_id\n",
      "Unnamed: 2                                                            bus_id\n",
      "Unnamed: 3                                                     stop_sequence\n",
      "Responsible variable                                           arrival_delay\n",
      "Unnamed: 5                                                        dwell_time\n",
      "Unnamed: 6                                  travel_time_for_previous_section\n",
      "Unnamed: 7                                             scheduled_travel_time\n",
      "Unnamed: 8                                               upstream_stop_delay\n",
      "Unnamed: 9                                                      origin_delay\n",
      "Unnamed: 10                                               previous_bus_delay\n",
      "Unnamed: 11                                        previous_trip_travel_time\n",
      "Unnamed: 12                                                traffic_condition\n",
      "Unnamed: 13                                                  recurrent_delay\n",
      "Categorical varibles                                                 weather\n",
      "Unnamed: 15                                                      temperature\n",
      "Unnamed: 16                                                      day_of_week\n",
      "Unnamed: 17                                                      time_of_day\n",
      "Categorical variables (dummy variables)            factor(weather)Light_Rain\n",
      "Unnamed: 19                                        factor(weather)Light_Snow\n",
      "Unnamed: 20                                            factor(weather)Normal\n",
      "Unnamed: 21                                              factor(weather)Rain\n",
      "Unnamed: 22                                              factor(weather)Snow\n",
      "Unnamed: 23                                          factor(temperature)Cold\n",
      "Unnamed: 24                                    factor(temperature)Extra_cold\n",
      "Unnamed: 25                                        factor(temperature)Normal\n",
      "Unnamed: 26                                       factor(day_of_week)weekday\n",
      "Unnamed: 27                                       factor(day_of_week)weekend\n",
      "Unnamed: 28                                factor(time_of_day)Afternoon_peak\n",
      "Unnamed: 29                                  factor(time_of_day)Morning_peak\n",
      "Unnamed: 30                                      factor(time_of_day)Off-peak\n",
      "Name: 0, dtype: object\n"
     ]
    }
   ],
   "source": [
    "print(df.iloc[0])"
   ],
   "metadata": {
    "collapsed": false,
    "ExecuteTime": {
     "end_time": "2024-09-12T12:59:02.401869Z",
     "start_time": "2024-09-12T12:59:02.394670Z"
    }
   },
   "execution_count": 16
  },
  {
   "cell_type": "code",
   "outputs": [
    {
     "name": "stdout",
     "output_type": "stream",
     "text": [
      "['arrival_delay' '151' '185' ... -3394 -3389 -3493]\n"
     ]
    }
   ],
   "source": [
    "unique_arrival_delays = df['Responsible variable'].unique()\n",
    "print(unique_arrival_delays)"
   ],
   "metadata": {
    "collapsed": false,
    "ExecuteTime": {
     "end_time": "2024-09-12T13:00:36.447791Z",
     "start_time": "2024-09-12T13:00:36.271981Z"
    }
   },
   "execution_count": 18
  },
  {
   "cell_type": "markdown",
   "source": [
    "Clean data"
   ],
   "metadata": {
    "id": "w_a68Y6zJoSc"
   }
  },
  {
   "cell_type": "code",
   "source": [
    "TransportationData.columns = TransportationData.iloc[0]\n",
    "TransportationData.head()\n",
    "\n",
    "correlation_matrix = TransportationData.drop(['Calendar_date', 'route_id'], axis=1) #fix this later\n",
    "correlation_matrix = correlation_matrix.corr()"
   ],
   "metadata": {
    "colab": {
     "base_uri": "https://localhost:8080/",
     "height": 349
    },
    "id": "JUGuLkmSXeOG",
    "executionInfo": {
     "status": "error",
     "timestamp": 1725694285641,
     "user_tz": -120,
     "elapsed": 317,
     "user": {
      "displayName": "Lucas Larsson Lindh",
      "userId": "17445609863672789154"
     }
    },
    "outputId": "c2ef4899-1d62-49de-adb3-83225d760227"
   },
   "execution_count": null,
   "outputs": []
  },
  {
   "cell_type": "markdown",
   "source": [
    "# Train / Test split"
   ],
   "metadata": {
    "id": "Y1LTfw70ZXH2"
   }
  },
  {
   "cell_type": "code",
   "source": [
    "from sklearn.model_selection import train_test_split\n",
    "#X_train, X_test, y_train, y_test = train_test_split(x, y, test_size=0.2, random_state=42)"
   ],
   "metadata": {
    "id": "kewgtM5OZe3k"
   },
   "execution_count": null,
   "outputs": []
  },
  {
   "cell_type": "markdown",
   "source": [
    "# Create different regression models"
   ],
   "metadata": {
    "id": "Zn0bB3ajZjA5"
   }
  },
  {
   "cell_type": "code",
   "source": [
    "from sklearn.linear_model import LinearRegression\n",
    "\n",
    "# Create a Linear Regression model\n",
    "model = LinearRegression()\n",
    "\n",
    "# Fit the model to the training data\n",
    "model.fit(X_train, y_train)\n",
    "\n",
    "# Predict the test data with the fitted model\n",
    "y_pred = model.predict(X_test)"
   ],
   "metadata": {
    "id": "oNL9D0PfZogh",
    "ExecuteTime": {
     "start_time": "2024-09-12T12:01:20.980661Z"
    }
   },
   "execution_count": null,
   "outputs": []
  },
  {
   "cell_type": "markdown",
   "source": [
    "# Evaluate model"
   ],
   "metadata": {
    "id": "6tx8XmqkZvsI"
   }
  },
  {
   "cell_type": "code",
   "source": [
    "from sklearn.linear_model import LinearRegression\n",
    "\n",
    "# Create a Linear Regression model\n",
    "model = LinearRegression()\n",
    "\n",
    "# Fit the model to the training data\n",
    "model.fit(X_train, y_train)\n",
    "\n",
    "# Predict the test data with the fitted model\n",
    "y_pred = model.predict(X_test)"
   ],
   "metadata": {
    "id": "imvN64pYZytJ",
    "ExecuteTime": {
     "start_time": "2024-09-12T12:01:20.982661Z"
    }
   },
   "execution_count": null,
   "outputs": []
  },
  {
   "cell_type": "markdown",
   "source": [
    "Visualize results"
   ],
   "metadata": {
    "id": "BBDjdVNgZ17s"
   }
  },
  {
   "cell_type": "code",
   "source": [
    "import matplotlib.pyplot as plt\n",
    "\n",
    "# y_test contains the actual target values for the test dataset\n",
    "# y_pred contains the predicted values for the test dataset\n",
    "\n",
    "# Create a scatter plot to visualize the relationship\n",
    "plt.figure(figsize=(8, 6))\n",
    "plt.scatter(y_test, y_pred, alpha=0.5)  # Plot actual vs. predicted values\n",
    "\n",
    "# Add labels and title\n",
    "plt.xlabel(\"Actual Values\")\n",
    "plt.ylabel(\"Predicted Values\")\n",
    "plt.title(\"Actual vs. Predicted Values\")\n",
    "\n",
    "# Add a diagonal line for reference (perfect predictions)\n",
    "plt.plot([min(y_test), max(y_test)], [min(y_test), max(y_test)], linestyle='--', color='red', lw=2)\n",
    "\n",
    "# Show the plot\n",
    "plt.show()"
   ],
   "metadata": {
    "id": "hQ093caZZ464",
    "ExecuteTime": {
     "start_time": "2024-09-12T12:01:20.985661Z"
    }
   },
   "execution_count": null,
   "outputs": []
  },
  {
   "cell_type": "code",
   "source": [
    "print(TransportationData.columns)"
   ],
   "metadata": {
    "colab": {
     "base_uri": "https://localhost:8080/",
     "height": 141
    },
    "id": "YWNFf6flGIbf",
    "executionInfo": {
     "status": "error",
     "timestamp": 1726142265773,
     "user_tz": -120,
     "elapsed": 264,
     "user": {
      "displayName": "kasyful humam",
      "userId": "15081687490679394530"
     }
    },
    "outputId": "e06bdd0a-33ce-4365-8f08-bcf53c70ceb5",
    "ExecuteTime": {
     "end_time": "2024-09-12T12:01:20.989180Z",
     "start_time": "2024-09-12T12:01:20.988179Z"
    }
   },
   "execution_count": null,
   "outputs": []
  }
 ]
}
