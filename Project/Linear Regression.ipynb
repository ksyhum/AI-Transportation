{
 "cells": [
  {
   "cell_type": "code",
   "execution_count": 28,
   "id": "aa70a945",
   "metadata": {
    "ExecuteTime": {
     "end_time": "2024-09-23T12:53:18.167957Z",
     "start_time": "2024-09-23T12:53:18.163270Z"
    }
   },
   "outputs": [],
   "source": [
    "import pandas as pd"
   ]
  },
  {
   "cell_type": "code",
   "execution_count": 29,
   "id": "7a54880f",
   "metadata": {
    "ExecuteTime": {
     "end_time": "2024-09-23T12:53:20.182205Z",
     "start_time": "2024-09-23T12:53:18.815110Z"
    }
   },
   "outputs": [],
   "source": [
    "# import data, skiprows=1 karena data di csv mulai dari baris ke-2\n",
    "df = pd.read_csv(\"Dataset-PT.csv\",skiprows=1)"
   ]
  },
  {
   "cell_type": "code",
   "execution_count": 30,
   "id": "abbf2c31",
   "metadata": {
    "ExecuteTime": {
     "end_time": "2024-09-23T12:53:20.832943Z",
     "start_time": "2024-09-23T12:53:20.812054Z"
    }
   },
   "outputs": [
    {
     "data": {
      "text/plain": "   Calendar_date  route_id  bus_id  stop_sequence  arrival_delay  dwell_time  \\\n0       20220108         4   41344              1            151           0   \n1       20220108         4   41344              2            185          24   \n2       20220108         4   41344              3            186           0   \n3       20220108         4   41344              4            202          12   \n4       20220108         4   41344              5            242          21   \n\n   travel_time_for_previous_section  scheduled_travel_time  \\\n0                                 0                    120   \n1                               171                     45   \n2                                55                     41   \n3                                42                     94   \n4                                98                     86   \n\n   upstream_stop_delay  origin_delay  ...  factor(weather)Rain  \\\n0                  100           100  ...                    0   \n1                  151           100  ...                    0   \n2                  185           100  ...                    0   \n3                  186           100  ...                    0   \n4                  202           100  ...                    0   \n\n   factor(weather)Snow  factor(temperature)Cold  \\\n0                    0                        0   \n1                    0                        0   \n2                    0                        0   \n3                    0                        0   \n4                    0                        0   \n\n   factor(temperature)Extra_cold factor(temperature)Normal  \\\n0                              0                         1   \n1                              0                         1   \n2                              0                         1   \n3                              0                         1   \n4                              0                         1   \n\n  factor(day_of_week)weekday factor(day_of_week)weekend  \\\n0                          0                          1   \n1                          0                          1   \n2                          0                          1   \n3                          0                          1   \n4                          0                          1   \n\n  factor(time_of_day)Afternoon_peak  factor(time_of_day)Morning_peak  \\\n0                                 0                                0   \n1                                 0                                0   \n2                                 0                                0   \n3                                 0                                0   \n4                                 0                                0   \n\n   factor(time_of_day)Off-peak  \n0                            1  \n1                            1  \n2                            1  \n3                            1  \n4                            1  \n\n[5 rows x 31 columns]",
      "text/html": "<div>\n<style scoped>\n    .dataframe tbody tr th:only-of-type {\n        vertical-align: middle;\n    }\n\n    .dataframe tbody tr th {\n        vertical-align: top;\n    }\n\n    .dataframe thead th {\n        text-align: right;\n    }\n</style>\n<table border=\"1\" class=\"dataframe\">\n  <thead>\n    <tr style=\"text-align: right;\">\n      <th></th>\n      <th>Calendar_date</th>\n      <th>route_id</th>\n      <th>bus_id</th>\n      <th>stop_sequence</th>\n      <th>arrival_delay</th>\n      <th>dwell_time</th>\n      <th>travel_time_for_previous_section</th>\n      <th>scheduled_travel_time</th>\n      <th>upstream_stop_delay</th>\n      <th>origin_delay</th>\n      <th>...</th>\n      <th>factor(weather)Rain</th>\n      <th>factor(weather)Snow</th>\n      <th>factor(temperature)Cold</th>\n      <th>factor(temperature)Extra_cold</th>\n      <th>factor(temperature)Normal</th>\n      <th>factor(day_of_week)weekday</th>\n      <th>factor(day_of_week)weekend</th>\n      <th>factor(time_of_day)Afternoon_peak</th>\n      <th>factor(time_of_day)Morning_peak</th>\n      <th>factor(time_of_day)Off-peak</th>\n    </tr>\n  </thead>\n  <tbody>\n    <tr>\n      <th>0</th>\n      <td>20220108</td>\n      <td>4</td>\n      <td>41344</td>\n      <td>1</td>\n      <td>151</td>\n      <td>0</td>\n      <td>0</td>\n      <td>120</td>\n      <td>100</td>\n      <td>100</td>\n      <td>...</td>\n      <td>0</td>\n      <td>0</td>\n      <td>0</td>\n      <td>0</td>\n      <td>1</td>\n      <td>0</td>\n      <td>1</td>\n      <td>0</td>\n      <td>0</td>\n      <td>1</td>\n    </tr>\n    <tr>\n      <th>1</th>\n      <td>20220108</td>\n      <td>4</td>\n      <td>41344</td>\n      <td>2</td>\n      <td>185</td>\n      <td>24</td>\n      <td>171</td>\n      <td>45</td>\n      <td>151</td>\n      <td>100</td>\n      <td>...</td>\n      <td>0</td>\n      <td>0</td>\n      <td>0</td>\n      <td>0</td>\n      <td>1</td>\n      <td>0</td>\n      <td>1</td>\n      <td>0</td>\n      <td>0</td>\n      <td>1</td>\n    </tr>\n    <tr>\n      <th>2</th>\n      <td>20220108</td>\n      <td>4</td>\n      <td>41344</td>\n      <td>3</td>\n      <td>186</td>\n      <td>0</td>\n      <td>55</td>\n      <td>41</td>\n      <td>185</td>\n      <td>100</td>\n      <td>...</td>\n      <td>0</td>\n      <td>0</td>\n      <td>0</td>\n      <td>0</td>\n      <td>1</td>\n      <td>0</td>\n      <td>1</td>\n      <td>0</td>\n      <td>0</td>\n      <td>1</td>\n    </tr>\n    <tr>\n      <th>3</th>\n      <td>20220108</td>\n      <td>4</td>\n      <td>41344</td>\n      <td>4</td>\n      <td>202</td>\n      <td>12</td>\n      <td>42</td>\n      <td>94</td>\n      <td>186</td>\n      <td>100</td>\n      <td>...</td>\n      <td>0</td>\n      <td>0</td>\n      <td>0</td>\n      <td>0</td>\n      <td>1</td>\n      <td>0</td>\n      <td>1</td>\n      <td>0</td>\n      <td>0</td>\n      <td>1</td>\n    </tr>\n    <tr>\n      <th>4</th>\n      <td>20220108</td>\n      <td>4</td>\n      <td>41344</td>\n      <td>5</td>\n      <td>242</td>\n      <td>21</td>\n      <td>98</td>\n      <td>86</td>\n      <td>202</td>\n      <td>100</td>\n      <td>...</td>\n      <td>0</td>\n      <td>0</td>\n      <td>0</td>\n      <td>0</td>\n      <td>1</td>\n      <td>0</td>\n      <td>1</td>\n      <td>0</td>\n      <td>0</td>\n      <td>1</td>\n    </tr>\n  </tbody>\n</table>\n<p>5 rows × 31 columns</p>\n</div>"
     },
     "execution_count": 30,
     "metadata": {},
     "output_type": "execute_result"
    }
   ],
   "source": [
    "df.head()"
   ]
  },
  {
   "cell_type": "code",
   "execution_count": 31,
   "id": "71fd736b",
   "metadata": {
    "ExecuteTime": {
     "end_time": "2024-09-23T12:53:21.847918Z",
     "start_time": "2024-09-23T12:53:21.841672Z"
    }
   },
   "outputs": [
    {
     "data": {
      "text/plain": "Index(['Calendar_date', 'route_id', 'bus_id', 'stop_sequence', 'arrival_delay',\n       'dwell_time', 'travel_time_for_previous_section',\n       'scheduled_travel_time', 'upstream_stop_delay', 'origin_delay',\n       'previous_bus_delay', 'previous_trip_travel_time', 'traffic_condition',\n       'recurrent_delay', 'weather', 'temperature', 'day_of_week',\n       'time_of_day', 'factor(weather)Light_Rain', 'factor(weather)Light_Snow',\n       'factor(weather)Normal', 'factor(weather)Rain', 'factor(weather)Snow',\n       'factor(temperature)Cold', 'factor(temperature)Extra_cold',\n       'factor(temperature)Normal', 'factor(day_of_week)weekday',\n       'factor(day_of_week)weekend', 'factor(time_of_day)Afternoon_peak',\n       'factor(time_of_day)Morning_peak', 'factor(time_of_day)Off-peak'],\n      dtype='object')"
     },
     "execution_count": 31,
     "metadata": {},
     "output_type": "execute_result"
    }
   ],
   "source": [
    "df.columns"
   ]
  },
  {
   "cell_type": "code",
   "execution_count": 32,
   "id": "c9684de6",
   "metadata": {
    "ExecuteTime": {
     "end_time": "2024-09-23T12:53:22.863717Z",
     "start_time": "2024-09-23T12:53:22.852962Z"
    }
   },
   "outputs": [
    {
     "name": "stdout",
     "output_type": "stream",
     "text": [
      "Calendar_date                          int64\n",
      "route_id                               int64\n",
      "bus_id                                 int64\n",
      "stop_sequence                          int64\n",
      "arrival_delay                          int64\n",
      "dwell_time                             int64\n",
      "travel_time_for_previous_section       int64\n",
      "scheduled_travel_time                  int64\n",
      "upstream_stop_delay                    int64\n",
      "origin_delay                           int64\n",
      "previous_bus_delay                     int64\n",
      "previous_trip_travel_time              int64\n",
      "traffic_condition                    float64\n",
      "recurrent_delay                      float64\n",
      "weather                               object\n",
      "temperature                           object\n",
      "day_of_week                           object\n",
      "time_of_day                           object\n",
      "factor(weather)Light_Rain              int64\n",
      "factor(weather)Light_Snow              int64\n",
      "factor(weather)Normal                  int64\n",
      "factor(weather)Rain                    int64\n",
      "factor(weather)Snow                    int64\n",
      "factor(temperature)Cold                int64\n",
      "factor(temperature)Extra_cold          int64\n",
      "factor(temperature)Normal              int64\n",
      "factor(day_of_week)weekday             int64\n",
      "factor(day_of_week)weekend             int64\n",
      "factor(time_of_day)Afternoon_peak      int64\n",
      "factor(time_of_day)Morning_peak        int64\n",
      "factor(time_of_day)Off-peak            int64\n",
      "dtype: object\n"
     ]
    }
   ],
   "source": [
    "print(df.dtypes)"
   ]
  },
  {
   "cell_type": "code",
   "outputs": [],
   "source": [
    "df = df.drop(['weather', 'temperature', 'day_of_week','time_of_day'], axis=1)"
   ],
   "metadata": {
    "collapsed": false,
    "ExecuteTime": {
     "end_time": "2024-09-23T12:53:24.343108Z",
     "start_time": "2024-09-23T12:53:24.284209Z"
    }
   },
   "id": "a4af5286b5102d43",
   "execution_count": 33
  },
  {
   "cell_type": "code",
   "execution_count": 34,
   "id": "1d8560e4",
   "metadata": {
    "ExecuteTime": {
     "end_time": "2024-09-23T12:53:33.481002Z",
     "start_time": "2024-09-23T12:53:33.469294Z"
    }
   },
   "outputs": [
    {
     "data": {
      "text/plain": "   Calendar_date  route_id  bus_id  stop_sequence  arrival_delay  dwell_time  \\\n0       20220108         4   41344              1            151           0   \n1       20220108         4   41344              2            185          24   \n2       20220108         4   41344              3            186           0   \n3       20220108         4   41344              4            202          12   \n4       20220108         4   41344              5            242          21   \n\n   travel_time_for_previous_section  scheduled_travel_time  \\\n0                                 0                    120   \n1                               171                     45   \n2                                55                     41   \n3                                42                     94   \n4                                98                     86   \n\n   upstream_stop_delay  origin_delay  ...  factor(weather)Rain  \\\n0                  100           100  ...                    0   \n1                  151           100  ...                    0   \n2                  185           100  ...                    0   \n3                  186           100  ...                    0   \n4                  202           100  ...                    0   \n\n   factor(weather)Snow  factor(temperature)Cold  \\\n0                    0                        0   \n1                    0                        0   \n2                    0                        0   \n3                    0                        0   \n4                    0                        0   \n\n   factor(temperature)Extra_cold  factor(temperature)Normal  \\\n0                              0                          1   \n1                              0                          1   \n2                              0                          1   \n3                              0                          1   \n4                              0                          1   \n\n   factor(day_of_week)weekday  factor(day_of_week)weekend  \\\n0                           0                           1   \n1                           0                           1   \n2                           0                           1   \n3                           0                           1   \n4                           0                           1   \n\n   factor(time_of_day)Afternoon_peak  factor(time_of_day)Morning_peak  \\\n0                                  0                                0   \n1                                  0                                0   \n2                                  0                                0   \n3                                  0                                0   \n4                                  0                                0   \n\n   factor(time_of_day)Off-peak  \n0                            1  \n1                            1  \n2                            1  \n3                            1  \n4                            1  \n\n[5 rows x 27 columns]",
      "text/html": "<div>\n<style scoped>\n    .dataframe tbody tr th:only-of-type {\n        vertical-align: middle;\n    }\n\n    .dataframe tbody tr th {\n        vertical-align: top;\n    }\n\n    .dataframe thead th {\n        text-align: right;\n    }\n</style>\n<table border=\"1\" class=\"dataframe\">\n  <thead>\n    <tr style=\"text-align: right;\">\n      <th></th>\n      <th>Calendar_date</th>\n      <th>route_id</th>\n      <th>bus_id</th>\n      <th>stop_sequence</th>\n      <th>arrival_delay</th>\n      <th>dwell_time</th>\n      <th>travel_time_for_previous_section</th>\n      <th>scheduled_travel_time</th>\n      <th>upstream_stop_delay</th>\n      <th>origin_delay</th>\n      <th>...</th>\n      <th>factor(weather)Rain</th>\n      <th>factor(weather)Snow</th>\n      <th>factor(temperature)Cold</th>\n      <th>factor(temperature)Extra_cold</th>\n      <th>factor(temperature)Normal</th>\n      <th>factor(day_of_week)weekday</th>\n      <th>factor(day_of_week)weekend</th>\n      <th>factor(time_of_day)Afternoon_peak</th>\n      <th>factor(time_of_day)Morning_peak</th>\n      <th>factor(time_of_day)Off-peak</th>\n    </tr>\n  </thead>\n  <tbody>\n    <tr>\n      <th>0</th>\n      <td>20220108</td>\n      <td>4</td>\n      <td>41344</td>\n      <td>1</td>\n      <td>151</td>\n      <td>0</td>\n      <td>0</td>\n      <td>120</td>\n      <td>100</td>\n      <td>100</td>\n      <td>...</td>\n      <td>0</td>\n      <td>0</td>\n      <td>0</td>\n      <td>0</td>\n      <td>1</td>\n      <td>0</td>\n      <td>1</td>\n      <td>0</td>\n      <td>0</td>\n      <td>1</td>\n    </tr>\n    <tr>\n      <th>1</th>\n      <td>20220108</td>\n      <td>4</td>\n      <td>41344</td>\n      <td>2</td>\n      <td>185</td>\n      <td>24</td>\n      <td>171</td>\n      <td>45</td>\n      <td>151</td>\n      <td>100</td>\n      <td>...</td>\n      <td>0</td>\n      <td>0</td>\n      <td>0</td>\n      <td>0</td>\n      <td>1</td>\n      <td>0</td>\n      <td>1</td>\n      <td>0</td>\n      <td>0</td>\n      <td>1</td>\n    </tr>\n    <tr>\n      <th>2</th>\n      <td>20220108</td>\n      <td>4</td>\n      <td>41344</td>\n      <td>3</td>\n      <td>186</td>\n      <td>0</td>\n      <td>55</td>\n      <td>41</td>\n      <td>185</td>\n      <td>100</td>\n      <td>...</td>\n      <td>0</td>\n      <td>0</td>\n      <td>0</td>\n      <td>0</td>\n      <td>1</td>\n      <td>0</td>\n      <td>1</td>\n      <td>0</td>\n      <td>0</td>\n      <td>1</td>\n    </tr>\n    <tr>\n      <th>3</th>\n      <td>20220108</td>\n      <td>4</td>\n      <td>41344</td>\n      <td>4</td>\n      <td>202</td>\n      <td>12</td>\n      <td>42</td>\n      <td>94</td>\n      <td>186</td>\n      <td>100</td>\n      <td>...</td>\n      <td>0</td>\n      <td>0</td>\n      <td>0</td>\n      <td>0</td>\n      <td>1</td>\n      <td>0</td>\n      <td>1</td>\n      <td>0</td>\n      <td>0</td>\n      <td>1</td>\n    </tr>\n    <tr>\n      <th>4</th>\n      <td>20220108</td>\n      <td>4</td>\n      <td>41344</td>\n      <td>5</td>\n      <td>242</td>\n      <td>21</td>\n      <td>98</td>\n      <td>86</td>\n      <td>202</td>\n      <td>100</td>\n      <td>...</td>\n      <td>0</td>\n      <td>0</td>\n      <td>0</td>\n      <td>0</td>\n      <td>1</td>\n      <td>0</td>\n      <td>1</td>\n      <td>0</td>\n      <td>0</td>\n      <td>1</td>\n    </tr>\n  </tbody>\n</table>\n<p>5 rows × 27 columns</p>\n</div>"
     },
     "execution_count": 34,
     "metadata": {},
     "output_type": "execute_result"
    }
   ],
   "source": [
    "df.head()"
   ]
  },
  {
   "cell_type": "code",
   "execution_count": 35,
   "id": "fb465688",
   "metadata": {
    "ExecuteTime": {
     "end_time": "2024-09-23T12:53:34.441282Z",
     "start_time": "2024-09-23T12:53:34.386454Z"
    }
   },
   "outputs": [
    {
     "data": {
      "text/plain": "   Calendar_date  route_id  bus_id  stop_sequence  dwell_time  \\\n0       20220108         4   41344              1           0   \n1       20220108         4   41344              2          24   \n2       20220108         4   41344              3           0   \n3       20220108         4   41344              4          12   \n4       20220108         4   41344              5          21   \n\n   travel_time_for_previous_section  scheduled_travel_time  \\\n0                                 0                    120   \n1                               171                     45   \n2                                55                     41   \n3                                42                     94   \n4                                98                     86   \n\n   upstream_stop_delay  origin_delay  previous_bus_delay  ...  \\\n0                  100           100                 160  ...   \n1                  151           100                 198  ...   \n2                  185           100                 189  ...   \n3                  186           100                 200  ...   \n4                  202           100                 256  ...   \n\n   factor(weather)Rain  factor(weather)Snow  factor(temperature)Cold  \\\n0                    0                    0                        0   \n1                    0                    0                        0   \n2                    0                    0                        0   \n3                    0                    0                        0   \n4                    0                    0                        0   \n\n   factor(temperature)Extra_cold  factor(temperature)Normal  \\\n0                              0                          1   \n1                              0                          1   \n2                              0                          1   \n3                              0                          1   \n4                              0                          1   \n\n   factor(day_of_week)weekday  factor(day_of_week)weekend  \\\n0                           0                           1   \n1                           0                           1   \n2                           0                           1   \n3                           0                           1   \n4                           0                           1   \n\n   factor(time_of_day)Afternoon_peak  factor(time_of_day)Morning_peak  \\\n0                                  0                                0   \n1                                  0                                0   \n2                                  0                                0   \n3                                  0                                0   \n4                                  0                                0   \n\n   factor(time_of_day)Off-peak  \n0                            1  \n1                            1  \n2                            1  \n3                            1  \n4                            1  \n\n[5 rows x 26 columns]",
      "text/html": "<div>\n<style scoped>\n    .dataframe tbody tr th:only-of-type {\n        vertical-align: middle;\n    }\n\n    .dataframe tbody tr th {\n        vertical-align: top;\n    }\n\n    .dataframe thead th {\n        text-align: right;\n    }\n</style>\n<table border=\"1\" class=\"dataframe\">\n  <thead>\n    <tr style=\"text-align: right;\">\n      <th></th>\n      <th>Calendar_date</th>\n      <th>route_id</th>\n      <th>bus_id</th>\n      <th>stop_sequence</th>\n      <th>dwell_time</th>\n      <th>travel_time_for_previous_section</th>\n      <th>scheduled_travel_time</th>\n      <th>upstream_stop_delay</th>\n      <th>origin_delay</th>\n      <th>previous_bus_delay</th>\n      <th>...</th>\n      <th>factor(weather)Rain</th>\n      <th>factor(weather)Snow</th>\n      <th>factor(temperature)Cold</th>\n      <th>factor(temperature)Extra_cold</th>\n      <th>factor(temperature)Normal</th>\n      <th>factor(day_of_week)weekday</th>\n      <th>factor(day_of_week)weekend</th>\n      <th>factor(time_of_day)Afternoon_peak</th>\n      <th>factor(time_of_day)Morning_peak</th>\n      <th>factor(time_of_day)Off-peak</th>\n    </tr>\n  </thead>\n  <tbody>\n    <tr>\n      <th>0</th>\n      <td>20220108</td>\n      <td>4</td>\n      <td>41344</td>\n      <td>1</td>\n      <td>0</td>\n      <td>0</td>\n      <td>120</td>\n      <td>100</td>\n      <td>100</td>\n      <td>160</td>\n      <td>...</td>\n      <td>0</td>\n      <td>0</td>\n      <td>0</td>\n      <td>0</td>\n      <td>1</td>\n      <td>0</td>\n      <td>1</td>\n      <td>0</td>\n      <td>0</td>\n      <td>1</td>\n    </tr>\n    <tr>\n      <th>1</th>\n      <td>20220108</td>\n      <td>4</td>\n      <td>41344</td>\n      <td>2</td>\n      <td>24</td>\n      <td>171</td>\n      <td>45</td>\n      <td>151</td>\n      <td>100</td>\n      <td>198</td>\n      <td>...</td>\n      <td>0</td>\n      <td>0</td>\n      <td>0</td>\n      <td>0</td>\n      <td>1</td>\n      <td>0</td>\n      <td>1</td>\n      <td>0</td>\n      <td>0</td>\n      <td>1</td>\n    </tr>\n    <tr>\n      <th>2</th>\n      <td>20220108</td>\n      <td>4</td>\n      <td>41344</td>\n      <td>3</td>\n      <td>0</td>\n      <td>55</td>\n      <td>41</td>\n      <td>185</td>\n      <td>100</td>\n      <td>189</td>\n      <td>...</td>\n      <td>0</td>\n      <td>0</td>\n      <td>0</td>\n      <td>0</td>\n      <td>1</td>\n      <td>0</td>\n      <td>1</td>\n      <td>0</td>\n      <td>0</td>\n      <td>1</td>\n    </tr>\n    <tr>\n      <th>3</th>\n      <td>20220108</td>\n      <td>4</td>\n      <td>41344</td>\n      <td>4</td>\n      <td>12</td>\n      <td>42</td>\n      <td>94</td>\n      <td>186</td>\n      <td>100</td>\n      <td>200</td>\n      <td>...</td>\n      <td>0</td>\n      <td>0</td>\n      <td>0</td>\n      <td>0</td>\n      <td>1</td>\n      <td>0</td>\n      <td>1</td>\n      <td>0</td>\n      <td>0</td>\n      <td>1</td>\n    </tr>\n    <tr>\n      <th>4</th>\n      <td>20220108</td>\n      <td>4</td>\n      <td>41344</td>\n      <td>5</td>\n      <td>21</td>\n      <td>98</td>\n      <td>86</td>\n      <td>202</td>\n      <td>100</td>\n      <td>256</td>\n      <td>...</td>\n      <td>0</td>\n      <td>0</td>\n      <td>0</td>\n      <td>0</td>\n      <td>1</td>\n      <td>0</td>\n      <td>1</td>\n      <td>0</td>\n      <td>0</td>\n      <td>1</td>\n    </tr>\n  </tbody>\n</table>\n<p>5 rows × 26 columns</p>\n</div>"
     },
     "execution_count": 35,
     "metadata": {},
     "output_type": "execute_result"
    }
   ],
   "source": [
    "x = df.drop(['arrival_delay'], axis=1)\n",
    "x.head()"
   ]
  },
  {
   "cell_type": "code",
   "execution_count": 36,
   "id": "0d1673b7",
   "metadata": {
    "ExecuteTime": {
     "end_time": "2024-09-23T12:53:35.528659Z",
     "start_time": "2024-09-23T12:53:35.520748Z"
    }
   },
   "outputs": [
    {
     "data": {
      "text/plain": "Index(['Calendar_date', 'route_id', 'bus_id', 'stop_sequence', 'dwell_time',\n       'travel_time_for_previous_section', 'scheduled_travel_time',\n       'upstream_stop_delay', 'origin_delay', 'previous_bus_delay',\n       'previous_trip_travel_time', 'traffic_condition', 'recurrent_delay',\n       'factor(weather)Light_Rain', 'factor(weather)Light_Snow',\n       'factor(weather)Normal', 'factor(weather)Rain', 'factor(weather)Snow',\n       'factor(temperature)Cold', 'factor(temperature)Extra_cold',\n       'factor(temperature)Normal', 'factor(day_of_week)weekday',\n       'factor(day_of_week)weekend', 'factor(time_of_day)Afternoon_peak',\n       'factor(time_of_day)Morning_peak', 'factor(time_of_day)Off-peak'],\n      dtype='object')"
     },
     "execution_count": 36,
     "metadata": {},
     "output_type": "execute_result"
    }
   ],
   "source": [
    "x.columns"
   ]
  },
  {
   "cell_type": "code",
   "execution_count": 37,
   "id": "d3a240a7",
   "metadata": {
    "ExecuteTime": {
     "end_time": "2024-09-23T12:53:36.316887Z",
     "start_time": "2024-09-23T12:53:36.306229Z"
    }
   },
   "outputs": [
    {
     "data": {
      "text/plain": "0    151\n1    185\n2    186\n3    202\n4    242\nName: arrival_delay, dtype: int64"
     },
     "execution_count": 37,
     "metadata": {},
     "output_type": "execute_result"
    }
   ],
   "source": [
    "y = df['arrival_delay']\n",
    "y.head()"
   ]
  },
  {
   "cell_type": "code",
   "execution_count": 38,
   "id": "31354432",
   "metadata": {
    "ExecuteTime": {
     "end_time": "2024-09-23T12:53:37.506523Z",
     "start_time": "2024-09-23T12:53:37.218156Z"
    }
   },
   "outputs": [],
   "source": [
    "from sklearn.model_selection import train_test_split\n",
    "X_train, X_test, y_train, y_test = train_test_split(x, y, test_size=0.2, random_state=42)"
   ]
  },
  {
   "cell_type": "code",
   "execution_count": 39,
   "id": "806b1818",
   "metadata": {
    "ExecuteTime": {
     "end_time": "2024-09-23T12:53:38.733899Z",
     "start_time": "2024-09-23T12:53:38.380174Z"
    }
   },
   "outputs": [],
   "source": [
    "from sklearn.linear_model import LinearRegression\n",
    "\n",
    "# Create a Linear Regression model\n",
    "model_LR = LinearRegression()\n",
    "\n",
    "# Fit the model to the training data\n",
    "model_LR.fit(X_train, y_train)\n",
    "\n",
    "# Predict the test data with the fitted model\n",
    "y_pred_LR = model_LR.predict(X_test)"
   ]
  },
  {
   "cell_type": "code",
   "execution_count": 40,
   "id": "29612b5a",
   "metadata": {
    "ExecuteTime": {
     "end_time": "2024-09-23T12:53:40.154291Z",
     "start_time": "2024-09-23T12:53:40.104869Z"
    }
   },
   "outputs": [
    {
     "name": "stdout",
     "output_type": "stream",
     "text": [
      "Mean Absolute Error: 12.583802291927022\n",
      "Mean Squared Error: 396.99938489256004\n",
      "R-squared: 0.9893826638211628\n"
     ]
    }
   ],
   "source": [
    "from sklearn.metrics import mean_absolute_error, mean_squared_error, r2_score\n",
    "\n",
    "mae_LR = mean_absolute_error(y_test, y_pred_LR)\n",
    "mse_LR = mean_squared_error(y_test, y_pred_LR)\n",
    "r2_LR = r2_score(y_test, y_pred_LR)\n",
    "\n",
    "print(f\"Mean Absolute Error: {mae_LR}\")\n",
    "print(f\"Mean Squared Error: {mse_LR}\")\n",
    "print(f\"R-squared: {r2_LR}\")"
   ]
  }
 ],
 "metadata": {
  "kernelspec": {
   "display_name": "Python 3 (ipykernel)",
   "language": "python",
   "name": "python3"
  },
  "language_info": {
   "codemirror_mode": {
    "name": "ipython",
    "version": 3
   },
   "file_extension": ".py",
   "mimetype": "text/x-python",
   "name": "python",
   "nbconvert_exporter": "python",
   "pygments_lexer": "ipython3",
   "version": "3.11.5"
  }
 },
 "nbformat": 4,
 "nbformat_minor": 5
}
