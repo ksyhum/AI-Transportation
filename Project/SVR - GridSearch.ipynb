{
 "cells": [
  {
   "cell_type": "code",
   "execution_count": 1,
   "id": "275a5a92",
   "metadata": {
    "ExecuteTime": {
     "end_time": "2024-09-23T20:56:36.796359Z",
     "start_time": "2024-09-23T20:56:36.791327Z"
    }
   },
   "outputs": [],
   "source": [
    "import pandas as pd"
   ]
  },
  {
   "cell_type": "code",
   "execution_count": 2,
   "id": "c0019be0",
   "metadata": {
    "ExecuteTime": {
     "end_time": "2024-09-23T20:56:38.094701Z",
     "start_time": "2024-09-23T20:56:36.803367Z"
    }
   },
   "outputs": [],
   "source": [
    "# import data, skiprows=1 karena data di csv mulai dari baris ke-2\n",
    "dataset = pd.read_csv(\"Dataset-PT.csv\",skiprows=1)"
   ]
  },
  {
   "cell_type": "code",
   "execution_count": 3,
   "id": "74672296",
   "metadata": {
    "ExecuteTime": {
     "end_time": "2024-09-23T20:56:38.283858Z",
     "start_time": "2024-09-23T20:56:38.105707Z"
    }
   },
   "outputs": [
    {
     "data": {
      "text/plain": "   Calendar_date  route_id  bus_id  stop_sequence  arrival_delay  dwell_time  \\\n0       20220108         4   41344              1            151           0   \n1       20220108         4   41344              2            185          24   \n2       20220108         4   41344              3            186           0   \n3       20220108         4   41344              4            202          12   \n4       20220108         4   41344              5            242          21   \n\n   travel_time_for_previous_section  scheduled_travel_time  \\\n0                                 0                    120   \n1                               171                     45   \n2                                55                     41   \n3                                42                     94   \n4                                98                     86   \n\n   upstream_stop_delay  origin_delay  ...  factor(weather)Rain  \\\n0                  100           100  ...                    0   \n1                  151           100  ...                    0   \n2                  185           100  ...                    0   \n3                  186           100  ...                    0   \n4                  202           100  ...                    0   \n\n   factor(weather)Snow  factor(temperature)Cold  \\\n0                    0                        0   \n1                    0                        0   \n2                    0                        0   \n3                    0                        0   \n4                    0                        0   \n\n   factor(temperature)Extra_cold factor(temperature)Normal  \\\n0                              0                         1   \n1                              0                         1   \n2                              0                         1   \n3                              0                         1   \n4                              0                         1   \n\n  factor(day_of_week)weekday factor(day_of_week)weekend  \\\n0                          0                          1   \n1                          0                          1   \n2                          0                          1   \n3                          0                          1   \n4                          0                          1   \n\n  factor(time_of_day)Afternoon_peak  factor(time_of_day)Morning_peak  \\\n0                                 0                                0   \n1                                 0                                0   \n2                                 0                                0   \n3                                 0                                0   \n4                                 0                                0   \n\n   factor(time_of_day)Off-peak  \n0                            1  \n1                            1  \n2                            1  \n3                            1  \n4                            1  \n\n[5 rows x 31 columns]",
      "text/html": "<div>\n<style scoped>\n    .dataframe tbody tr th:only-of-type {\n        vertical-align: middle;\n    }\n\n    .dataframe tbody tr th {\n        vertical-align: top;\n    }\n\n    .dataframe thead th {\n        text-align: right;\n    }\n</style>\n<table border=\"1\" class=\"dataframe\">\n  <thead>\n    <tr style=\"text-align: right;\">\n      <th></th>\n      <th>Calendar_date</th>\n      <th>route_id</th>\n      <th>bus_id</th>\n      <th>stop_sequence</th>\n      <th>arrival_delay</th>\n      <th>dwell_time</th>\n      <th>travel_time_for_previous_section</th>\n      <th>scheduled_travel_time</th>\n      <th>upstream_stop_delay</th>\n      <th>origin_delay</th>\n      <th>...</th>\n      <th>factor(weather)Rain</th>\n      <th>factor(weather)Snow</th>\n      <th>factor(temperature)Cold</th>\n      <th>factor(temperature)Extra_cold</th>\n      <th>factor(temperature)Normal</th>\n      <th>factor(day_of_week)weekday</th>\n      <th>factor(day_of_week)weekend</th>\n      <th>factor(time_of_day)Afternoon_peak</th>\n      <th>factor(time_of_day)Morning_peak</th>\n      <th>factor(time_of_day)Off-peak</th>\n    </tr>\n  </thead>\n  <tbody>\n    <tr>\n      <th>0</th>\n      <td>20220108</td>\n      <td>4</td>\n      <td>41344</td>\n      <td>1</td>\n      <td>151</td>\n      <td>0</td>\n      <td>0</td>\n      <td>120</td>\n      <td>100</td>\n      <td>100</td>\n      <td>...</td>\n      <td>0</td>\n      <td>0</td>\n      <td>0</td>\n      <td>0</td>\n      <td>1</td>\n      <td>0</td>\n      <td>1</td>\n      <td>0</td>\n      <td>0</td>\n      <td>1</td>\n    </tr>\n    <tr>\n      <th>1</th>\n      <td>20220108</td>\n      <td>4</td>\n      <td>41344</td>\n      <td>2</td>\n      <td>185</td>\n      <td>24</td>\n      <td>171</td>\n      <td>45</td>\n      <td>151</td>\n      <td>100</td>\n      <td>...</td>\n      <td>0</td>\n      <td>0</td>\n      <td>0</td>\n      <td>0</td>\n      <td>1</td>\n      <td>0</td>\n      <td>1</td>\n      <td>0</td>\n      <td>0</td>\n      <td>1</td>\n    </tr>\n    <tr>\n      <th>2</th>\n      <td>20220108</td>\n      <td>4</td>\n      <td>41344</td>\n      <td>3</td>\n      <td>186</td>\n      <td>0</td>\n      <td>55</td>\n      <td>41</td>\n      <td>185</td>\n      <td>100</td>\n      <td>...</td>\n      <td>0</td>\n      <td>0</td>\n      <td>0</td>\n      <td>0</td>\n      <td>1</td>\n      <td>0</td>\n      <td>1</td>\n      <td>0</td>\n      <td>0</td>\n      <td>1</td>\n    </tr>\n    <tr>\n      <th>3</th>\n      <td>20220108</td>\n      <td>4</td>\n      <td>41344</td>\n      <td>4</td>\n      <td>202</td>\n      <td>12</td>\n      <td>42</td>\n      <td>94</td>\n      <td>186</td>\n      <td>100</td>\n      <td>...</td>\n      <td>0</td>\n      <td>0</td>\n      <td>0</td>\n      <td>0</td>\n      <td>1</td>\n      <td>0</td>\n      <td>1</td>\n      <td>0</td>\n      <td>0</td>\n      <td>1</td>\n    </tr>\n    <tr>\n      <th>4</th>\n      <td>20220108</td>\n      <td>4</td>\n      <td>41344</td>\n      <td>5</td>\n      <td>242</td>\n      <td>21</td>\n      <td>98</td>\n      <td>86</td>\n      <td>202</td>\n      <td>100</td>\n      <td>...</td>\n      <td>0</td>\n      <td>0</td>\n      <td>0</td>\n      <td>0</td>\n      <td>1</td>\n      <td>0</td>\n      <td>1</td>\n      <td>0</td>\n      <td>0</td>\n      <td>1</td>\n    </tr>\n  </tbody>\n</table>\n<p>5 rows × 31 columns</p>\n</div>"
     },
     "execution_count": 3,
     "metadata": {},
     "output_type": "execute_result"
    }
   ],
   "source": [
    "dataset.head()"
   ]
  },
  {
   "cell_type": "code",
   "execution_count": 4,
   "id": "5a3439b0",
   "metadata": {
    "ExecuteTime": {
     "end_time": "2024-09-23T20:56:38.301006Z",
     "start_time": "2024-09-23T20:56:38.287867Z"
    }
   },
   "outputs": [
    {
     "data": {
      "text/plain": "Index(['Calendar_date', 'route_id', 'bus_id', 'stop_sequence', 'arrival_delay',\n       'dwell_time', 'travel_time_for_previous_section',\n       'scheduled_travel_time', 'upstream_stop_delay', 'origin_delay',\n       'previous_bus_delay', 'previous_trip_travel_time', 'traffic_condition',\n       'recurrent_delay', 'weather', 'temperature', 'day_of_week',\n       'time_of_day', 'factor(weather)Light_Rain', 'factor(weather)Light_Snow',\n       'factor(weather)Normal', 'factor(weather)Rain', 'factor(weather)Snow',\n       'factor(temperature)Cold', 'factor(temperature)Extra_cold',\n       'factor(temperature)Normal', 'factor(day_of_week)weekday',\n       'factor(day_of_week)weekend', 'factor(time_of_day)Afternoon_peak',\n       'factor(time_of_day)Morning_peak', 'factor(time_of_day)Off-peak'],\n      dtype='object')"
     },
     "execution_count": 4,
     "metadata": {},
     "output_type": "execute_result"
    }
   ],
   "source": [
    "dataset.columns"
   ]
  },
  {
   "cell_type": "code",
   "execution_count": 5,
   "id": "2319e429",
   "metadata": {
    "ExecuteTime": {
     "end_time": "2024-09-23T20:56:38.368899Z",
     "start_time": "2024-09-23T20:56:38.305015Z"
    }
   },
   "outputs": [],
   "source": [
    "df = dataset[['arrival_delay', 'dwell_time', 'travel_time_for_previous_section',\n",
    "       'scheduled_travel_time', 'upstream_stop_delay', 'origin_delay',\n",
    "       'previous_bus_delay', 'previous_trip_travel_time', 'recurrent_delay']]"
   ]
  },
  {
   "cell_type": "code",
   "execution_count": 6,
   "id": "69ff1f89",
   "metadata": {
    "ExecuteTime": {
     "end_time": "2024-09-23T20:56:38.396800Z",
     "start_time": "2024-09-23T20:56:38.372429Z"
    }
   },
   "outputs": [
    {
     "data": {
      "text/plain": "   arrival_delay  dwell_time  travel_time_for_previous_section  \\\n0            151           0                                 0   \n1            185          24                               171   \n2            186           0                                55   \n3            202          12                                42   \n4            242          21                                98   \n\n   scheduled_travel_time  upstream_stop_delay  origin_delay  \\\n0                    120                  100           100   \n1                     45                  151           100   \n2                     41                  185           100   \n3                     94                  186           100   \n4                     86                  202           100   \n\n   previous_bus_delay  previous_trip_travel_time  recurrent_delay  \n0                 160                        216           161.25  \n1                 198                         47            36.50  \n2                 189                         32            34.00  \n3                 200                         89            87.00  \n4                 256                        123            88.75  ",
      "text/html": "<div>\n<style scoped>\n    .dataframe tbody tr th:only-of-type {\n        vertical-align: middle;\n    }\n\n    .dataframe tbody tr th {\n        vertical-align: top;\n    }\n\n    .dataframe thead th {\n        text-align: right;\n    }\n</style>\n<table border=\"1\" class=\"dataframe\">\n  <thead>\n    <tr style=\"text-align: right;\">\n      <th></th>\n      <th>arrival_delay</th>\n      <th>dwell_time</th>\n      <th>travel_time_for_previous_section</th>\n      <th>scheduled_travel_time</th>\n      <th>upstream_stop_delay</th>\n      <th>origin_delay</th>\n      <th>previous_bus_delay</th>\n      <th>previous_trip_travel_time</th>\n      <th>recurrent_delay</th>\n    </tr>\n  </thead>\n  <tbody>\n    <tr>\n      <th>0</th>\n      <td>151</td>\n      <td>0</td>\n      <td>0</td>\n      <td>120</td>\n      <td>100</td>\n      <td>100</td>\n      <td>160</td>\n      <td>216</td>\n      <td>161.25</td>\n    </tr>\n    <tr>\n      <th>1</th>\n      <td>185</td>\n      <td>24</td>\n      <td>171</td>\n      <td>45</td>\n      <td>151</td>\n      <td>100</td>\n      <td>198</td>\n      <td>47</td>\n      <td>36.50</td>\n    </tr>\n    <tr>\n      <th>2</th>\n      <td>186</td>\n      <td>0</td>\n      <td>55</td>\n      <td>41</td>\n      <td>185</td>\n      <td>100</td>\n      <td>189</td>\n      <td>32</td>\n      <td>34.00</td>\n    </tr>\n    <tr>\n      <th>3</th>\n      <td>202</td>\n      <td>12</td>\n      <td>42</td>\n      <td>94</td>\n      <td>186</td>\n      <td>100</td>\n      <td>200</td>\n      <td>89</td>\n      <td>87.00</td>\n    </tr>\n    <tr>\n      <th>4</th>\n      <td>242</td>\n      <td>21</td>\n      <td>98</td>\n      <td>86</td>\n      <td>202</td>\n      <td>100</td>\n      <td>256</td>\n      <td>123</td>\n      <td>88.75</td>\n    </tr>\n  </tbody>\n</table>\n</div>"
     },
     "execution_count": 6,
     "metadata": {},
     "output_type": "execute_result"
    }
   ],
   "source": [
    "df.head()"
   ]
  },
  {
   "cell_type": "code",
   "execution_count": 7,
   "id": "8da41675",
   "metadata": {
    "ExecuteTime": {
     "end_time": "2024-09-23T20:56:38.601435Z",
     "start_time": "2024-09-23T20:56:38.405356Z"
    }
   },
   "outputs": [
    {
     "data": {
      "text/plain": "                                  arrival_delay  dwell_time  \\\narrival_delay                          1.000000    0.089433   \ndwell_time                             0.089433    1.000000   \ntravel_time_for_previous_section       0.081113    0.314884   \nscheduled_travel_time                 -0.142228   -0.091127   \nupstream_stop_delay                    0.975019   -0.064040   \norigin_delay                           0.716324   -0.007937   \nprevious_bus_delay                     0.265434   -0.017797   \nprevious_trip_travel_time             -0.036870   -0.013858   \nrecurrent_delay                       -0.069122   -0.020866   \n\n                                  travel_time_for_previous_section  \\\narrival_delay                                             0.081113   \ndwell_time                                                0.314884   \ntravel_time_for_previous_section                          1.000000   \nscheduled_travel_time                                    -0.262382   \nupstream_stop_delay                                       0.030967   \norigin_delay                                              0.012168   \nprevious_bus_delay                                        0.047280   \nprevious_trip_travel_time                                -0.243823   \nrecurrent_delay                                          -0.293594   \n\n                                  scheduled_travel_time  upstream_stop_delay  \\\narrival_delay                                 -0.142228             0.975019   \ndwell_time                                    -0.091127            -0.064040   \ntravel_time_for_previous_section              -0.262382             0.030967   \nscheduled_travel_time                          1.000000            -0.056838   \nupstream_stop_delay                           -0.056838             1.000000   \norigin_delay                                   0.005330             0.729940   \nprevious_bus_delay                            -0.136826             0.250198   \nprevious_trip_travel_time                      0.617814            -0.055600   \nrecurrent_delay                                0.727653            -0.084258   \n\n                                  origin_delay  previous_bus_delay  \\\narrival_delay                         0.716324            0.265434   \ndwell_time                           -0.007937           -0.017797   \ntravel_time_for_previous_section      0.012168            0.047280   \nscheduled_travel_time                 0.005330           -0.136826   \nupstream_stop_delay                   0.729940            0.250198   \norigin_delay                          1.000000            0.169857   \nprevious_bus_delay                    0.169857            1.000000   \nprevious_trip_travel_time             0.012691            0.022439   \nrecurrent_delay                      -0.001412           -0.066933   \n\n                                  previous_trip_travel_time  recurrent_delay  \narrival_delay                                     -0.036870        -0.069122  \ndwell_time                                        -0.013858        -0.020866  \ntravel_time_for_previous_section                  -0.243823        -0.293594  \nscheduled_travel_time                              0.617814         0.727653  \nupstream_stop_delay                               -0.055600        -0.084258  \norigin_delay                                       0.012691        -0.001412  \nprevious_bus_delay                                 0.022439        -0.066933  \nprevious_trip_travel_time                          1.000000         0.832534  \nrecurrent_delay                                    0.832534         1.000000  ",
      "text/html": "<div>\n<style scoped>\n    .dataframe tbody tr th:only-of-type {\n        vertical-align: middle;\n    }\n\n    .dataframe tbody tr th {\n        vertical-align: top;\n    }\n\n    .dataframe thead th {\n        text-align: right;\n    }\n</style>\n<table border=\"1\" class=\"dataframe\">\n  <thead>\n    <tr style=\"text-align: right;\">\n      <th></th>\n      <th>arrival_delay</th>\n      <th>dwell_time</th>\n      <th>travel_time_for_previous_section</th>\n      <th>scheduled_travel_time</th>\n      <th>upstream_stop_delay</th>\n      <th>origin_delay</th>\n      <th>previous_bus_delay</th>\n      <th>previous_trip_travel_time</th>\n      <th>recurrent_delay</th>\n    </tr>\n  </thead>\n  <tbody>\n    <tr>\n      <th>arrival_delay</th>\n      <td>1.000000</td>\n      <td>0.089433</td>\n      <td>0.081113</td>\n      <td>-0.142228</td>\n      <td>0.975019</td>\n      <td>0.716324</td>\n      <td>0.265434</td>\n      <td>-0.036870</td>\n      <td>-0.069122</td>\n    </tr>\n    <tr>\n      <th>dwell_time</th>\n      <td>0.089433</td>\n      <td>1.000000</td>\n      <td>0.314884</td>\n      <td>-0.091127</td>\n      <td>-0.064040</td>\n      <td>-0.007937</td>\n      <td>-0.017797</td>\n      <td>-0.013858</td>\n      <td>-0.020866</td>\n    </tr>\n    <tr>\n      <th>travel_time_for_previous_section</th>\n      <td>0.081113</td>\n      <td>0.314884</td>\n      <td>1.000000</td>\n      <td>-0.262382</td>\n      <td>0.030967</td>\n      <td>0.012168</td>\n      <td>0.047280</td>\n      <td>-0.243823</td>\n      <td>-0.293594</td>\n    </tr>\n    <tr>\n      <th>scheduled_travel_time</th>\n      <td>-0.142228</td>\n      <td>-0.091127</td>\n      <td>-0.262382</td>\n      <td>1.000000</td>\n      <td>-0.056838</td>\n      <td>0.005330</td>\n      <td>-0.136826</td>\n      <td>0.617814</td>\n      <td>0.727653</td>\n    </tr>\n    <tr>\n      <th>upstream_stop_delay</th>\n      <td>0.975019</td>\n      <td>-0.064040</td>\n      <td>0.030967</td>\n      <td>-0.056838</td>\n      <td>1.000000</td>\n      <td>0.729940</td>\n      <td>0.250198</td>\n      <td>-0.055600</td>\n      <td>-0.084258</td>\n    </tr>\n    <tr>\n      <th>origin_delay</th>\n      <td>0.716324</td>\n      <td>-0.007937</td>\n      <td>0.012168</td>\n      <td>0.005330</td>\n      <td>0.729940</td>\n      <td>1.000000</td>\n      <td>0.169857</td>\n      <td>0.012691</td>\n      <td>-0.001412</td>\n    </tr>\n    <tr>\n      <th>previous_bus_delay</th>\n      <td>0.265434</td>\n      <td>-0.017797</td>\n      <td>0.047280</td>\n      <td>-0.136826</td>\n      <td>0.250198</td>\n      <td>0.169857</td>\n      <td>1.000000</td>\n      <td>0.022439</td>\n      <td>-0.066933</td>\n    </tr>\n    <tr>\n      <th>previous_trip_travel_time</th>\n      <td>-0.036870</td>\n      <td>-0.013858</td>\n      <td>-0.243823</td>\n      <td>0.617814</td>\n      <td>-0.055600</td>\n      <td>0.012691</td>\n      <td>0.022439</td>\n      <td>1.000000</td>\n      <td>0.832534</td>\n    </tr>\n    <tr>\n      <th>recurrent_delay</th>\n      <td>-0.069122</td>\n      <td>-0.020866</td>\n      <td>-0.293594</td>\n      <td>0.727653</td>\n      <td>-0.084258</td>\n      <td>-0.001412</td>\n      <td>-0.066933</td>\n      <td>0.832534</td>\n      <td>1.000000</td>\n    </tr>\n  </tbody>\n</table>\n</div>"
     },
     "execution_count": 7,
     "metadata": {},
     "output_type": "execute_result"
    }
   ],
   "source": [
    "corr_matrix = df.corr()\n",
    "corr_matrix\n"
   ]
  },
  {
   "cell_type": "code",
   "execution_count": 8,
   "id": "9c182eee",
   "metadata": {
    "ExecuteTime": {
     "end_time": "2024-09-23T20:56:38.619732Z",
     "start_time": "2024-09-23T20:56:38.603835Z"
    }
   },
   "outputs": [
    {
     "data": {
      "text/plain": "arrival_delay                       1.000000\nupstream_stop_delay                 0.975019\norigin_delay                        0.716324\nprevious_bus_delay                  0.265434\ndwell_time                          0.089433\ntravel_time_for_previous_section    0.081113\nprevious_trip_travel_time          -0.036870\nrecurrent_delay                    -0.069122\nscheduled_travel_time              -0.142228\nName: arrival_delay, dtype: float64"
     },
     "execution_count": 8,
     "metadata": {},
     "output_type": "execute_result"
    }
   ],
   "source": [
    "corr_matrix['arrival_delay'].sort_values(ascending=False)"
   ]
  },
  {
   "cell_type": "code",
   "execution_count": 9,
   "id": "726373b2",
   "metadata": {
    "ExecuteTime": {
     "end_time": "2024-09-23T20:56:38.653671Z",
     "start_time": "2024-09-23T20:56:38.622742Z"
    }
   },
   "outputs": [
    {
     "data": {
      "text/plain": "   dwell_time  travel_time_for_previous_section  scheduled_travel_time  \\\n0           0                                 0                    120   \n1          24                               171                     45   \n2           0                                55                     41   \n3          12                                42                     94   \n4          21                                98                     86   \n\n   upstream_stop_delay  origin_delay  previous_bus_delay  \\\n0                  100           100                 160   \n1                  151           100                 198   \n2                  185           100                 189   \n3                  186           100                 200   \n4                  202           100                 256   \n\n   previous_trip_travel_time  recurrent_delay  \n0                        216           161.25  \n1                         47            36.50  \n2                         32            34.00  \n3                         89            87.00  \n4                        123            88.75  ",
      "text/html": "<div>\n<style scoped>\n    .dataframe tbody tr th:only-of-type {\n        vertical-align: middle;\n    }\n\n    .dataframe tbody tr th {\n        vertical-align: top;\n    }\n\n    .dataframe thead th {\n        text-align: right;\n    }\n</style>\n<table border=\"1\" class=\"dataframe\">\n  <thead>\n    <tr style=\"text-align: right;\">\n      <th></th>\n      <th>dwell_time</th>\n      <th>travel_time_for_previous_section</th>\n      <th>scheduled_travel_time</th>\n      <th>upstream_stop_delay</th>\n      <th>origin_delay</th>\n      <th>previous_bus_delay</th>\n      <th>previous_trip_travel_time</th>\n      <th>recurrent_delay</th>\n    </tr>\n  </thead>\n  <tbody>\n    <tr>\n      <th>0</th>\n      <td>0</td>\n      <td>0</td>\n      <td>120</td>\n      <td>100</td>\n      <td>100</td>\n      <td>160</td>\n      <td>216</td>\n      <td>161.25</td>\n    </tr>\n    <tr>\n      <th>1</th>\n      <td>24</td>\n      <td>171</td>\n      <td>45</td>\n      <td>151</td>\n      <td>100</td>\n      <td>198</td>\n      <td>47</td>\n      <td>36.50</td>\n    </tr>\n    <tr>\n      <th>2</th>\n      <td>0</td>\n      <td>55</td>\n      <td>41</td>\n      <td>185</td>\n      <td>100</td>\n      <td>189</td>\n      <td>32</td>\n      <td>34.00</td>\n    </tr>\n    <tr>\n      <th>3</th>\n      <td>12</td>\n      <td>42</td>\n      <td>94</td>\n      <td>186</td>\n      <td>100</td>\n      <td>200</td>\n      <td>89</td>\n      <td>87.00</td>\n    </tr>\n    <tr>\n      <th>4</th>\n      <td>21</td>\n      <td>98</td>\n      <td>86</td>\n      <td>202</td>\n      <td>100</td>\n      <td>256</td>\n      <td>123</td>\n      <td>88.75</td>\n    </tr>\n  </tbody>\n</table>\n</div>"
     },
     "execution_count": 9,
     "metadata": {},
     "output_type": "execute_result"
    }
   ],
   "source": [
    "x = df.drop(['arrival_delay'], axis=1)\n",
    "x.head()"
   ]
  },
  {
   "cell_type": "code",
   "execution_count": 10,
   "id": "e745f812",
   "metadata": {
    "ExecuteTime": {
     "end_time": "2024-09-23T20:56:38.664877Z",
     "start_time": "2024-09-23T20:56:38.656694Z"
    }
   },
   "outputs": [
    {
     "data": {
      "text/plain": "Index(['dwell_time', 'travel_time_for_previous_section',\n       'scheduled_travel_time', 'upstream_stop_delay', 'origin_delay',\n       'previous_bus_delay', 'previous_trip_travel_time', 'recurrent_delay'],\n      dtype='object')"
     },
     "execution_count": 10,
     "metadata": {},
     "output_type": "execute_result"
    }
   ],
   "source": [
    "x.columns"
   ]
  },
  {
   "cell_type": "code",
   "execution_count": 11,
   "id": "3f008dbc",
   "metadata": {
    "ExecuteTime": {
     "end_time": "2024-09-23T20:56:38.677685Z",
     "start_time": "2024-09-23T20:56:38.667889Z"
    }
   },
   "outputs": [
    {
     "data": {
      "text/plain": "0    151\n1    185\n2    186\n3    202\n4    242\nName: arrival_delay, dtype: int64"
     },
     "execution_count": 11,
     "metadata": {},
     "output_type": "execute_result"
    }
   ],
   "source": [
    "y = df['arrival_delay']\n",
    "y.head()"
   ]
  },
  {
   "cell_type": "code",
   "execution_count": 12,
   "id": "b7dc2816",
   "metadata": {
    "ExecuteTime": {
     "end_time": "2024-09-23T20:56:39.736664Z",
     "start_time": "2024-09-23T20:56:38.680776Z"
    }
   },
   "outputs": [],
   "source": [
    "from sklearn.model_selection import train_test_split\n",
    "X_train, X_test, y_train, y_test = train_test_split(x, y, test_size=0.2, random_state=42)"
   ]
  },
  {
   "cell_type": "code",
   "execution_count": null,
   "id": "235f1d4f",
   "metadata": {
    "is_executing": true,
    "ExecuteTime": {
     "start_time": "2024-09-23T20:56:39.738675Z"
    }
   },
   "outputs": [
    {
     "name": "stdout",
     "output_type": "stream",
     "text": [
      "Fitting 5 folds for each of 36 candidates, totalling 180 fits\n"
     ]
    }
   ],
   "source": [
    "from sklearn.model_selection import GridSearchCV\n",
    "from sklearn.svm import SVR\n",
    "\n",
    "# Define a parameter grid for hyperparameter tuning\n",
    "param_grid = {\n",
    "    'kernel': ['linear', 'poly', 'rbf'],\n",
    "    'C': [0.1, 1, 10],\n",
    "    'epsilon': [0.01, 0.1, 1, 10]\n",
    "}\n",
    "\n",
    "# Create the GridSearchCV object\n",
    "grid_search = GridSearchCV(SVR(), param_grid, cv=5, verbose=2)\n",
    "\n",
    "# Fit the grid search to the scaled training data\n",
    "grid_search.fit(X_train, y_train)\n",
    "\n",
    "# Get the best parameters\n",
    "best_params = grid_search.best_params_\n",
    "\n",
    "print(\"Best Parameters:\", best_params)\n",
    "print(\"Best Score:\", grid_search.best_score_)"
   ]
  },
  {
   "cell_type": "code",
   "execution_count": null,
   "id": "d7a711ee",
   "metadata": {
    "is_executing": true
   },
   "outputs": [],
   "source": [
    "# Create an SVR model with the best parameters from the grid search\n",
    "best_svr = SVR(kernel=best_params['kernel'], C=best_params['C'], epsilon=best_params['epsilon'])\n",
    "best_svr.fit(X_train, y_train)"
   ]
  },
  {
   "cell_type": "code",
   "execution_count": null,
   "id": "23bf58c9",
   "metadata": {
    "is_executing": true
   },
   "outputs": [],
   "source": [
    "y_pred_SVR = best_svr.predict(X_test)\n",
    "mae_SVR = mean_absolute_error(y_test, y_pred_SVR)\n",
    "mse_SVR = mean_squared_error(y_test, y_pred_SVR)\n",
    "r2_SVR = r2_score(y_test, y_pred_SVR)\n",
    "print(f\"Mean Absolute Error Model SVR: {mae_SVR}\")\n",
    "print(f\"Mean Squared Error Model SVR: {mse_SVR}\")\n",
    "print(f\"R-squared Model SVR: {r2_SVR}\")"
   ]
  }
 ],
 "metadata": {
  "kernelspec": {
   "display_name": "Python 3 (ipykernel)",
   "language": "python",
   "name": "python3"
  },
  "language_info": {
   "codemirror_mode": {
    "name": "ipython",
    "version": 3
   },
   "file_extension": ".py",
   "mimetype": "text/x-python",
   "name": "python",
   "nbconvert_exporter": "python",
   "pygments_lexer": "ipython3",
   "version": "3.11.5"
  }
 },
 "nbformat": 4,
 "nbformat_minor": 5
}
