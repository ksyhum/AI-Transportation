{
 "cells": [
  {
   "cell_type": "code",
   "execution_count": 23,
   "id": "aa70a945",
   "metadata": {
    "id": "aa70a945",
    "executionInfo": {
     "status": "ok",
     "timestamp": 1729084913808,
     "user_tz": -120,
     "elapsed": 279,
     "user": {
      "displayName": "Lucas Larsson Lindh",
      "userId": "17445609863672789154"
     }
    },
    "ExecuteTime": {
     "end_time": "2024-10-17T05:24:28.563820Z",
     "start_time": "2024-10-17T05:24:28.551162Z"
    }
   },
   "outputs": [],
   "source": [
    "import pandas as pd"
   ]
  },
  {
   "cell_type": "code",
   "execution_count": 24,
   "id": "7a54880f",
   "metadata": {
    "id": "7a54880f",
    "executionInfo": {
     "status": "ok",
     "timestamp": 1729084916008,
     "user_tz": -120,
     "elapsed": 1912,
     "user": {
      "displayName": "Lucas Larsson Lindh",
      "userId": "17445609863672789154"
     }
    },
    "ExecuteTime": {
     "end_time": "2024-10-17T05:24:32.974076Z",
     "start_time": "2024-10-17T05:24:29.444150Z"
    }
   },
   "outputs": [],
   "source": [
    "# import data, skiprows=1 karena data di csv mulai dari baris ke-2\n",
    "df = pd.read_csv(\"Dataset-PT.csv\",skiprows=1)"
   ]
  },
  {
   "cell_type": "markdown",
   "source": [
    "A little descriptive analysis"
   ],
   "metadata": {
    "id": "M-HPV_nlfwJd"
   },
   "id": "M-HPV_nlfwJd"
  },
  {
   "cell_type": "code",
   "execution_count": 25,
   "id": "s838FdglUCFN",
   "metadata": {
    "id": "s838FdglUCFN",
    "executionInfo": {
     "status": "ok",
     "timestamp": 1729084916008,
     "user_tz": -120,
     "elapsed": 8,
     "user": {
      "displayName": "Lucas Larsson Lindh",
      "userId": "17445609863672789154"
     }
    },
    "colab": {
     "base_uri": "https://localhost:8080/"
    },
    "outputId": "26962848-8003-4f95-9c64-91bd1b9de88d",
    "ExecuteTime": {
     "end_time": "2024-10-17T05:24:35.784298Z",
     "start_time": "2024-10-17T05:24:35.593231Z"
    }
   },
   "outputs": [
    {
     "name": "stdout",
     "output_type": "stream",
     "text": [
      "<class 'pandas.core.frame.DataFrame'>\n",
      "RangeIndex: 545103 entries, 0 to 545102\n",
      "Data columns (total 31 columns):\n",
      " #   Column                             Non-Null Count   Dtype  \n",
      "---  ------                             --------------   -----  \n",
      " 0   Calendar_date                      545103 non-null  int64  \n",
      " 1   route_id                           545103 non-null  int64  \n",
      " 2   bus_id                             545103 non-null  int64  \n",
      " 3   stop_sequence                      545103 non-null  int64  \n",
      " 4   arrival_delay                      545103 non-null  int64  \n",
      " 5   dwell_time                         545103 non-null  int64  \n",
      " 6   travel_time_for_previous_section   545103 non-null  int64  \n",
      " 7   scheduled_travel_time              545103 non-null  int64  \n",
      " 8   upstream_stop_delay                545103 non-null  int64  \n",
      " 9   origin_delay                       545103 non-null  int64  \n",
      " 10  previous_bus_delay                 545103 non-null  int64  \n",
      " 11  previous_trip_travel_time          545103 non-null  int64  \n",
      " 12  traffic_condition                  545103 non-null  float64\n",
      " 13  recurrent_delay                    545103 non-null  float64\n",
      " 14  weather                            545103 non-null  object \n",
      " 15  temperature                        545103 non-null  object \n",
      " 16  day_of_week                        545103 non-null  object \n",
      " 17  time_of_day                        545103 non-null  object \n",
      " 18  factor(weather)Light_Rain          545103 non-null  int64  \n",
      " 19  factor(weather)Light_Snow          545103 non-null  int64  \n",
      " 20  factor(weather)Normal              545103 non-null  int64  \n",
      " 21  factor(weather)Rain                545103 non-null  int64  \n",
      " 22  factor(weather)Snow                545103 non-null  int64  \n",
      " 23  factor(temperature)Cold            545103 non-null  int64  \n",
      " 24  factor(temperature)Extra_cold      545103 non-null  int64  \n",
      " 25  factor(temperature)Normal          545103 non-null  int64  \n",
      " 26  factor(day_of_week)weekday         545103 non-null  int64  \n",
      " 27  factor(day_of_week)weekend         545103 non-null  int64  \n",
      " 28  factor(time_of_day)Afternoon_peak  545103 non-null  int64  \n",
      " 29  factor(time_of_day)Morning_peak    545103 non-null  int64  \n",
      " 30  factor(time_of_day)Off-peak        545103 non-null  int64  \n",
      "dtypes: float64(2), int64(25), object(4)\n",
      "memory usage: 128.9+ MB\n"
     ]
    }
   ],
   "source": [
    "df.info()"
   ]
  },
  {
   "cell_type": "code",
   "source": [
    "mean_value = df['arrival_delay'].mean()\n",
    "\n",
    "print(f\"The mean of the arrival delay feature is: {mean_value}\")"
   ],
   "metadata": {
    "colab": {
     "base_uri": "https://localhost:8080/"
    },
    "id": "38zw07jtfzso",
    "executionInfo": {
     "status": "ok",
     "timestamp": 1729084916008,
     "user_tz": -120,
     "elapsed": 7,
     "user": {
      "displayName": "Lucas Larsson Lindh",
      "userId": "17445609863672789154"
     }
    },
    "outputId": "b0b66c3d-42d1-4f7e-9013-cb979b9ae238",
    "ExecuteTime": {
     "end_time": "2024-10-17T05:24:36.928786Z",
     "start_time": "2024-10-17T05:24:36.914642Z"
    }
   },
   "id": "38zw07jtfzso",
   "execution_count": 26,
   "outputs": [
    {
     "name": "stdout",
     "output_type": "stream",
     "text": [
      "The mean of the arrival delay feature is: 134.9722382742344\n"
     ]
    }
   ]
  },
  {
   "cell_type": "code",
   "execution_count": 27,
   "id": "a4af5286b5102d43",
   "metadata": {
    "id": "a4af5286b5102d43",
    "executionInfo": {
     "status": "ok",
     "timestamp": 1729084916008,
     "user_tz": -120,
     "elapsed": 5,
     "user": {
      "displayName": "Lucas Larsson Lindh",
      "userId": "17445609863672789154"
     }
    },
    "ExecuteTime": {
     "end_time": "2024-10-17T05:24:37.937207Z",
     "start_time": "2024-10-17T05:24:37.847997Z"
    }
   },
   "outputs": [],
   "source": [
    "df = df.drop(['weather', 'temperature', 'day_of_week','time_of_day','Calendar_date','route_id', 'bus_id'], axis=1)"
   ]
  },
  {
   "cell_type": "code",
   "source": [
    "df.info()"
   ],
   "metadata": {
    "colab": {
     "base_uri": "https://localhost:8080/"
    },
    "id": "y5O1Ep-IbLvk",
    "executionInfo": {
     "status": "ok",
     "timestamp": 1729084916332,
     "user_tz": -120,
     "elapsed": 328,
     "user": {
      "displayName": "Lucas Larsson Lindh",
      "userId": "17445609863672789154"
     }
    },
    "outputId": "03ecd134-21d9-4dd3-af06-f89467ccf88c",
    "ExecuteTime": {
     "end_time": "2024-10-17T05:24:38.695443Z",
     "start_time": "2024-10-17T05:24:38.663969Z"
    }
   },
   "id": "y5O1Ep-IbLvk",
   "execution_count": 28,
   "outputs": [
    {
     "name": "stdout",
     "output_type": "stream",
     "text": [
      "<class 'pandas.core.frame.DataFrame'>\n",
      "RangeIndex: 545103 entries, 0 to 545102\n",
      "Data columns (total 24 columns):\n",
      " #   Column                             Non-Null Count   Dtype  \n",
      "---  ------                             --------------   -----  \n",
      " 0   stop_sequence                      545103 non-null  int64  \n",
      " 1   arrival_delay                      545103 non-null  int64  \n",
      " 2   dwell_time                         545103 non-null  int64  \n",
      " 3   travel_time_for_previous_section   545103 non-null  int64  \n",
      " 4   scheduled_travel_time              545103 non-null  int64  \n",
      " 5   upstream_stop_delay                545103 non-null  int64  \n",
      " 6   origin_delay                       545103 non-null  int64  \n",
      " 7   previous_bus_delay                 545103 non-null  int64  \n",
      " 8   previous_trip_travel_time          545103 non-null  int64  \n",
      " 9   traffic_condition                  545103 non-null  float64\n",
      " 10  recurrent_delay                    545103 non-null  float64\n",
      " 11  factor(weather)Light_Rain          545103 non-null  int64  \n",
      " 12  factor(weather)Light_Snow          545103 non-null  int64  \n",
      " 13  factor(weather)Normal              545103 non-null  int64  \n",
      " 14  factor(weather)Rain                545103 non-null  int64  \n",
      " 15  factor(weather)Snow                545103 non-null  int64  \n",
      " 16  factor(temperature)Cold            545103 non-null  int64  \n",
      " 17  factor(temperature)Extra_cold      545103 non-null  int64  \n",
      " 18  factor(temperature)Normal          545103 non-null  int64  \n",
      " 19  factor(day_of_week)weekday         545103 non-null  int64  \n",
      " 20  factor(day_of_week)weekend         545103 non-null  int64  \n",
      " 21  factor(time_of_day)Afternoon_peak  545103 non-null  int64  \n",
      " 22  factor(time_of_day)Morning_peak    545103 non-null  int64  \n",
      " 23  factor(time_of_day)Off-peak        545103 non-null  int64  \n",
      "dtypes: float64(2), int64(22)\n",
      "memory usage: 99.8 MB\n"
     ]
    }
   ]
  },
  {
   "cell_type": "markdown",
   "id": "h12OfB2UVfSy",
   "metadata": {
    "id": "h12OfB2UVfSy"
   },
   "source": [
    "**Outlier detection and elimination**"
   ]
  },
  {
   "cell_type": "code",
   "execution_count": 29,
   "id": "baeMykDIVZ3Y",
   "metadata": {
    "id": "baeMykDIVZ3Y",
    "executionInfo": {
     "status": "ok",
     "timestamp": 1729084916659,
     "user_tz": -120,
     "elapsed": 330,
     "user": {
      "displayName": "Lucas Larsson Lindh",
      "userId": "17445609863672789154"
     }
    },
    "colab": {
     "base_uri": "https://localhost:8080/"
    },
    "outputId": "6aa39a47-a37a-4639-8f74-12c3224e1a32",
    "ExecuteTime": {
     "end_time": "2024-10-17T05:24:40.861659Z",
     "start_time": "2024-10-17T05:24:40.609919Z"
    }
   },
   "outputs": [
    {
     "name": "stdout",
     "output_type": "stream",
     "text": [
      "Total buses with outliers: 21\n",
      "Number of initial outliers: 545\n",
      "Number of rows after removing buses with outliers: 544536\n",
      "Removed rows: 567\n"
     ]
    }
   ],
   "source": [
    "import numpy as np\n",
    "import pandas as pd\n",
    "\n",
    "# Step 1: Calculate the median of the arrival_delay column\n",
    "median_origin_delay = np.median(df['origin_delay'])\n",
    "\n",
    "# Step 2: Calculate the absolute distance from the median\n",
    "df['distance_from_median'] = abs(df['origin_delay'] - median_origin_delay)\n",
    "\n",
    "# Step 3: Sort by distance from the median in descending order\n",
    "df_sorted = df.sort_values(by='distance_from_median', ascending=False)\n",
    "\n",
    "# Step 4: Calculate how many rows correspond to 5% of the data\n",
    "num_outliers = int(0.001 * len(df))\n",
    "\n",
    "# Step 5: Mark top 5% rows as outliers (add 'outlier' attribute)\n",
    "df_sorted['outlier'] = 0  # Default to 0 (not an outlier)\n",
    "df_sorted.iloc[:num_outliers, df_sorted.columns.get_loc('outlier')] = 1  # Set top 5% as outliers\n",
    "\n",
    "# Step 6: Identify all 'bus_id' that have at least one outlier\n",
    "outlier_bus_ids = df_sorted[df_sorted['outlier'] == 1]['origin_delay'].unique()\n",
    "\n",
    "# Step 7: Remove all rows that have a 'bus_id' in 'outlier_bus_ids'\n",
    "df_final = df_sorted[~df_sorted['origin_delay'].isin(outlier_bus_ids)]\n",
    "\n",
    "# Step 8: Drop temporary column 'distance_from_median' and 'outlier'\n",
    "df_final = df_final.drop(columns=['distance_from_median', 'outlier'])\n",
    "\n",
    "# Optional: Display the results\n",
    "print(f\"Total buses with outliers: {len(outlier_bus_ids)}\")\n",
    "print(f\"Number of initial outliers: {num_outliers}\")\n",
    "print(f\"Number of rows after removing buses with outliers: {len(df_final)}\")\n",
    "print(f\"Removed rows: {len(df)-len(df_final)}\")\n",
    "\n",
    "df = df_final"
   ]
  },
  {
   "cell_type": "code",
   "source": [
    "mean_value = df['arrival_delay'].mean()\n",
    "\n",
    "print(f\"The mean arrival delay without outliers is: {mean_value}\")"
   ],
   "metadata": {
    "colab": {
     "base_uri": "https://localhost:8080/"
    },
    "id": "_-ZYGS2TgJ18",
    "executionInfo": {
     "status": "ok",
     "timestamp": 1729084916659,
     "user_tz": -120,
     "elapsed": 5,
     "user": {
      "displayName": "Lucas Larsson Lindh",
      "userId": "17445609863672789154"
     }
    },
    "outputId": "6330e5b7-fac6-471d-dd16-275a2efc265a",
    "ExecuteTime": {
     "end_time": "2024-10-17T05:24:41.482659Z",
     "start_time": "2024-10-17T05:24:41.476508Z"
    }
   },
   "id": "_-ZYGS2TgJ18",
   "execution_count": 30,
   "outputs": [
    {
     "name": "stdout",
     "output_type": "stream",
     "text": [
      "The mean arrival delay without outliers is: 134.5944877840951\n"
     ]
    }
   ]
  },
  {
   "cell_type": "code",
   "source": [
    "import seaborn as sns\n",
    "\n",
    "df_subset = df.sample(1000)  # Randomly sample 10000 rows\n",
    "\n",
    "# Plotting 'arrival delay' against 'stop sequence' to see if the bus is more late the further it gets along the route\n",
    "plt.figure(figsize=(8,6))  # Optional: adjust the size of the plot\n",
    "sns.regplot(x='stop_sequence', y='arrival_delay', data=df_subset, line_kws={\"color\":\"red\"})  # Scatter plot with regression line\n",
    "\n",
    "\n",
    "plt.title('Stop (Gullmars-Radiohuset) vs Arrival delay')  # Add a title\n",
    "plt.xlabel('Stop sequence')  # Label for x-axis\n",
    "plt.ylabel('Arrival delay')  # Label for y-axis\n",
    "\n",
    "plt.show()  # Display the plot"
   ],
   "metadata": {
    "colab": {
     "base_uri": "https://localhost:8080/",
     "height": 564
    },
    "id": "Gsj0MddIhB0y",
    "executionInfo": {
     "status": "ok",
     "timestamp": 1729084917780,
     "user_tz": -120,
     "elapsed": 1124,
     "user": {
      "displayName": "Lucas Larsson Lindh",
      "userId": "17445609863672789154"
     }
    },
    "outputId": "36f0ace7-2c3a-4b3e-e1f3-6f9c7a13c4e7",
    "ExecuteTime": {
     "end_time": "2024-10-17T05:24:43.170405Z",
     "start_time": "2024-10-17T05:24:42.297464Z"
    }
   },
   "id": "Gsj0MddIhB0y",
   "execution_count": 31,
   "outputs": [
    {
     "data": {
      "text/plain": "<Figure size 800x600 with 1 Axes>",
      "image/png": "[encoded data removed]"
     },
     "metadata": {},
     "output_type": "display_data"
    }
   ]
  },
  {
   "cell_type": "code",
   "source": [
    "X = df['stop_sequence'].values.reshape(-1, 1)  # Independent variable\n",
    "y = df['arrival_delay'].values  # Dependent variable\n",
    "\n",
    "# Fit the model\n",
    "model = LinearRegression()\n",
    "model.fit(X, y)\n",
    "\n",
    "# Get the slope (coefficient) and intercept\n",
    "slope = model.coef_[0]\n",
    "print(slope)"
   ],
   "metadata": {
    "colab": {
     "base_uri": "https://localhost:8080/"
    },
    "id": "BwxzBM1ljNyK",
    "executionInfo": {
     "status": "ok",
     "timestamp": 1729084917781,
     "user_tz": -120,
     "elapsed": 14,
     "user": {
      "displayName": "Lucas Larsson Lindh",
      "userId": "17445609863672789154"
     }
    },
    "outputId": "ce98e8c6-8f90-48c8-9f67-1a211bcd296f",
    "ExecuteTime": {
     "end_time": "2024-10-17T05:24:44.229063Z",
     "start_time": "2024-10-17T05:24:44.174597Z"
    }
   },
   "id": "BwxzBM1ljNyK",
   "execution_count": 32,
   "outputs": [
    {
     "name": "stdout",
     "output_type": "stream",
     "text": [
      "2.3130688177792575\n"
     ]
    }
   ]
  },
  {
   "cell_type": "code",
   "source": [
    "df = df.drop(['factor(weather)Normal',\n",
    "              'factor(temperature)Normal',\n",
    "              'factor(weather)Rain',\n",
    "              'factor(weather)Snow',\n",
    "              'factor(weather)Light_Snow',\n",
    "              'factor(temperature)Cold',\n",
    "              'factor(temperature)Extra_cold',\n",
    "              'factor(weather)Light_Rain'],  axis=1)\n",
    "              #'previous_trip_travel_time',\n",
    "              #'traffic_condition'\n"
   ],
   "metadata": {
    "id": "oyh1zFqvP_Bn",
    "executionInfo": {
     "status": "ok",
     "timestamp": 1729084917781,
     "user_tz": -120,
     "elapsed": 12,
     "user": {
      "displayName": "Lucas Larsson Lindh",
      "userId": "17445609863672789154"
     }
    },
    "ExecuteTime": {
     "end_time": "2024-10-17T05:24:44.956464Z",
     "start_time": "2024-10-17T05:24:44.927005Z"
    }
   },
   "id": "oyh1zFqvP_Bn",
   "execution_count": 33,
   "outputs": []
  },
  {
   "cell_type": "code",
   "outputs": [
    {
     "name": "stdout",
     "output_type": "stream",
     "text": [
      "<class 'pandas.core.frame.DataFrame'>\n",
      "Index: 544536 entries, 312621 to 308971\n",
      "Data columns (total 16 columns):\n",
      " #   Column                             Non-Null Count   Dtype  \n",
      "---  ------                             --------------   -----  \n",
      " 0   stop_sequence                      544536 non-null  int64  \n",
      " 1   arrival_delay                      544536 non-null  int64  \n",
      " 2   dwell_time                         544536 non-null  int64  \n",
      " 3   travel_time_for_previous_section   544536 non-null  int64  \n",
      " 4   scheduled_travel_time              544536 non-null  int64  \n",
      " 5   upstream_stop_delay                544536 non-null  int64  \n",
      " 6   origin_delay                       544536 non-null  int64  \n",
      " 7   previous_bus_delay                 544536 non-null  int64  \n",
      " 8   previous_trip_travel_time          544536 non-null  int64  \n",
      " 9   traffic_condition                  544536 non-null  float64\n",
      " 10  recurrent_delay                    544536 non-null  float64\n",
      " 11  factor(day_of_week)weekday         544536 non-null  int64  \n",
      " 12  factor(day_of_week)weekend         544536 non-null  int64  \n",
      " 13  factor(time_of_day)Afternoon_peak  544536 non-null  int64  \n",
      " 14  factor(time_of_day)Morning_peak    544536 non-null  int64  \n",
      " 15  factor(time_of_day)Off-peak        544536 non-null  int64  \n",
      "dtypes: float64(2), int64(14)\n",
      "memory usage: 70.6 MB\n"
     ]
    }
   ],
   "source": [
    "df.info()"
   ],
   "metadata": {
    "collapsed": false,
    "ExecuteTime": {
     "end_time": "2024-10-17T05:24:45.901398Z",
     "start_time": "2024-10-17T05:24:45.878234Z"
    }
   },
   "id": "9052c5eed192daa0",
   "execution_count": 34
  },
  {
   "cell_type": "code",
   "execution_count": 10,
   "id": "fb465688",
   "metadata": {
    "id": "fb465688",
    "executionInfo": {
     "status": "ok",
     "timestamp": 1729084917781,
     "user_tz": -120,
     "elapsed": 11,
     "user": {
      "displayName": "Lucas Larsson Lindh",
      "userId": "17445609863672789154"
     }
    },
    "ExecuteTime": {
     "end_time": "2024-10-17T05:20:24.586163Z",
     "start_time": "2024-10-17T05:20:24.539465Z"
    }
   },
   "outputs": [],
   "source": [
    "x = df.drop(['arrival_delay'], axis=1)"
   ]
  },
  {
   "cell_type": "code",
   "execution_count": 11,
   "id": "d3a240a7",
   "metadata": {
    "id": "d3a240a7",
    "executionInfo": {
     "status": "ok",
     "timestamp": 1729084917781,
     "user_tz": -120,
     "elapsed": 10,
     "user": {
      "displayName": "Lucas Larsson Lindh",
      "userId": "17445609863672789154"
     }
    },
    "collapsed": true,
    "ExecuteTime": {
     "end_time": "2024-10-17T05:20:25.563988Z",
     "start_time": "2024-10-17T05:20:25.559864Z"
    }
   },
   "outputs": [],
   "source": [
    "y = df['arrival_delay']"
   ]
  },
  {
   "cell_type": "markdown",
   "source": [
    "###Normalization"
   ],
   "metadata": {
    "id": "GaWD0_Xus771"
   },
   "id": "GaWD0_Xus771"
  },
  {
   "cell_type": "markdown",
   "source": [
    "###Train-test split"
   ],
   "metadata": {
    "id": "mVtEROWVs4fV"
   },
   "id": "mVtEROWVs4fV"
  },
  {
   "cell_type": "code",
   "execution_count": 12,
   "id": "31354432",
   "metadata": {
    "id": "31354432",
    "executionInfo": {
     "status": "ok",
     "timestamp": 1729084917781,
     "user_tz": -120,
     "elapsed": 10,
     "user": {
      "displayName": "Lucas Larsson Lindh",
      "userId": "17445609863672789154"
     }
    },
    "ExecuteTime": {
     "end_time": "2024-10-17T05:20:29.677842Z",
     "start_time": "2024-10-17T05:20:27.912013Z"
    }
   },
   "outputs": [],
   "source": [
    "from sklearn.model_selection import train_test_split\n",
    "x_train, x_test, y_train, y_test = train_test_split(x, y, test_size=0.2, random_state=42)"
   ]
  },
  {
   "cell_type": "code",
   "source": [
    "# separating binary features from continous features\n",
    "\n",
    "binary = [ 'factor(day_of_week)weekday',\n",
    "           'factor(day_of_week)weekend', 'factor(time_of_day)Afternoon_peak',\n",
    "           'factor(time_of_day)Morning_peak', 'factor(time_of_day)Off-peak']\n",
    "\n",
    "continous = ['stop_sequence', 'dwell_time', 'travel_time_for_previous_section',\n",
    "             'scheduled_travel_time', 'upstream_stop_delay', 'origin_delay',\n",
    "             'previous_bus_delay', 'previous_trip_travel_time', 'traffic_condition',\n",
    "             'recurrent_delay']\n",
    "\n",
    "x_train_c = x_train[continous]\n",
    "x_test_c = x_test[continous]\n",
    "\n",
    "x_train_binary = x_train[binary]\n",
    "x_test_binary = x_test[binary]"
   ],
   "metadata": {
    "id": "-UKB_bXA3IGw",
    "executionInfo": {
     "status": "ok",
     "timestamp": 1729084917781,
     "user_tz": -120,
     "elapsed": 9,
     "user": {
      "displayName": "Lucas Larsson Lindh",
      "userId": "17445609863672789154"
     }
    },
    "ExecuteTime": {
     "end_time": "2024-10-17T05:20:29.726965Z",
     "start_time": "2024-10-17T05:20:29.680850Z"
    }
   },
   "id": "-UKB_bXA3IGw",
   "execution_count": 13,
   "outputs": []
  },
  {
   "cell_type": "code",
   "source": [
    "from sklearn.preprocessing import StandardScaler\n",
    "import joblib\n",
    "\n",
    "# Standardize the continuous features\n",
    "scaler = StandardScaler()\n",
    "X_train_continous = scaler.fit_transform(x_train_c)\n",
    "X_test_continous = scaler.transform(x_test_c)\n",
    "joblib.dump(scaler, 'scaler.pkl')\n",
    "\n",
    "# Convert the scaled continuous features back to DataFrames with their original columns\n",
    "X_train_continous_df = pd.DataFrame(X_train_continous, columns=continous, index=x_train.index)\n",
    "X_test_continous_df = pd.DataFrame(X_test_continous, columns=continous, index=x_test.index)\n",
    "\n",
    "# Ensure binary data does not have NaNs and index issues\n",
    "x_train_binary = x_train_binary.reset_index(drop=True)\n",
    "x_test_binary = x_test_binary.reset_index(drop=True)\n",
    "\n",
    "# Merge scaled continuous features with non-scaled binary features\n",
    "X_train_scaled = pd.concat([X_train_continous_df.reset_index(drop=True), x_train_binary], axis=1)\n",
    "X_test_scaled = pd.concat([X_test_continous_df.reset_index(drop=True), x_test_binary], axis=1)"
   ],
   "metadata": {
    "id": "oNKF-YSps3jo",
    "executionInfo": {
     "status": "ok",
     "timestamp": 1729084918190,
     "user_tz": -120,
     "elapsed": 418,
     "user": {
      "displayName": "Lucas Larsson Lindh",
      "userId": "17445609863672789154"
     }
    },
    "ExecuteTime": {
     "end_time": "2024-10-17T05:20:30.851487Z",
     "start_time": "2024-10-17T05:20:30.679600Z"
    }
   },
   "id": "oNKF-YSps3jo",
   "execution_count": 14,
   "outputs": []
  },
  {
   "cell_type": "code",
   "source": [
    "# save the scaler to use in scenarios\n",
    "# import joblib\n",
    "# joblib.dump(scaler, 'scaler.pkl')"
   ],
   "metadata": {
    "id": "wIOI89c6DEUh",
    "executionInfo": {
     "status": "ok",
     "timestamp": 1729084918190,
     "user_tz": -120,
     "elapsed": 3,
     "user": {
      "displayName": "Lucas Larsson Lindh",
      "userId": "17445609863672789154"
     }
    },
    "ExecuteTime": {
     "end_time": "2024-10-17T05:20:31.705653Z",
     "start_time": "2024-10-17T05:20:31.701592Z"
    }
   },
   "id": "wIOI89c6DEUh",
   "execution_count": 15,
   "outputs": []
  },
  {
   "cell_type": "code",
   "execution_count": 16,
   "id": "806b1818",
   "metadata": {
    "id": "806b1818",
    "executionInfo": {
     "status": "ok",
     "timestamp": 1729084918190,
     "user_tz": -120,
     "elapsed": 2,
     "user": {
      "displayName": "Lucas Larsson Lindh",
      "userId": "17445609863672789154"
     }
    },
    "ExecuteTime": {
     "end_time": "2024-10-17T05:20:33.429141Z",
     "start_time": "2024-10-17T05:20:32.519149Z"
    }
   },
   "outputs": [],
   "source": [
    "from sklearn.linear_model import LinearRegression\n",
    "\n",
    "# Create a Linear Regression model\n",
    "model_LR = LinearRegression()\n",
    "\n",
    "# Fit the model to the training data\n",
    "model_LR.fit(X_train_scaled, y_train)\n",
    "\n",
    "# Predict the test data with the fitted model\n",
    "y_pred_LR = model_LR.predict(X_test_scaled)"
   ]
  },
  {
   "cell_type": "code",
   "source": [
    "# save the linear regression model to use on scenarios\n",
    "import joblib\n",
    "joblib.dump(model_LR, 'linear_regression_model.pkl')"
   ],
   "metadata": {
    "id": "XZy4Gl1g3p9w",
    "executionInfo": {
     "status": "ok",
     "timestamp": 1729084918518,
     "user_tz": -120,
     "elapsed": 330,
     "user": {
      "displayName": "Lucas Larsson Lindh",
      "userId": "17445609863672789154"
     }
    },
    "colab": {
     "base_uri": "https://localhost:8080/"
    },
    "outputId": "a2a7065f-efb8-4758-f397-8ee734050c1a",
    "ExecuteTime": {
     "end_time": "2024-10-17T05:20:37.928326Z",
     "start_time": "2024-10-17T05:20:37.854367Z"
    }
   },
   "id": "XZy4Gl1g3p9w",
   "execution_count": 17,
   "outputs": [
    {
     "data": {
      "text/plain": "['linear_regression_model.pkl']"
     },
     "execution_count": 17,
     "metadata": {},
     "output_type": "execute_result"
    }
   ]
  },
  {
   "cell_type": "code",
   "execution_count": 18,
   "id": "29612b5a",
   "metadata": {
    "id": "29612b5a",
    "executionInfo": {
     "status": "ok",
     "timestamp": 1729084918518,
     "user_tz": -120,
     "elapsed": 4,
     "user": {
      "displayName": "Lucas Larsson Lindh",
      "userId": "17445609863672789154"
     }
    },
    "colab": {
     "base_uri": "https://localhost:8080/"
    },
    "outputId": "19ecc9e8-400d-46e1-a109-d7011fbb1ee9",
    "ExecuteTime": {
     "end_time": "2024-10-17T05:20:38.945614Z",
     "start_time": "2024-10-17T05:20:38.933830Z"
    }
   },
   "outputs": [
    {
     "name": "stdout",
     "output_type": "stream",
     "text": [
      "Mean Absolute Error: 12.477248544440508\n",
      "Mean Squared Error: 369.6206407758133\n",
      "R-squared: 0.9896161152513941\n"
     ]
    }
   ],
   "source": [
    "from sklearn.metrics import mean_absolute_error, mean_squared_error, r2_score\n",
    "\n",
    "mae_LR = mean_absolute_error(y_test, y_pred_LR)\n",
    "mse_LR = mean_squared_error(y_test, y_pred_LR)\n",
    "r2_LR = r2_score(y_test, y_pred_LR)\n",
    "\n",
    "print(f\"Mean Absolute Error: {mae_LR}\")\n",
    "print(f\"Mean Squared Error: {mse_LR}\")\n",
    "print(f\"R-squared: {r2_LR}\")"
   ]
  },
  {
   "cell_type": "code",
   "execution_count": 19,
   "id": "93b9d5790f47f9f6",
   "metadata": {
    "id": "93b9d5790f47f9f6",
    "executionInfo": {
     "status": "ok",
     "timestamp": 1729084919049,
     "user_tz": -120,
     "elapsed": 534,
     "user": {
      "displayName": "Lucas Larsson Lindh",
      "userId": "17445609863672789154"
     }
    },
    "colab": {
     "base_uri": "https://localhost:8080/",
     "height": 842
    },
    "outputId": "88c6e164-dabf-4ecf-e884-55b89f5254d8",
    "ExecuteTime": {
     "end_time": "2024-10-17T05:20:40.098547Z",
     "start_time": "2024-10-17T05:20:39.722469Z"
    }
   },
   "outputs": [
    {
     "name": "stdout",
     "output_type": "stream",
     "text": [
      "                              Feature  Coefficient\n",
      "4                 upstream_stop_delay   186.061042\n",
      "3               scheduled_travel_time   -35.446373\n",
      "1                          dwell_time    26.782404\n",
      "9                     recurrent_delay    20.836463\n",
      "8                   traffic_condition     7.713200\n",
      "7           previous_trip_travel_time     1.403334\n",
      "6                  previous_bus_delay     0.955591\n",
      "5                        origin_delay    -0.562698\n",
      "13    factor(time_of_day)Morning_peak     0.559554\n",
      "2    travel_time_for_previous_section     0.481671\n",
      "0                       stop_sequence    -0.390782\n",
      "11         factor(day_of_week)weekend    -0.364617\n",
      "10         factor(day_of_week)weekday     0.364617\n",
      "14        factor(time_of_day)Off-peak    -0.341554\n",
      "12  factor(time_of_day)Afternoon_peak    -0.218000\n"
     ]
    },
    {
     "data": {
      "text/plain": "<Figure size 1000x600 with 1 Axes>",
      "image/png": "[encoded data removed]"
     },
     "metadata": {},
     "output_type": "display_data"
    }
   ],
   "source": [
    "import pandas as pd\n",
    "import matplotlib.pyplot as plt\n",
    "\n",
    "# Ambil koefisien dari model regresi linear\n",
    "coefficients = model_LR.coef_\n",
    "\n",
    "# Buat DataFrame untuk menyimpan fitur dan koefisiennya\n",
    "coef_df = pd.DataFrame({\n",
    "    'Feature': X_train_scaled.columns,\n",
    "    'Coefficient': coefficients\n",
    "})\n",
    "\n",
    "# Urutkan fitur berdasarkan koefisien secara absolut\n",
    "coef_df['abs_coefficient'] = coef_df['Coefficient'].abs()\n",
    "coef_df = coef_df.sort_values(by='abs_coefficient', ascending=False)\n",
    "\n",
    "# Tampilkan fitur dengan pengaruh paling besar\n",
    "print(coef_df[['Feature', 'Coefficient']])\n",
    "\n",
    "# Visualisasikan koefisien fitur\n",
    "plt.figure(figsize=(10, 6))\n",
    "plt.barh(coef_df['Feature'], coef_df['Coefficient'])\n",
    "plt.xlabel('Coefficient Value')\n",
    "plt.ylabel('Feature')\n",
    "plt.title('Feature Importance based on Coefficients')\n",
    "plt.show()\n"
   ]
  },
  {
   "cell_type": "markdown",
   "id": "5TTulZQIE99d",
   "metadata": {
    "id": "5TTulZQIE99d"
   },
   "source": [
    "Lucas version of program that predicts the delay"
   ]
  },
  {
   "cell_type": "code",
   "execution_count": 20,
   "id": "xiw4oX_LFNhL",
   "metadata": {
    "id": "xiw4oX_LFNhL",
    "executionInfo": {
     "status": "ok",
     "timestamp": 1729084964048,
     "user_tz": -120,
     "elapsed": 45005,
     "user": {
      "displayName": "Lucas Larsson Lindh",
      "userId": "17445609863672789154"
     }
    },
    "colab": {
     "base_uri": "https://localhost:8080/"
    },
    "outputId": "97bca0f9-7a1c-4fb9-e10d-187c8f7b5e3c",
    "ExecuteTime": {
     "end_time": "2024-10-17T05:21:07.974079Z",
     "start_time": "2024-10-17T05:20:42.588115Z"
    }
   },
   "outputs": [
    {
     "name": "stdout",
     "output_type": "stream",
     "text": [
      "Invalid stop. Please enter a valid stop number (1-27) or stop name. Examples: Södra station, hornstull, steriksgatan\n",
      "Invalid stop. Please enter a valid stop number (1-27) or stop name. Examples: Södra station, hornstull, steriksgatan\n",
      "Invalid stop. Please enter a valid stop number (1-27) or stop name. Examples: Södra station, hornstull, steriksgatan\n",
      "Invalid stop. Please enter a valid stop number (1-27) or stop name. Examples: Södra station, hornstull, steriksgatan\n",
      "Invalid stop. Please enter a valid stop number (1-27) or stop name. Examples: Södra station, hornstull, steriksgatan\n",
      "Invalid stop. Please enter a valid stop number (1-27) or stop name. Examples: Södra station, hornstull, steriksgatan\n",
      "Invalid stop. Please enter a valid stop number (1-27) or stop name. Examples: Södra station, hornstull, steriksgatan\n",
      "Invalid stop. Please enter a valid stop number (1-27) or stop name. Examples: Södra station, hornstull, steriksgatan\n",
      "Invalid stop. Please enter a valid stop number (1-27) or stop name. Examples: Södra station, hornstull, steriksgatan\n",
      "Invalid stop. Please enter a valid stop number (1-27) or stop name. Examples: Södra station, hornstull, steriksgatan\n",
      "Invalid stop. Please enter a valid stop number (1-27) or stop name. Examples: Södra station, hornstull, steriksgatan\n",
      "Invalid stop. Please enter a valid stop number (1-27) or stop name. Examples: Södra station, hornstull, steriksgatan\n",
      "Invalid stop. Please enter a valid stop number (1-27) or stop name. Examples: Södra station, hornstull, steriksgatan\n",
      "Invalid stop. Please enter a valid stop number (1-27) or stop name. Examples: Södra station, hornstull, steriksgatan\n",
      "Invalid stop. Please enter a valid stop number (1-27) or stop name. Examples: Södra station, hornstull, steriksgatan\n",
      "Invalid stop. Please enter a valid stop number (1-27) or stop name. Examples: Södra station, hornstull, steriksgatan\n",
      "Invalid stop. Please enter a valid stop number (1-27) or stop name. Examples: Södra station, hornstull, steriksgatan\n",
      "Invalid stop. Please enter a valid stop number (1-27) or stop name. Examples: Södra station, hornstull, steriksgatan\n",
      "Invalid stop. Please enter a valid stop number (1-27) or stop name. Examples: Södra station, hornstull, steriksgatan\n",
      "Invalid stop. Please enter a valid stop number (1-27) or stop name. Examples: Södra station, hornstull, steriksgatan\n",
      "Invalid stop. Please enter a valid stop number (1-27) or stop name. Examples: Södra station, hornstull, steriksgatan\n",
      "Invalid stop. Please enter a valid stop number (1-27) or stop name. Examples: Södra station, hornstull, steriksgatan\n",
      "Invalid stop. Please enter a valid stop number (1-27) or stop name. Examples: Södra station, hornstull, steriksgatan\n",
      "Invalid stop. Please enter a valid stop number (1-27) or stop name. Examples: Södra station, hornstull, steriksgatan\n",
      "Invalid stop. Please enter a valid stop number (1-27) or stop name. Examples: Södra station, hornstull, steriksgatan\n",
      "Invalid stop. Please enter a valid stop number (1-27) or stop name. Examples: Södra station, hornstull, steriksgatan\n",
      "Invalid stop. Please enter a valid stop number (1-27) or stop name. Examples: Södra station, hornstull, steriksgatan\n",
      "Invalid stop. Please enter a valid stop number (1-27) or stop name. Examples: Södra station, hornstull, steriksgatan\n",
      "Invalid stop. Please enter a valid stop number (1-27) or stop name. Examples: Södra station, hornstull, steriksgatan\n",
      "Invalid stop. Please enter a valid stop number (1-27) or stop name. Examples: Södra station, hornstull, steriksgatan\n",
      "Invalid stop. Please enter a valid stop number (1-27) or stop name. Examples: Södra station, hornstull, steriksgatan\n",
      "Invalid stop. Please enter a valid stop number (1-27) or stop name. Examples: Södra station, hornstull, steriksgatan\n",
      "Invalid stop. Please enter a valid stop number (1-27) or stop name. Examples: Södra station, hornstull, steriksgatan\n",
      "Invalid stop. Please enter a valid stop number (1-27) or stop name. Examples: Södra station, hornstull, steriksgatan\n",
      "Invalid stop. Please enter a valid stop number (1-27) or stop name. Examples: Södra station, hornstull, steriksgatan\n",
      "Invalid stop. Please enter a valid stop number (1-27) or stop name. Examples: Södra station, hornstull, steriksgatan\n",
      "Invalid stop. Please enter a valid stop number (1-27) or stop name. Examples: Södra station, hornstull, steriksgatan\n",
      "Invalid stop. Please enter a valid stop number (1-27) or stop name. Examples: Södra station, hornstull, steriksgatan\n",
      "Invalid stop. Please enter a valid stop number (1-27) or stop name. Examples: Södra station, hornstull, steriksgatan\n",
      "Invalid stop. Please enter a valid stop number (1-27) or stop name. Examples: Södra station, hornstull, steriksgatan\n",
      "Invalid stop. Please enter a valid stop number (1-27) or stop name. Examples: Södra station, hornstull, steriksgatan\n",
      "Invalid stop. Please enter a valid stop number (1-27) or stop name. Examples: Södra station, hornstull, steriksgatan\n",
      "Invalid stop. Please enter a valid stop number (1-27) or stop name. Examples: Södra station, hornstull, steriksgatan\n",
      "Invalid stop. Please enter a valid stop number (1-27) or stop name. Examples: Södra station, hornstull, steriksgatan\n",
      "Invalid stop. Please enter a valid stop number (1-27) or stop name. Examples: Södra station, hornstull, steriksgatan\n",
      "Invalid stop. Please enter a valid stop number (1-27) or stop name. Examples: Södra station, hornstull, steriksgatan\n",
      "Invalid stop. Please enter a valid stop number (1-27) or stop name. Examples: Södra station, hornstull, steriksgatan\n",
      "Invalid stop. Please enter a valid stop number (1-27) or stop name. Examples: Södra station, hornstull, steriksgatan\n",
      "Invalid stop. Please enter a valid stop number (1-27) or stop name. Examples: Södra station, hornstull, steriksgatan\n",
      "Invalid stop. Please enter a valid stop number (1-27) or stop name. Examples: Södra station, hornstull, steriksgatan\n",
      "Invalid stop. Please enter a valid stop number (1-27) or stop name. Examples: Södra station, hornstull, steriksgatan\n",
      "Invalid stop. Please enter a valid stop number (1-27) or stop name. Examples: Södra station, hornstull, steriksgatan\n",
      "Invalid stop. Please enter a valid stop number (1-27) or stop name. Examples: Södra station, hornstull, steriksgatan\n",
      "Invalid stop. Please enter a valid stop number (1-27) or stop name. Examples: Södra station, hornstull, steriksgatan\n"
     ]
    },
    {
     "ename": "ValueError",
     "evalue": "invalid literal for int() with base 10: ''",
     "output_type": "error",
     "traceback": [
      "\u001B[1;31m---------------------------------------------------------------------------\u001B[0m",
      "\u001B[1;31mValueError\u001B[0m                                Traceback (most recent call last)",
      "Cell \u001B[1;32mIn[20], line 141\u001B[0m\n\u001B[0;32m    137\u001B[0m     \u001B[38;5;28;01mreturn\u001B[39;00m user_data, get_off_stop\n\u001B[0;32m    139\u001B[0m \u001B[38;5;66;03m# # Getting input from user\u001B[39;00m\n\u001B[0;32m    140\u001B[0m \u001B[38;5;66;03m# input_df = x_test\u001B[39;00m\n\u001B[1;32m--> 141\u001B[0m input_data, get_off_stop \u001B[38;5;241m=\u001B[39m get_user_input()\n\u001B[0;32m    142\u001B[0m \u001B[38;5;28mprint\u001B[39m(input_data)\n\u001B[0;32m    143\u001B[0m input_df \u001B[38;5;241m=\u001B[39m pd\u001B[38;5;241m.\u001B[39mDataFrame([input_data])\n",
      "Cell \u001B[1;32mIn[20], line 125\u001B[0m, in \u001B[0;36mget_user_input\u001B[1;34m()\u001B[0m\n\u001B[0;32m    119\u001B[0m get_off_stop \u001B[38;5;241m=\u001B[39m get_stop_number(\u001B[38;5;124m\"\u001B[39m\u001B[38;5;124mEnter stop you\u001B[39m\u001B[38;5;124m'\u001B[39m\u001B[38;5;124mre going to (1-27 or stop name). For example \u001B[39m\u001B[38;5;124m'\u001B[39m\u001B[38;5;124m1\u001B[39m\u001B[38;5;124m'\u001B[39m\u001B[38;5;124m or \u001B[39m\u001B[38;5;124m'\u001B[39m\u001B[38;5;124mÖstra station\u001B[39m\u001B[38;5;124m'\u001B[39m\u001B[38;5;124m \u001B[39m\u001B[38;5;124m\"\u001B[39m)\n\u001B[0;32m    120\u001B[0m \u001B[38;5;66;03m# Collect input for the first 13 features\u001B[39;00m\n\u001B[0;32m    121\u001B[0m user_data \u001B[38;5;241m=\u001B[39m {\n\u001B[0;32m    122\u001B[0m     \u001B[38;5;124m'\u001B[39m\u001B[38;5;124mstop_sequence\u001B[39m\u001B[38;5;124m'\u001B[39m: get_stop_number(\u001B[38;5;124m\"\u001B[39m\u001B[38;5;124mEnter stop you\u001B[39m\u001B[38;5;124m'\u001B[39m\u001B[38;5;124mre at (1-27 or stop name). For example \u001B[39m\u001B[38;5;124m'\u001B[39m\u001B[38;5;124m1\u001B[39m\u001B[38;5;124m'\u001B[39m\u001B[38;5;124m or \u001B[39m\u001B[38;5;124m'\u001B[39m\u001B[38;5;124mÖstra station\u001B[39m\u001B[38;5;124m'\u001B[39m\u001B[38;5;124m \u001B[39m\u001B[38;5;124m\"\u001B[39m),\n\u001B[0;32m    123\u001B[0m     \u001B[38;5;124m'\u001B[39m\u001B[38;5;124mdwell_time\u001B[39m\u001B[38;5;124m'\u001B[39m: \u001B[38;5;28mint\u001B[39m(\u001B[38;5;28minput\u001B[39m(\u001B[38;5;124m\"\u001B[39m\u001B[38;5;124mEnter dwell_time (in seconds): \u001B[39m\u001B[38;5;124m\"\u001B[39m)),\n\u001B[0;32m    124\u001B[0m     \u001B[38;5;124m'\u001B[39m\u001B[38;5;124mtravel_time_for_previous_section\u001B[39m\u001B[38;5;124m'\u001B[39m: \u001B[38;5;28mint\u001B[39m(\u001B[38;5;28minput\u001B[39m(\u001B[38;5;124m\"\u001B[39m\u001B[38;5;124mEnter travel_time_for_previous_section (in seconds): \u001B[39m\u001B[38;5;124m\"\u001B[39m)),\n\u001B[1;32m--> 125\u001B[0m     \u001B[38;5;124m'\u001B[39m\u001B[38;5;124mscheduled_travel_time\u001B[39m\u001B[38;5;124m'\u001B[39m: \u001B[38;5;28mint\u001B[39m(\u001B[38;5;28minput\u001B[39m(\u001B[38;5;124m\"\u001B[39m\u001B[38;5;124mEnter scheduled_travel_time (in seconds): \u001B[39m\u001B[38;5;124m\"\u001B[39m)),\n\u001B[0;32m    126\u001B[0m     \u001B[38;5;124m'\u001B[39m\u001B[38;5;124mupstream_stop_delay\u001B[39m\u001B[38;5;124m'\u001B[39m: \u001B[38;5;28mint\u001B[39m(\u001B[38;5;28minput\u001B[39m(\u001B[38;5;124m\"\u001B[39m\u001B[38;5;124mEnter upstream_stop_delay (in seconds): \u001B[39m\u001B[38;5;124m\"\u001B[39m)),\n\u001B[0;32m    127\u001B[0m     \u001B[38;5;124m'\u001B[39m\u001B[38;5;124morigin_delay\u001B[39m\u001B[38;5;124m'\u001B[39m: \u001B[38;5;28mint\u001B[39m(\u001B[38;5;28minput\u001B[39m(\u001B[38;5;124m\"\u001B[39m\u001B[38;5;124mEnter origin_delay (in seconds): \u001B[39m\u001B[38;5;124m\"\u001B[39m)),\n\u001B[0;32m    128\u001B[0m     \u001B[38;5;124m'\u001B[39m\u001B[38;5;124mprevious_bus_delay\u001B[39m\u001B[38;5;124m'\u001B[39m: \u001B[38;5;28mint\u001B[39m(\u001B[38;5;28minput\u001B[39m(\u001B[38;5;124m\"\u001B[39m\u001B[38;5;124mEnter previous_bus_delay (in seconds): \u001B[39m\u001B[38;5;124m\"\u001B[39m)),\n\u001B[0;32m    129\u001B[0m     \u001B[38;5;124m'\u001B[39m\u001B[38;5;124mrecurrent_delay\u001B[39m\u001B[38;5;124m'\u001B[39m: \u001B[38;5;28mfloat\u001B[39m(\u001B[38;5;28minput\u001B[39m(\u001B[38;5;124m\"\u001B[39m\u001B[38;5;124mEnter recurrent_delay (in seconds): \u001B[39m\u001B[38;5;124m\"\u001B[39m)),\n\u001B[0;32m    130\u001B[0m     \u001B[38;5;124m'\u001B[39m\u001B[38;5;124mprevious_trip_travel_time\u001B[39m\u001B[38;5;124m'\u001B[39m :\u001B[38;5;28mfloat\u001B[39m(\u001B[38;5;28minput\u001B[39m(\u001B[38;5;124m\"\u001B[39m\u001B[38;5;124mEnter previous_trip_travel_time (in seconds): \u001B[39m\u001B[38;5;124m\"\u001B[39m)),\n\u001B[0;32m    131\u001B[0m     \u001B[38;5;124m'\u001B[39m\u001B[38;5;124mtraffic_condition\u001B[39m\u001B[38;5;124m'\u001B[39m :\u001B[38;5;28mfloat\u001B[39m(\u001B[38;5;28minput\u001B[39m(\u001B[38;5;124m\"\u001B[39m\u001B[38;5;124mEnter traffic_condition (in seconds): \u001B[39m\u001B[38;5;124m\"\u001B[39m)),\n\u001B[0;32m    132\u001B[0m }\n\u001B[0;32m    134\u001B[0m time_factors \u001B[38;5;241m=\u001B[39m get_time_factors()\n\u001B[0;32m    135\u001B[0m user_data\u001B[38;5;241m.\u001B[39mupdate(time_factors)\n",
      "\u001B[1;31mValueError\u001B[0m: invalid literal for int() with base 10: ''"
     ]
    }
   ],
   "source": [
    "#----------------------**Mapping**-------------------------------------------\n",
    "# Dictionary mapping stop names to stop numbers\n",
    "stop_mapping = {\n",
    "    'skanstull': 1,\n",
    "    'eriksdal': 2,\n",
    "    'rosenlund': 3,\n",
    "    'södrastation': 4,\n",
    "    #Three names for the same station\n",
    "    'hornsgatan/rosenlundsgatan': 5,\n",
    "    'zinkensdamm': 6,\n",
    "    'varvsgatan': 7,\n",
    "    'hornstull': 8,\n",
    "    'högalidsgatan': 9,\n",
    "    'västerbroplan': 10,\n",
    "    'mariebergsgatan': 11,\n",
    "    'fridhemsplan': 12,\n",
    "    'flemminggatan': 13,\n",
    "    'steriksplan': 14,\n",
    "    'dalagatan': 15,\n",
    "    'odenplan': 16,\n",
    "    'stadsbiblioteket': 17,\n",
    "    'roslagsgatan': 18,\n",
    "    'vallhallavägen': 19,\n",
    "    'östrastation': 20,\n",
    "    'stadion': 21,\n",
    "    'musikhögskolan': 22,\n",
    "    'jungfrugatan': 23,\n",
    "    'värtavägen': 24,\n",
    "    'banergatan': 25,\n",
    "    'garnisonen': 26,\n",
    "    'radiohuset': 27\n",
    "}\n",
    "\n",
    "# Function to get stop number from user input (either a number or a name)\n",
    "def get_stop_number(prompt):\n",
    "    user_input = input(prompt).strip().lower().replace(\" \", \"\")  # Strip whitespace and make input lowercase\n",
    "\n",
    "    # Check if the input is numeric and within the valid range (1-27)\n",
    "    # This will return the number as an integer\n",
    "    if user_input.isdigit() and 1 <= int(user_input) <= 27:\n",
    "        return int(user_input)\n",
    "\n",
    "    # Check if the input is a valid stop name\n",
    "    elif user_input in stop_mapping:\n",
    "        return stop_mapping[user_input]\n",
    "\n",
    "    # If invalid, notify the user and ask again\n",
    "    else:\n",
    "        print(\"Invalid stop. Please enter a valid stop number (1-27) or stop name. Examples: Södra station, hornstull, steriksgatan\")\n",
    "        return get_stop_number(prompt)  # Recursively call until valid input\n",
    "#----------------------**Mapping**-------------------------------------------\n",
    "\n",
    "#----------------------**Functions to get time**-------------------------------------------\n",
    "def get_time_factors():\n",
    "    # Prompt for weekday/weekend\n",
    "    time_of_week = input(\"Is it a weekday or weekend? (Enter 'weekday' or 'weekend'): \").strip().lower()\n",
    "\n",
    "    if time_of_week == 'weekday':\n",
    "        weekday = 1\n",
    "        weekend = 0\n",
    "    elif time_of_week == 'weekend':\n",
    "        weekday = 0\n",
    "        weekend = 1\n",
    "    else:\n",
    "        print(\"Invalid input. Please enter 'weekday' or 'weekend'.\")\n",
    "        return get_time_factors()\n",
    "\n",
    "    # Prompt for time of day\n",
    "    time_of_day = get_time_of_day()\n",
    "    morning_peak, afternoon_peak, off_peak = time_of_day\n",
    "\n",
    "    # if time_of_day == 'morning':\n",
    "    #     morning_peak = 1\n",
    "    #     afternoon_peak = 0\n",
    "    #     off_peak = 0\n",
    "    # elif time_of_day == 'afternoon':\n",
    "    #     morning_peak = 0\n",
    "    #     afternoon_peak = 1\n",
    "    #     off_peak = 0\n",
    "    # elif time_of_day == 'off-peak':\n",
    "    #     morning_peak = 0\n",
    "    #     afternoon_peak = 0\n",
    "    #     off_peak = 1\n",
    "    # else:\n",
    "    #     raise ValueError(\"Invalid input. Please enter 'morning', 'afternoon', or 'off-peak'.\")\n",
    "\n",
    "    return {\n",
    "        'factor(day_of_week)weekday': weekday,\n",
    "        'factor(day_of_week)weekend': weekend,\n",
    "        'factor(time_of_day)Afternoon_peak': afternoon_peak,\n",
    "        'factor(time_of_day)Morning_peak': morning_peak,\n",
    "        'factor(time_of_day)Off-peak': off_peak\n",
    "    }\n",
    "\n",
    "def get_time_of_day():\n",
    "    time_of_day = input(\"Is it Morning peak, Afternoon peak, or Off-peak? (Enter 'morning', 'afternoon', or 'off-peak'): \").strip().lower()\n",
    "\n",
    "    if time_of_day == 'morning':\n",
    "        morning_peak = 1\n",
    "        afternoon_peak = 0\n",
    "        off_peak = 0\n",
    "    elif time_of_day == 'afternoon':\n",
    "        morning_peak = 0\n",
    "        afternoon_peak = 1\n",
    "        off_peak = 0\n",
    "    elif time_of_day == 'off-peak':\n",
    "        morning_peak = 0\n",
    "        afternoon_peak = 0\n",
    "        off_peak = 1\n",
    "    else:\n",
    "        print(\"Invalid input. Please enter 'morning', 'afternoon', or 'off-peak'.\")\n",
    "        return get_time_of_day()\n",
    "\n",
    "    return morning_peak, afternoon_peak, off_peak\n",
    "#----------------------**Functions to get time**-------------------------------------------\n",
    "\n",
    "#----------------------**Get user info**-------------------------------------------\n",
    "def get_user_input():\n",
    "    get_off_stop = get_stop_number(\"Enter stop you're going to (1-27 or stop name). For example '1' or 'Östra station' \")\n",
    "    # Collect input for the first 13 features\n",
    "    user_data = {\n",
    "        'stop_sequence': get_stop_number(\"Enter stop you're at (1-27 or stop name). For example '1' or 'Östra station' \"),\n",
    "        'dwell_time': int(input(\"Enter dwell_time (in seconds): \")),\n",
    "        'travel_time_for_previous_section': int(input(\"Enter travel_time_for_previous_section (in seconds): \")),\n",
    "        'scheduled_travel_time': int(input(\"Enter scheduled_travel_time (in seconds): \")),\n",
    "        'upstream_stop_delay': int(input(\"Enter upstream_stop_delay (in seconds): \")),\n",
    "        'origin_delay': int(input(\"Enter origin_delay (in seconds): \")),\n",
    "        'previous_bus_delay': int(input(\"Enter previous_bus_delay (in seconds): \")),\n",
    "        'recurrent_delay': float(input(\"Enter recurrent_delay (in seconds): \")),\n",
    "        'previous_trip_travel_time' :float(input(\"Enter previous_trip_travel_time (in seconds): \")),\n",
    "        'traffic_condition' :float(input(\"Enter traffic_condition (in seconds): \")),\n",
    "    }\n",
    "\n",
    "    time_factors = get_time_factors()\n",
    "    user_data.update(time_factors)\n",
    "\n",
    "    return user_data, get_off_stop\n",
    "\n",
    "# # Getting input from user\n",
    "# input_df = x_test\n",
    "input_data, get_off_stop = get_user_input()\n",
    "print(input_data)\n",
    "input_df = pd.DataFrame([input_data])\n",
    "\n",
    "#----------------------**Get user info**-------------------------------------------\n",
    "\n",
    "##### RESCALING input #####\n",
    "input_df_c = input_df[continous]\n",
    "input_df_binary = input_df[binary]\n",
    "input_df_continous = scaler.transform(input_df_c)\n",
    "continous_input_df = pd.DataFrame(input_df_continous, columns = continous, index=input_df.index)\n",
    "binary_input_df = input_df_binary.reset_index(drop=True)\n",
    "# merge scaled continous features with non-scaled binary features\n",
    "input_df_scaled = pd.concat([continous_input_df.reset_index(drop=True), binary_input_df], axis = 1)\n",
    "\n",
    "\n",
    "# # Use the trained model (best_model) to make a prediction\n",
    "prediction_start_station = model_LR.predict(input_df_scaled)\n",
    "\n",
    "input_df_scaled.loc[0, 'stop_sequence'] = get_off_stop\n",
    "prediction_end_station = model_LR.predict(input_df_scaled)\n",
    "\n",
    "# # Output the prediction\n",
    "print(f\"Predicted arrival_delay at your station: {prediction_start_station[0]}\")\n",
    "print(f\"Predicted arrival_delay at your destination: {prediction_end_station[0]}\")1"
   ]
  },
  {
   "cell_type": "code",
   "outputs": [],
   "source": [],
   "metadata": {
    "collapsed": false
   },
   "id": "720f1f0438aa8bd"
  }
 ],
 "metadata": {
  "colab": {
   "provenance": []
  },
  "kernelspec": {
   "display_name": "Python 3 (ipykernel)",
   "language": "python",
   "name": "python3"
  },
  "language_info": {
   "codemirror_mode": {
    "name": "ipython",
    "version": 3
   },
   "file_extension": ".py",
   "mimetype": "text/x-python",
   "name": "python",
   "nbconvert_exporter": "python",
   "pygments_lexer": "ipython3",
   "version": "3.11.5"
  }
 },
 "nbformat": 4,
 "nbformat_minor": 5
}
