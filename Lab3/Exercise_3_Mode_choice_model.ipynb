{
 "nbformat": 4,
 "nbformat_minor": 0,
 "metadata": {
  "colab": {
   "provenance": []
  },
  "kernelspec": {
   "name": "python3",
   "language": "python",
   "display_name": "Python 3 (ipykernel)"
  },
  "language_info": {
   "name": "python"
  }
 },
 "cells": [
  {
   "cell_type": "markdown",
   "source": [
    "# Exercise 3: Mode choice classification\n",
    "\n",
    "Transportation mode choice is a critical decision-making process that individuals, businesses, and urban planners face daily. It involves selecting the most suitable mode of transportation for a given journey/trip, taking into account factors such as cost, time, convenience, and environmental impact. In this tutorial, we will explore how to address the mode choice problem using classification models.\n",
    "\n",
    "**Key points to cover:**\n",
    "\n",
    "* Mode choice problem;\n",
    "* *Encoding techniques* for categorical variables\n",
    "* Classification models *implementation*\n",
    "* Classification models *evaluation metrics*\n"
   ],
   "metadata": {
    "id": "R__DcXTj-zbL"
   }
  },
  {
   "cell_type": "code",
   "execution_count": 23,
   "metadata": {
    "id": "121uD1UhQ_-X",
    "ExecuteTime": {
     "end_time": "2024-09-02T12:00:02.802121Z",
     "start_time": "2024-09-02T12:00:02.783465Z"
    }
   },
   "outputs": [],
   "source": [
    "import pandas as pd\n",
    "from statistics import mode\n",
    "import numpy as np\n",
    "import os"
   ]
  },
  {
   "cell_type": "markdown",
   "source": [
    "## Loading the dataset"
   ],
   "metadata": {
    "id": "08qMPRhP_ci_"
   }
  },
  {
   "cell_type": "code",
   "source": [
    "# The path of the dataset\n",
    "url = 'https://raw.githubusercontent.com/zhenliangma/Applied-AI-in-Transportation/master/Exercise_3_Mode_choice_model/modeChoiceData.csv'\n",
    "# Load the data use the pandas\n",
    "moide_choice_data = pd.read_csv(url)"
   ],
   "metadata": {
    "id": "Ap0p7etz_bgX",
    "ExecuteTime": {
     "end_time": "2024-09-02T12:00:03.299970Z",
     "start_time": "2024-09-02T12:00:02.890456Z"
    }
   },
   "execution_count": 24,
   "outputs": []
  },
  {
   "cell_type": "markdown",
   "source": [
    "## Data Preparation\n",
    "\n",
    "Transform the dataset into a binary classification problem: car vs. rail."
   ],
   "metadata": {
    "id": "ug2z8HSFiFua"
   }
  },
  {
   "cell_type": "code",
   "source": [
    "mode_choice_car_df = (\n",
    "    moide_choice_data.loc[moide_choice_data[\"choice\"].isin([\"car\", \"rail\"]),\n",
    "     [\"time_car\", \"cost_car\", \"time_rail\", \"cost_rail\", \"access_rail\", \"service_rail\", \"choice\"]]\n",
    "    .reset_index()\n",
    "    .drop(columns=[\"index\"])\n",
    ")"
   ],
   "metadata": {
    "id": "LIXnje53RCM8",
    "ExecuteTime": {
     "end_time": "2024-09-02T12:00:03.348852Z",
     "start_time": "2024-09-02T12:00:03.304380Z"
    }
   },
   "execution_count": 25,
   "outputs": []
  },
  {
   "cell_type": "markdown",
   "source": [
    "Check the distribution of the classes:"
   ],
   "metadata": {
    "id": "_J1clfo5oO43"
   }
  },
  {
   "cell_type": "code",
   "source": [
    "import seaborn as sns\n",
    "import matplotlib.pyplot as plt\n",
    "\n",
    "# Assuming the classes are stored in a column called 'class'\n",
    "sns.countplot(data=mode_choice_car_df, x='choice')\n",
    "\n",
    "# Add title and labels\n",
    "plt.title('Distribution of Classes')\n",
    "plt.xlabel('Class')\n",
    "plt.ylabel('Count')\n",
    "\n",
    "# Show the plot\n",
    "plt.show()"
   ],
   "metadata": {
    "colab": {
     "base_uri": "https://localhost:8080/",
     "height": 472
    },
    "id": "C1pIrz7voMky",
    "outputId": "7d65a8a1-83bc-485b-c73d-a3ee91298e3e",
    "ExecuteTime": {
     "end_time": "2024-09-02T12:00:03.607044Z",
     "start_time": "2024-09-02T12:00:03.350863Z"
    }
   },
   "execution_count": 26,
   "outputs": [
    {
     "data": {
      "text/plain": "<Figure size 640x480 with 1 Axes>",
      "image/png": "[encoded data removed]"
     },
     "metadata": {},
     "output_type": "display_data"
    }
   ]
  },
  {
   "cell_type": "code",
   "source": [
    "mode_choice_car_df.head(10)"
   ],
   "metadata": {
    "colab": {
     "base_uri": "https://localhost:8080/",
     "height": 363
    },
    "id": "jDGQL7Gnoy8C",
    "outputId": "1a9d2d15-6a6a-46ab-f45b-8df266d8e3d3",
    "ExecuteTime": {
     "end_time": "2024-09-02T12:00:03.620229Z",
     "start_time": "2024-09-02T12:00:03.609144Z"
    }
   },
   "execution_count": 27,
   "outputs": [
    {
     "data": {
      "text/plain": "   time_car  cost_car  time_rail  cost_rail  access_rail service_rail choice\n0       275        45        170         55           25         food   rail\n1       275        45        155         35            5    no-frills   rail\n2       300        45        155         65           20    no-frills   rail\n3       390        35        155         65           15         food   rail\n4       275        40        155         55            5         food   rail\n5       250        50        120         65           20         wifi   rail\n6       275        30        155         65           25         wifi    car\n7       300        45        170         45            5    no-frills   rail\n8       345        30        140         65           15    no-frills    car\n9       250        40        140         75           20         wifi    car",
      "text/html": "<div>\n<style scoped>\n    .dataframe tbody tr th:only-of-type {\n        vertical-align: middle;\n    }\n\n    .dataframe tbody tr th {\n        vertical-align: top;\n    }\n\n    .dataframe thead th {\n        text-align: right;\n    }\n</style>\n<table border=\"1\" class=\"dataframe\">\n  <thead>\n    <tr style=\"text-align: right;\">\n      <th></th>\n      <th>time_car</th>\n      <th>cost_car</th>\n      <th>time_rail</th>\n      <th>cost_rail</th>\n      <th>access_rail</th>\n      <th>service_rail</th>\n      <th>choice</th>\n    </tr>\n  </thead>\n  <tbody>\n    <tr>\n      <th>0</th>\n      <td>275</td>\n      <td>45</td>\n      <td>170</td>\n      <td>55</td>\n      <td>25</td>\n      <td>food</td>\n      <td>rail</td>\n    </tr>\n    <tr>\n      <th>1</th>\n      <td>275</td>\n      <td>45</td>\n      <td>155</td>\n      <td>35</td>\n      <td>5</td>\n      <td>no-frills</td>\n      <td>rail</td>\n    </tr>\n    <tr>\n      <th>2</th>\n      <td>300</td>\n      <td>45</td>\n      <td>155</td>\n      <td>65</td>\n      <td>20</td>\n      <td>no-frills</td>\n      <td>rail</td>\n    </tr>\n    <tr>\n      <th>3</th>\n      <td>390</td>\n      <td>35</td>\n      <td>155</td>\n      <td>65</td>\n      <td>15</td>\n      <td>food</td>\n      <td>rail</td>\n    </tr>\n    <tr>\n      <th>4</th>\n      <td>275</td>\n      <td>40</td>\n      <td>155</td>\n      <td>55</td>\n      <td>5</td>\n      <td>food</td>\n      <td>rail</td>\n    </tr>\n    <tr>\n      <th>5</th>\n      <td>250</td>\n      <td>50</td>\n      <td>120</td>\n      <td>65</td>\n      <td>20</td>\n      <td>wifi</td>\n      <td>rail</td>\n    </tr>\n    <tr>\n      <th>6</th>\n      <td>275</td>\n      <td>30</td>\n      <td>155</td>\n      <td>65</td>\n      <td>25</td>\n      <td>wifi</td>\n      <td>car</td>\n    </tr>\n    <tr>\n      <th>7</th>\n      <td>300</td>\n      <td>45</td>\n      <td>170</td>\n      <td>45</td>\n      <td>5</td>\n      <td>no-frills</td>\n      <td>rail</td>\n    </tr>\n    <tr>\n      <th>8</th>\n      <td>345</td>\n      <td>30</td>\n      <td>140</td>\n      <td>65</td>\n      <td>15</td>\n      <td>no-frills</td>\n      <td>car</td>\n    </tr>\n    <tr>\n      <th>9</th>\n      <td>250</td>\n      <td>40</td>\n      <td>140</td>\n      <td>75</td>\n      <td>20</td>\n      <td>wifi</td>\n      <td>car</td>\n    </tr>\n  </tbody>\n</table>\n</div>"
     },
     "execution_count": 27,
     "metadata": {},
     "output_type": "execute_result"
    }
   ]
  },
  {
   "cell_type": "markdown",
   "source": [
    "Get to know the different values for the categorical variable *service rail*."
   ],
   "metadata": {
    "id": "_kbmqIKe_o_r"
   }
  },
  {
   "cell_type": "code",
   "source": [
    "mode_choice_car_df.service_rail.unique()"
   ],
   "metadata": {
    "colab": {
     "base_uri": "https://localhost:8080/"
    },
    "id": "xYPlPLYAByX0",
    "outputId": "6628feda-26a7-4d04-b05d-fba2d47f6fb4",
    "ExecuteTime": {
     "end_time": "2024-09-02T12:00:03.627482Z",
     "start_time": "2024-09-02T12:00:03.621310Z"
    }
   },
   "execution_count": 28,
   "outputs": [
    {
     "data": {
      "text/plain": "array(['food', 'no-frills', 'wifi'], dtype=object)"
     },
     "execution_count": 28,
     "metadata": {},
     "output_type": "execute_result"
    }
   ]
  },
  {
   "cell_type": "markdown",
   "source": [
    "Get an overview about the statistics of the numerical columns:"
   ],
   "metadata": {
    "id": "B78canKCB2_i"
   }
  },
  {
   "cell_type": "code",
   "source": [
    "mode_choice_car_df.describe()"
   ],
   "metadata": {
    "id": "dqd3oJ9Epqw7",
    "ExecuteTime": {
     "end_time": "2024-09-02T12:00:03.651839Z",
     "start_time": "2024-09-02T12:00:03.628556Z"
    }
   },
   "execution_count": 29,
   "outputs": [
    {
     "data": {
      "text/plain": "          time_car     cost_car    time_rail    cost_rail  access_rail\ncount  2266.000000  2266.000000  2266.000000  2266.000000  2266.000000\nmean    310.505296    40.083848   143.175199    53.415711    15.037511\nstd      49.424710     6.988924    18.236603    14.285212     7.127716\nmin     250.000000    30.000000   120.000000    35.000000     5.000000\n25%     275.000000    35.000000   130.000000    45.000000    10.000000\n50%     300.000000    40.000000   140.000000    55.000000    15.000000\n75%     345.000000    45.000000   155.000000    65.000000    20.000000\nmax     390.000000    50.000000   170.000000    75.000000    25.000000",
      "text/html": "<div>\n<style scoped>\n    .dataframe tbody tr th:only-of-type {\n        vertical-align: middle;\n    }\n\n    .dataframe tbody tr th {\n        vertical-align: top;\n    }\n\n    .dataframe thead th {\n        text-align: right;\n    }\n</style>\n<table border=\"1\" class=\"dataframe\">\n  <thead>\n    <tr style=\"text-align: right;\">\n      <th></th>\n      <th>time_car</th>\n      <th>cost_car</th>\n      <th>time_rail</th>\n      <th>cost_rail</th>\n      <th>access_rail</th>\n    </tr>\n  </thead>\n  <tbody>\n    <tr>\n      <th>count</th>\n      <td>2266.000000</td>\n      <td>2266.000000</td>\n      <td>2266.000000</td>\n      <td>2266.000000</td>\n      <td>2266.000000</td>\n    </tr>\n    <tr>\n      <th>mean</th>\n      <td>310.505296</td>\n      <td>40.083848</td>\n      <td>143.175199</td>\n      <td>53.415711</td>\n      <td>15.037511</td>\n    </tr>\n    <tr>\n      <th>std</th>\n      <td>49.424710</td>\n      <td>6.988924</td>\n      <td>18.236603</td>\n      <td>14.285212</td>\n      <td>7.127716</td>\n    </tr>\n    <tr>\n      <th>min</th>\n      <td>250.000000</td>\n      <td>30.000000</td>\n      <td>120.000000</td>\n      <td>35.000000</td>\n      <td>5.000000</td>\n    </tr>\n    <tr>\n      <th>25%</th>\n      <td>275.000000</td>\n      <td>35.000000</td>\n      <td>130.000000</td>\n      <td>45.000000</td>\n      <td>10.000000</td>\n    </tr>\n    <tr>\n      <th>50%</th>\n      <td>300.000000</td>\n      <td>40.000000</td>\n      <td>140.000000</td>\n      <td>55.000000</td>\n      <td>15.000000</td>\n    </tr>\n    <tr>\n      <th>75%</th>\n      <td>345.000000</td>\n      <td>45.000000</td>\n      <td>155.000000</td>\n      <td>65.000000</td>\n      <td>20.000000</td>\n    </tr>\n    <tr>\n      <th>max</th>\n      <td>390.000000</td>\n      <td>50.000000</td>\n      <td>170.000000</td>\n      <td>75.000000</td>\n      <td>25.000000</td>\n    </tr>\n  </tbody>\n</table>\n</div>"
     },
     "execution_count": 29,
     "metadata": {},
     "output_type": "execute_result"
    }
   ]
  },
  {
   "cell_type": "markdown",
   "source": [
    "### Train-Test Split\n",
    "\n",
    "We divide the data first into its explaining variables/features (X) and the variable that we want to predict/target (y).\n",
    "\n",
    "Afterwards we create a train and test set with a 80%/20% split."
   ],
   "metadata": {
    "id": "VdOghmNYplJe"
   }
  },
  {
   "cell_type": "code",
   "source": [
    "from sklearn.model_selection import train_test_split\n",
    "\n",
    "X = mode_choice_car_df.drop(columns=[\"choice\"])\n",
    "y = mode_choice_car_df[\"choice\"]\n",
    "\n",
    "X_train, X_test, y_train, y_test = train_test_split(X, y, test_size=0.2, random_state=0)"
   ],
   "metadata": {
    "id": "iT2X2dEbbzhA",
    "ExecuteTime": {
     "end_time": "2024-09-02T12:00:03.673019Z",
     "start_time": "2024-09-02T12:00:03.652908Z"
    }
   },
   "execution_count": 30,
   "outputs": []
  },
  {
   "cell_type": "code",
   "source": [
    "X_train.head()"
   ],
   "metadata": {
    "colab": {
     "base_uri": "https://localhost:8080/",
     "height": 206
    },
    "id": "rbDd-RyPCuCm",
    "outputId": "e3080fdb-81a7-454c-afdf-1ba583b8a2b9",
    "ExecuteTime": {
     "end_time": "2024-09-02T12:00:03.682501Z",
     "start_time": "2024-09-02T12:00:03.674090Z"
    }
   },
   "execution_count": 31,
   "outputs": [
    {
     "data": {
      "text/plain": "      time_car  cost_car  time_rail  cost_rail  access_rail service_rail\n1150       250        45        170         35           15         food\n1538       275        35        140         65           20         food\n1254       300        40        140         55           25         food\n1843       345        45        130         45           10    no-frills\n977        345        35        140         45           25         food",
      "text/html": "<div>\n<style scoped>\n    .dataframe tbody tr th:only-of-type {\n        vertical-align: middle;\n    }\n\n    .dataframe tbody tr th {\n        vertical-align: top;\n    }\n\n    .dataframe thead th {\n        text-align: right;\n    }\n</style>\n<table border=\"1\" class=\"dataframe\">\n  <thead>\n    <tr style=\"text-align: right;\">\n      <th></th>\n      <th>time_car</th>\n      <th>cost_car</th>\n      <th>time_rail</th>\n      <th>cost_rail</th>\n      <th>access_rail</th>\n      <th>service_rail</th>\n    </tr>\n  </thead>\n  <tbody>\n    <tr>\n      <th>1150</th>\n      <td>250</td>\n      <td>45</td>\n      <td>170</td>\n      <td>35</td>\n      <td>15</td>\n      <td>food</td>\n    </tr>\n    <tr>\n      <th>1538</th>\n      <td>275</td>\n      <td>35</td>\n      <td>140</td>\n      <td>65</td>\n      <td>20</td>\n      <td>food</td>\n    </tr>\n    <tr>\n      <th>1254</th>\n      <td>300</td>\n      <td>40</td>\n      <td>140</td>\n      <td>55</td>\n      <td>25</td>\n      <td>food</td>\n    </tr>\n    <tr>\n      <th>1843</th>\n      <td>345</td>\n      <td>45</td>\n      <td>130</td>\n      <td>45</td>\n      <td>10</td>\n      <td>no-frills</td>\n    </tr>\n    <tr>\n      <th>977</th>\n      <td>345</td>\n      <td>35</td>\n      <td>140</td>\n      <td>45</td>\n      <td>25</td>\n      <td>food</td>\n    </tr>\n  </tbody>\n</table>\n</div>"
     },
     "execution_count": 31,
     "metadata": {},
     "output_type": "execute_result"
    }
   ]
  },
  {
   "cell_type": "markdown",
   "source": [
    "### Scaling and Encoding the features\n",
    "\n",
    "We remember: especially for distance calculations we need to scale the features to ensure equal influence.\n",
    "\n",
    "Furthermore, we have a categorical variable in our dataset: *service_rail*. We need to treat this variable by an encoding technique before using it. In this case we have decided for one-hot encoding.\n"
   ],
   "metadata": {
    "id": "2oxjUFBZpVaq"
   }
  },
  {
   "cell_type": "code",
   "source": [
    "from sklearn.preprocessing import StandardScaler, OneHotEncoder\n",
    "\n",
    "# Define which columns should be encoded vs scaled\n",
    "columns_to_encode = [\"service_rail\"]\n",
    "columns_to_scale  = [\"time_car\", \"cost_car\", \"time_rail\", \"cost_rail\", \"access_rail\"]\n",
    "\n",
    "# Instantiate encoder/scaler\n",
    "scaler = StandardScaler()\n",
    "ohe = OneHotEncoder(sparse=False)\n",
    "\n",
    "# Scale and Encode Separate Columns\n",
    "X_train_scaled_columns  = scaler.fit_transform(X_train[columns_to_scale])\n",
    "X_train_encoded_columns = ohe.fit_transform(X_train[columns_to_encode])\n",
    "\n",
    "X_test_scaled_columns  = scaler.transform(X_test[columns_to_scale])\n",
    "X_test_encoded_columns = ohe.transform(X_test[columns_to_encode])\n",
    "\n",
    "# Concatenate (Column-Bind) Processed Columns Back Together\n",
    "X_train_processed = np.concatenate([X_train_scaled_columns, X_train_encoded_columns], axis=1)\n",
    "X_test_processed = np.concatenate([X_test_scaled_columns, X_test_encoded_columns], axis=1)"
   ],
   "metadata": {
    "colab": {
     "base_uri": "https://localhost:8080/"
    },
    "id": "f3ZwFGzjCDhz",
    "outputId": "999e7e83-12c2-42e2-d207-e53814b974d5",
    "ExecuteTime": {
     "end_time": "2024-09-02T12:00:03.710384Z",
     "start_time": "2024-09-02T12:00:03.683574Z"
    }
   },
   "execution_count": 32,
   "outputs": [
    {
     "name": "stderr",
     "output_type": "stream",
     "text": [
      "C:\\Users\\khafi\\anaconda3\\Lib\\site-packages\\sklearn\\preprocessing\\_encoders.py:972: FutureWarning: `sparse` was renamed to `sparse_output` in version 1.2 and will be removed in 1.4. `sparse_output` is ignored unless you leave `sparse` to its default value.\n",
      "  warnings.warn(\n"
     ]
    }
   ]
  },
  {
   "cell_type": "markdown",
   "source": [
    "## Task 1: Build your own KNN classifier\n",
    "\n",
    "Your task is now to implement the KNN algorithm yourself. Return the classification of the unclassified point (*X_unclassified*).\n",
    "\n",
    "Python methods that might be helpful:\n",
    "- **for-loop**: ```for value in mylist:```\n",
    "- **Append values to a list:** ```my_list.append(value)```\n",
    "- **Get the indices of the n smallest values of the list mylist**: ```np.argsort(my_list)[:n]```\n",
    "- **Gets the values from a pandas series at the location of the given indices**: ```y_train.iloc[indices]```\n",
    "- **Get the most frequent element in a list**: ```mode(mylist)```"
   ],
   "metadata": {
    "id": "1t3aWEJFit7B"
   }
  },
  {
   "cell_type": "markdown",
   "source": [
    "### Implement Distance Function\n",
    "\n",
    "The euclidean distance function allows to determine the distance between two points."
   ],
   "metadata": {
    "id": "ZHBRIc74Sfe9"
   }
  },
  {
   "cell_type": "code",
   "source": [
    "def euclidean_distance(point1, point2):\n",
    "  # go through the features of point1 and 2\n",
    "  current_sum = 0\n",
    "  for i in range(0, len(point1)):\n",
    "    # calculate their squared difference and sum it\n",
    "    current_sum += (point1[i]-point2[i])**2\n",
    "\n",
    "  # calculate the square root from the summed distances\n",
    "  distance = np.sqrt(current_sum)\n",
    "\n",
    "  return distance"
   ],
   "metadata": {
    "id": "_jtyTSf6SbwQ",
    "ExecuteTime": {
     "end_time": "2024-09-02T12:00:03.720108Z",
     "start_time": "2024-09-02T12:00:03.713389Z"
    }
   },
   "execution_count": 33,
   "outputs": []
  },
  {
   "cell_type": "markdown",
   "source": [
    "### Code of your own KNN classifier:"
   ],
   "metadata": {
    "id": "-9Mt8yEksSYa"
   }
  },
  {
   "cell_type": "code",
   "outputs": [],
   "source": [
    "def knn_predict(X_train, y_train, x_test, k=3):\n",
    "    distances = []\n",
    "    for i in range(len(X_train)):\n",
    "        dist = euclidean_distance(X_train[i], x_test)\n",
    "        distances.append((dist, y_train[i]))\n",
    "    \n",
    "    distances.sort(key=lambda x: x[0])\n",
    "    neighbors = distances[:k]\n",
    "    neighbor_labels = [neighbor[1] for neighbor in neighbors]\n",
    "\n",
    "    return mode(neighbor_labels)\n",
    "    \n",
    "\n",
    "\n",
    "  # change that to the actual classification\n",
    "  classification = None\n",
    "  return classification"
   ],
   "metadata": {
    "collapsed": false
   }
  },
  {
   "cell_type": "markdown",
   "source": [
    "### Make a prediction"
   ],
   "metadata": {
    "id": "sB-U4w9Zq35d"
   }
  },
  {
   "cell_type": "code",
   "source": [
    "custom_knn(X_train_processed, y_train, X_test_processed[0], 5)"
   ],
   "metadata": {
    "id": "hrQD7LTIbTSX",
    "ExecuteTime": {
     "end_time": "2024-09-02T12:10:17.552741Z",
     "start_time": "2024-09-02T12:10:17.517637Z"
    }
   },
   "execution_count": 41,
   "outputs": [
    {
     "ename": "IndexError",
     "evalue": "index 6 is out of bounds for axis 0 with size 6",
     "output_type": "error",
     "traceback": [
      "\u001B[1;31m---------------------------------------------------------------------------\u001B[0m",
      "\u001B[1;31mIndexError\u001B[0m                                Traceback (most recent call last)",
      "Cell \u001B[1;32mIn[41], line 1\u001B[0m\n\u001B[1;32m----> 1\u001B[0m knn_predict(X_train_processed, y_train, X_test_processed[\u001B[38;5;241m0\u001B[39m], \u001B[38;5;241m5\u001B[39m)\n",
      "Cell \u001B[1;32mIn[40], line 8\u001B[0m, in \u001B[0;36mknn_predict\u001B[1;34m(X_train, y_train, x_test, k)\u001B[0m\n\u001B[0;32m      6\u001B[0m \u001B[38;5;28;01mfor\u001B[39;00m i \u001B[38;5;129;01min\u001B[39;00m \u001B[38;5;28mrange\u001B[39m(\u001B[38;5;28mlen\u001B[39m(X_train)):\n\u001B[0;32m      7\u001B[0m     dist \u001B[38;5;241m=\u001B[39m euclidean_distance(X_train[i], x_test)\n\u001B[1;32m----> 8\u001B[0m     distances\u001B[38;5;241m.\u001B[39mappend((dist, y_train[i]))\n\u001B[0;32m     10\u001B[0m distances\u001B[38;5;241m.\u001B[39msort(key\u001B[38;5;241m=\u001B[39m\u001B[38;5;28;01mlambda\u001B[39;00m x: x[\u001B[38;5;241m0\u001B[39m])\n\u001B[0;32m     11\u001B[0m neighbors \u001B[38;5;241m=\u001B[39m distances[:k]\n",
      "\u001B[1;31mIndexError\u001B[0m: index 6 is out of bounds for axis 0 with size 6"
     ]
    }
   ]
  },
  {
   "cell_type": "markdown",
   "source": [
    "### Compare with the true class"
   ],
   "metadata": {
    "id": "TWecmtnKw2V2"
   }
  },
  {
   "cell_type": "code",
   "source": [
    "y_test.iloc[0]"
   ],
   "metadata": {
    "id": "J5wEborXc7vd",
    "ExecuteTime": {
     "end_time": "2024-09-02T12:00:03.732108Z",
     "start_time": "2024-09-02T12:00:03.731108Z"
    }
   },
   "execution_count": null,
   "outputs": []
  },
  {
   "cell_type": "markdown",
   "source": [
    "## Task 2: Understand Classification Evaluation Metrics\n",
    "\n",
    " - **Accuracy**: The ratio of correctly predicted instances to the total instances.\n",
    "   - Formula: `Accuracy = (TP + TN) / (TP + TN + FP + FN)`\n",
    "\n",
    " - **Precision**: The ratio of correctly predicted positive observations to the total predicted positives.\n",
    "   - Formula: `Precision = TP / (TP + FP)`\n",
    "\n",
    " - **Recall (Sensitivity/True Positive Rate)**: The ratio of correctly predicted positive observations to all observations in the actual class.\n",
    "   - Formula: `Recall = TP / (TP + FN)`\n",
    "\n",
    " - **F1-Score**: The harmonic mean of precision and recall.\n",
    "   - Formula: `F1-Score = 2 * (Precision * Recall) / (Precision + Recall)`\n",
    "\n",
    "Let's calculate these metrics using an example scenario.\n",
    "\n",
    "**Scenario:**\n",
    "- Imagine you are building a model to predict mode choice with a dataset where only 1% of the observations used the mode car (i.e., imbalanced data).\n",
    "- Assume you have 10,000 observations, where 100 are mode car (positive class) and 9,900 are mode rail (negative class).\n",
    "\n",
    "### Task 2.1: Initial Model Evaluation\n",
    "Consider a model that predicts all transactions as rail (negative class).\n",
    "\n",
    "- a) Calculate the following metrics: Accuracy, Precision, Recall, F1-Score\n",
    "- b) What can you observe? Are all measures equally suitable for this task?\n"
   ],
   "metadata": {
    "id": "nQYuQ4zax4KE"
   }
  },
  {
   "cell_type": "code",
   "outputs": [
    {
     "name": "stdout",
     "output_type": "stream",
     "text": [
      "Accuracy: 0.99\n",
      "Precision: 0.00\n",
      "Recall: 0.00\n",
      "F1-Score: 0.00\n"
     ]
    }
   ],
   "source": [
    "# Scenario: 10,000 observations, 100 positive class (car), 9,900 negative class (rail)\n",
    "# Model predicts all as negative class (rail)\n",
    "\n",
    "# True Positives (TP), True Negatives (TN), False Positives (FP), False Negatives (FN)\n",
    "TP = 0\n",
    "TN = 9900\n",
    "FP = 0\n",
    "FN = 100\n",
    "\n",
    "# Calculate metrics\n",
    "accuracy = (TP + TN) / (TP + TN + FP + FN)\n",
    "precision = TP / (TP + FP) if (TP + FP) != 0 else 0\n",
    "recall = TP / (TP + FN) if (TP + FN) != 0 else 0\n",
    "f1_score = 2 * (precision * recall) / (precision + recall) if (precision + recall) != 0 else 0\n",
    "\n",
    "# Print the results\n",
    "print(f\"Accuracy: {accuracy:.2f}\")\n",
    "print(f\"Precision: {precision:.2f}\")\n",
    "print(f\"Recall: {recall:.2f}\")\n",
    "print(f\"F1-Score: {f1_score:.2f}\")\n"
   ],
   "metadata": {
    "collapsed": false,
    "ExecuteTime": {
     "end_time": "2024-09-02T12:40:58.399704Z",
     "start_time": "2024-09-02T12:40:58.345958Z"
    }
   },
   "execution_count": 42
  },
  {
   "cell_type": "markdown",
   "source": [
    "## Task 3: ROC Curve\n",
    "\n",
    "In this task the goal is to understand the ROC curve and how it can be used to identify the optimal threshold for a classification task with logistic regression."
   ],
   "metadata": {
    "id": "j9Sf1E0kIFSJ"
   }
  },
  {
   "cell_type": "markdown",
   "source": [
    "### Fit Logistic Regression Model\n",
    "First we are fitting a logistic regression model. The model internally predicts a probability, e.g., for the mode choice being car in our example.\n",
    "\n",
    "It is important to find the optimal threshold where we \"trust\" the model.\n",
    "\n",
    "Is 50% probability enough that we assign the label \"car\" to an observation? Or is maybe a threshold of 70% necessary to get a good result?"
   ],
   "metadata": {
    "id": "KPqtk0IsLMNC"
   }
  },
  {
   "cell_type": "code",
   "source": [
    "from sklearn.model_selection import train_test_split\n",
    "from sklearn.linear_model import LogisticRegression\n",
    "\n",
    "y_train = y_train.map({'car': 1, 'rail': 0})\n",
    "y_test = y_test.map({'car': 1, 'rail': 0})\n",
    "\n",
    "# Train a logistic regression model\n",
    "model = LogisticRegression()\n",
    "model.fit(X_train_processed, y_train)"
   ],
   "metadata": {
    "id": "Wg1Vj_1MLIEe"
   },
   "execution_count": null,
   "outputs": []
  },
  {
   "cell_type": "markdown",
   "source": [
    "### Task 3.1: Interpret the ROC Curve\n",
    "\n",
    "One way to find the optimal parameter set for such a model in a binary classification setting is the Receiver Operating Characteristic (ROC) curve (see below).\n",
    "\n",
    "Now try to interprete with the lecture slides what this curve means and what information we can derive from it.\n",
    "\n",
    "- a) How would the optimal ROC curve look like?\n",
    "- b) How does the ROC curve supports us in finding the optimal threshold parameter?\n",
    "- c) Find the approximate FPR and TPR of the optimal threshold given the ROC curve below."
   ],
   "metadata": {
    "id": "n1fXI2MJRBi2"
   }
  },
  {
   "cell_type": "code",
   "source": [
    "import matplotlib.pyplot as plt\n",
    "from sklearn.metrics import roc_curve, roc_auc_score\n",
    "\n",
    "# Predict probabilities for the test set\n",
    "y_probs = model.predict_proba(X_test_processed)[:, 1]\n",
    "\n",
    "# ## Part 2: Plotting the ROC Curve\n",
    "fpr, tpr, thresholds = roc_curve(y_test, y_probs)\n",
    "roc_auc = roc_auc_score(y_test, y_probs)\n",
    "\n",
    "plt.figure(figsize=(10, 6))\n",
    "plt.plot(fpr, tpr, label=f'Logistic Regression (AUC = {roc_auc:.2f})')\n",
    "plt.plot([0, 1], [0, 1], 'k--', label='Random Guess')\n",
    "plt.xlabel('False Positive Rate (FPR)')\n",
    "plt.ylabel('True Positive Rate (TPR)')\n",
    "plt.title('ROC Curve')\n",
    "plt.legend(loc='lower right')\n",
    "plt.show()"
   ],
   "metadata": {
    "id": "uRRqB8Z8w7IV"
   },
   "execution_count": null,
   "outputs": []
  },
  {
   "cell_type": "markdown",
   "source": [
    "### Determine the best threshold parameter"
   ],
   "metadata": {
    "id": "lo76CbUtpDxV"
   }
  },
  {
   "cell_type": "code",
   "source": [
    "# calculate the distance to the top-left corner (0, 1) for each threshold\n",
    "distances = np.sqrt((1 - tpr) ** 2 + fpr ** 2)\n",
    "\n",
    "# find the index of the smallest distance\n",
    "optimal_index = np.argmin(distances)\n",
    "\n",
    "# get the optimal threshold\n",
    "optimal_threshold = thresholds[optimal_index]\n",
    "optimal_threshold"
   ],
   "metadata": {
    "id": "Iqim_P7cVYkh",
    "ExecuteTime": {
     "start_time": "2024-09-02T12:00:03.737116Z"
    }
   },
   "execution_count": null,
   "outputs": []
  },
  {
   "cell_type": "markdown",
   "source": [
    "### Find the TPR, FPR of this threshold"
   ],
   "metadata": {
    "id": "CqHqAc8spWYP"
   }
  },
  {
   "cell_type": "code",
   "source": [
    "# print(fpr[optimal_index])\n",
    "# print(tpr[optimal_index])"
   ],
   "metadata": {
    "id": "MZNLrXNCpVQA"
   },
   "execution_count": null,
   "outputs": []
  }
 ]
}
