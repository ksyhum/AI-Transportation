{
 "cells": [
  {
   "cell_type": "code",
   "execution_count": 2,
   "id": "initial_id",
   "metadata": {
    "collapsed": true,
    "ExecuteTime": {
     "end_time": "2024-09-25T12:01:03.841986Z",
     "start_time": "2024-09-25T12:01:02.206391Z"
    }
   },
   "outputs": [
    {
     "name": "stdout",
     "output_type": "stream",
     "text": [
      "                              Feature  Coefficient\n",
      "5                 upstream_stop_delay     1.005975\n",
      "2                          dwell_time     0.980795\n",
      "4               scheduled_travel_time    -0.972245\n",
      "10                    recurrent_delay     0.707684\n",
      "22    factor(time_of_day)Morning_peak     0.493475\n",
      "16            factor(temperature)Cold     0.428270\n",
      "19         factor(day_of_week)weekday     0.357136\n",
      "20         factor(day_of_week)weekend    -0.357136\n",
      "18          factor(temperature)Normal    -0.351095\n",
      "11          factor(weather)Light_Rain    -0.297595\n",
      "23        factor(time_of_day)Off-peak    -0.296962\n",
      "14                factor(weather)Rain     0.276791\n",
      "9                   traffic_condition     0.241352\n",
      "21  factor(time_of_day)Afternoon_peak    -0.196513\n",
      "13              factor(weather)Normal    -0.162067\n",
      "15                factor(weather)Snow     0.135484\n",
      "17      factor(temperature)Extra_cold    -0.077175\n",
      "1                       stop_sequence    -0.057181\n",
      "12          factor(weather)Light_Snow     0.047386\n",
      "8           previous_trip_travel_time     0.031721\n",
      "3    travel_time_for_previous_section     0.013259\n",
      "7                  previous_bus_delay     0.004756\n",
      "6                        origin_delay    -0.004618\n",
      "0                            route_id     0.000000\n"
     ]
    }
   ],
   "source": [
    "import pandas as pd\n",
    "from sklearn.model_selection import train_test_split\n",
    "from sklearn.linear_model import LinearRegression\n",
    "\n",
    "# Load dataset\n",
    "df = pd.read_csv(\"Dataset-PT.csv\", skiprows=1)\n",
    "\n",
    "# Drop specified columns\n",
    "df = df.drop(['weather', 'temperature', 'day_of_week','time_of_day','Calendar_date','bus_id'], axis=1, errors='ignore')\n",
    "\n",
    "# Separate features and target variable\n",
    "x = df.drop(['arrival_delay'], axis=1)\n",
    "y = df['arrival_delay']\n",
    "\n",
    "# Split data into train and test sets\n",
    "X_train, X_test, y_train, y_test = train_test_split(x, y, test_size=0.2, random_state=42)\n",
    "\n",
    "# Create a Linear Regression model\n",
    "model_LR = LinearRegression()\n",
    "\n",
    "# Fit the model\n",
    "model_LR.fit(X_train, y_train)\n",
    "\n",
    "# Get the coefficients\n",
    "coefficients = model_LR.coef_\n",
    "\n",
    "# Create a DataFrame to view feature names and their corresponding coefficients\n",
    "coef_df = pd.DataFrame({'Feature': X_train.columns, 'Coefficient': coefficients})\n",
    "\n",
    "# Sort by absolute value of the coefficient to see most influential variables\n",
    "coef_df = coef_df.reindex(coef_df['Coefficient'].abs().sort_values(ascending=False).index)\n",
    "\n",
    "# Print the sorted dataframe\n",
    "print(coef_df[['Feature', 'Coefficient']])\n"
   ]
  },
  {
   "cell_type": "code",
   "outputs": [],
   "source": [
    "coef_df.to_csv('coef_df.csv', index=False)"
   ],
   "metadata": {
    "collapsed": false,
    "ExecuteTime": {
     "end_time": "2024-09-25T12:04:30.970056Z",
     "start_time": "2024-09-25T12:04:30.856266Z"
    }
   },
   "id": "aeffe5a99faa3a8a",
   "execution_count": 3
  },
  {
   "cell_type": "code",
   "outputs": [
    {
     "name": "stderr",
     "output_type": "stream",
     "text": [
      "C:\\Users\\khafi\\anaconda3\\Lib\\site-packages\\statsmodels\\regression\\linear_model.py:1781: RuntimeWarning: divide by zero encountered in scalar divide\n",
      "  return 1 - self.ssr/self.centered_tss\n",
      "C:\\Users\\khafi\\anaconda3\\Lib\\site-packages\\statsmodels\\stats\\outliers_influence.py:198: RuntimeWarning: divide by zero encountered in scalar divide\n",
      "  vif = 1. / (1. - r_squared_i)\n"
     ]
    },
    {
     "name": "stdout",
     "output_type": "stream",
     "text": [
      "                              Feature        VIF\n",
      "0                            route_id   0.000000\n",
      "1                       stop_sequence   1.391733\n",
      "2                          dwell_time   1.146614\n",
      "3    travel_time_for_previous_section   1.348401\n",
      "4               scheduled_travel_time   2.315171\n",
      "5                 upstream_stop_delay   2.374923\n",
      "6                        origin_delay   2.236902\n",
      "7                  previous_bus_delay   1.147077\n",
      "8           previous_trip_travel_time   5.558099\n",
      "9                   traffic_condition  10.767179\n",
      "10                    recurrent_delay   7.760660\n",
      "11          factor(weather)Light_Rain        inf\n",
      "12          factor(weather)Light_Snow        inf\n",
      "13              factor(weather)Normal        inf\n",
      "14                factor(weather)Rain        inf\n",
      "15                factor(weather)Snow        inf\n",
      "16            factor(temperature)Cold        inf\n",
      "17      factor(temperature)Extra_cold        inf\n",
      "18          factor(temperature)Normal        inf\n",
      "19         factor(day_of_week)weekday        inf\n",
      "20         factor(day_of_week)weekend        inf\n",
      "21  factor(time_of_day)Afternoon_peak        inf\n",
      "22    factor(time_of_day)Morning_peak        inf\n",
      "23        factor(time_of_day)Off-peak        inf\n"
     ]
    }
   ],
   "source": [
    "from statsmodels.stats.outliers_influence import variance_inflation_factor\n",
    "import pandas as pd\n",
    "\n",
    "# Assuming df is the DataFrame with your features\n",
    "X = df.drop(['arrival_delay'], axis=1)\n",
    "\n",
    "# Calculate VIF for each feature\n",
    "vif_data = pd.DataFrame()\n",
    "vif_data[\"Feature\"] = X.columns\n",
    "vif_data[\"VIF\"] = [variance_inflation_factor(X.values, i) for i in range(len(X.columns))]\n",
    "\n",
    "print(vif_data)\n"
   ],
   "metadata": {
    "collapsed": false,
    "ExecuteTime": {
     "end_time": "2024-09-25T12:07:56.820220Z",
     "start_time": "2024-09-25T12:07:40.308646Z"
    }
   },
   "id": "906fb16eee709b5f",
   "execution_count": 4
  },
  {
   "cell_type": "code",
   "outputs": [],
   "source": [
    "vif_data.to_csv('vif_data.csv', index=False)"
   ],
   "metadata": {
    "collapsed": false,
    "ExecuteTime": {
     "end_time": "2024-09-25T12:11:20.753813Z",
     "start_time": "2024-09-25T12:11:20.637984Z"
    }
   },
   "id": "bd8e5429fa98967c",
   "execution_count": 6
  },
  {
   "cell_type": "code",
   "outputs": [
    {
     "ename": "FileNotFoundError",
     "evalue": "[Errno 2] No such file or directory: 'your_dataset.csv'",
     "output_type": "error",
     "traceback": [
      "\u001B[1;31m---------------------------------------------------------------------------\u001B[0m",
      "\u001B[1;31mFileNotFoundError\u001B[0m                         Traceback (most recent call last)",
      "Cell \u001B[1;32mIn[15], line 7\u001B[0m\n\u001B[0;32m      4\u001B[0m \u001B[38;5;28;01mimport\u001B[39;00m \u001B[38;5;21;01mjoblib\u001B[39;00m  \u001B[38;5;66;03m# For saving and loading the model\u001B[39;00m\n\u001B[0;32m      6\u001B[0m \u001B[38;5;66;03m# Load your dataset (assuming it's already cleaned and ready)\u001B[39;00m\n\u001B[1;32m----> 7\u001B[0m df \u001B[38;5;241m=\u001B[39m pd\u001B[38;5;241m.\u001B[39mread_csv(\u001B[38;5;124m'\u001B[39m\u001B[38;5;124myour_dataset.csv\u001B[39m\u001B[38;5;124m'\u001B[39m)  \u001B[38;5;66;03m# Replace with your actual dataset path\u001B[39;00m\n\u001B[0;32m      9\u001B[0m \u001B[38;5;66;03m# Pisahkan fitur dan target (arrival_delay)\u001B[39;00m\n\u001B[0;32m     10\u001B[0m X \u001B[38;5;241m=\u001B[39m df\u001B[38;5;241m.\u001B[39mdrop([\u001B[38;5;124m'\u001B[39m\u001B[38;5;124marrival_delay\u001B[39m\u001B[38;5;124m'\u001B[39m], axis\u001B[38;5;241m=\u001B[39m\u001B[38;5;241m1\u001B[39m)  \u001B[38;5;66;03m# Fitur\u001B[39;00m\n",
      "File \u001B[1;32m~\\anaconda3\\Lib\\site-packages\\pandas\\io\\parsers\\readers.py:912\u001B[0m, in \u001B[0;36mread_csv\u001B[1;34m(filepath_or_buffer, sep, delimiter, header, names, index_col, usecols, dtype, engine, converters, true_values, false_values, skipinitialspace, skiprows, skipfooter, nrows, na_values, keep_default_na, na_filter, verbose, skip_blank_lines, parse_dates, infer_datetime_format, keep_date_col, date_parser, date_format, dayfirst, cache_dates, iterator, chunksize, compression, thousands, decimal, lineterminator, quotechar, quoting, doublequote, escapechar, comment, encoding, encoding_errors, dialect, on_bad_lines, delim_whitespace, low_memory, memory_map, float_precision, storage_options, dtype_backend)\u001B[0m\n\u001B[0;32m    899\u001B[0m kwds_defaults \u001B[38;5;241m=\u001B[39m _refine_defaults_read(\n\u001B[0;32m    900\u001B[0m     dialect,\n\u001B[0;32m    901\u001B[0m     delimiter,\n\u001B[1;32m   (...)\u001B[0m\n\u001B[0;32m    908\u001B[0m     dtype_backend\u001B[38;5;241m=\u001B[39mdtype_backend,\n\u001B[0;32m    909\u001B[0m )\n\u001B[0;32m    910\u001B[0m kwds\u001B[38;5;241m.\u001B[39mupdate(kwds_defaults)\n\u001B[1;32m--> 912\u001B[0m \u001B[38;5;28;01mreturn\u001B[39;00m _read(filepath_or_buffer, kwds)\n",
      "File \u001B[1;32m~\\anaconda3\\Lib\\site-packages\\pandas\\io\\parsers\\readers.py:577\u001B[0m, in \u001B[0;36m_read\u001B[1;34m(filepath_or_buffer, kwds)\u001B[0m\n\u001B[0;32m    574\u001B[0m _validate_names(kwds\u001B[38;5;241m.\u001B[39mget(\u001B[38;5;124m\"\u001B[39m\u001B[38;5;124mnames\u001B[39m\u001B[38;5;124m\"\u001B[39m, \u001B[38;5;28;01mNone\u001B[39;00m))\n\u001B[0;32m    576\u001B[0m \u001B[38;5;66;03m# Create the parser.\u001B[39;00m\n\u001B[1;32m--> 577\u001B[0m parser \u001B[38;5;241m=\u001B[39m TextFileReader(filepath_or_buffer, \u001B[38;5;241m*\u001B[39m\u001B[38;5;241m*\u001B[39mkwds)\n\u001B[0;32m    579\u001B[0m \u001B[38;5;28;01mif\u001B[39;00m chunksize \u001B[38;5;129;01mor\u001B[39;00m iterator:\n\u001B[0;32m    580\u001B[0m     \u001B[38;5;28;01mreturn\u001B[39;00m parser\n",
      "File \u001B[1;32m~\\anaconda3\\Lib\\site-packages\\pandas\\io\\parsers\\readers.py:1407\u001B[0m, in \u001B[0;36mTextFileReader.__init__\u001B[1;34m(self, f, engine, **kwds)\u001B[0m\n\u001B[0;32m   1404\u001B[0m     \u001B[38;5;28mself\u001B[39m\u001B[38;5;241m.\u001B[39moptions[\u001B[38;5;124m\"\u001B[39m\u001B[38;5;124mhas_index_names\u001B[39m\u001B[38;5;124m\"\u001B[39m] \u001B[38;5;241m=\u001B[39m kwds[\u001B[38;5;124m\"\u001B[39m\u001B[38;5;124mhas_index_names\u001B[39m\u001B[38;5;124m\"\u001B[39m]\n\u001B[0;32m   1406\u001B[0m \u001B[38;5;28mself\u001B[39m\u001B[38;5;241m.\u001B[39mhandles: IOHandles \u001B[38;5;241m|\u001B[39m \u001B[38;5;28;01mNone\u001B[39;00m \u001B[38;5;241m=\u001B[39m \u001B[38;5;28;01mNone\u001B[39;00m\n\u001B[1;32m-> 1407\u001B[0m \u001B[38;5;28mself\u001B[39m\u001B[38;5;241m.\u001B[39m_engine \u001B[38;5;241m=\u001B[39m \u001B[38;5;28mself\u001B[39m\u001B[38;5;241m.\u001B[39m_make_engine(f, \u001B[38;5;28mself\u001B[39m\u001B[38;5;241m.\u001B[39mengine)\n",
      "File \u001B[1;32m~\\anaconda3\\Lib\\site-packages\\pandas\\io\\parsers\\readers.py:1661\u001B[0m, in \u001B[0;36mTextFileReader._make_engine\u001B[1;34m(self, f, engine)\u001B[0m\n\u001B[0;32m   1659\u001B[0m     \u001B[38;5;28;01mif\u001B[39;00m \u001B[38;5;124m\"\u001B[39m\u001B[38;5;124mb\u001B[39m\u001B[38;5;124m\"\u001B[39m \u001B[38;5;129;01mnot\u001B[39;00m \u001B[38;5;129;01min\u001B[39;00m mode:\n\u001B[0;32m   1660\u001B[0m         mode \u001B[38;5;241m+\u001B[39m\u001B[38;5;241m=\u001B[39m \u001B[38;5;124m\"\u001B[39m\u001B[38;5;124mb\u001B[39m\u001B[38;5;124m\"\u001B[39m\n\u001B[1;32m-> 1661\u001B[0m \u001B[38;5;28mself\u001B[39m\u001B[38;5;241m.\u001B[39mhandles \u001B[38;5;241m=\u001B[39m get_handle(\n\u001B[0;32m   1662\u001B[0m     f,\n\u001B[0;32m   1663\u001B[0m     mode,\n\u001B[0;32m   1664\u001B[0m     encoding\u001B[38;5;241m=\u001B[39m\u001B[38;5;28mself\u001B[39m\u001B[38;5;241m.\u001B[39moptions\u001B[38;5;241m.\u001B[39mget(\u001B[38;5;124m\"\u001B[39m\u001B[38;5;124mencoding\u001B[39m\u001B[38;5;124m\"\u001B[39m, \u001B[38;5;28;01mNone\u001B[39;00m),\n\u001B[0;32m   1665\u001B[0m     compression\u001B[38;5;241m=\u001B[39m\u001B[38;5;28mself\u001B[39m\u001B[38;5;241m.\u001B[39moptions\u001B[38;5;241m.\u001B[39mget(\u001B[38;5;124m\"\u001B[39m\u001B[38;5;124mcompression\u001B[39m\u001B[38;5;124m\"\u001B[39m, \u001B[38;5;28;01mNone\u001B[39;00m),\n\u001B[0;32m   1666\u001B[0m     memory_map\u001B[38;5;241m=\u001B[39m\u001B[38;5;28mself\u001B[39m\u001B[38;5;241m.\u001B[39moptions\u001B[38;5;241m.\u001B[39mget(\u001B[38;5;124m\"\u001B[39m\u001B[38;5;124mmemory_map\u001B[39m\u001B[38;5;124m\"\u001B[39m, \u001B[38;5;28;01mFalse\u001B[39;00m),\n\u001B[0;32m   1667\u001B[0m     is_text\u001B[38;5;241m=\u001B[39mis_text,\n\u001B[0;32m   1668\u001B[0m     errors\u001B[38;5;241m=\u001B[39m\u001B[38;5;28mself\u001B[39m\u001B[38;5;241m.\u001B[39moptions\u001B[38;5;241m.\u001B[39mget(\u001B[38;5;124m\"\u001B[39m\u001B[38;5;124mencoding_errors\u001B[39m\u001B[38;5;124m\"\u001B[39m, \u001B[38;5;124m\"\u001B[39m\u001B[38;5;124mstrict\u001B[39m\u001B[38;5;124m\"\u001B[39m),\n\u001B[0;32m   1669\u001B[0m     storage_options\u001B[38;5;241m=\u001B[39m\u001B[38;5;28mself\u001B[39m\u001B[38;5;241m.\u001B[39moptions\u001B[38;5;241m.\u001B[39mget(\u001B[38;5;124m\"\u001B[39m\u001B[38;5;124mstorage_options\u001B[39m\u001B[38;5;124m\"\u001B[39m, \u001B[38;5;28;01mNone\u001B[39;00m),\n\u001B[0;32m   1670\u001B[0m )\n\u001B[0;32m   1671\u001B[0m \u001B[38;5;28;01massert\u001B[39;00m \u001B[38;5;28mself\u001B[39m\u001B[38;5;241m.\u001B[39mhandles \u001B[38;5;129;01mis\u001B[39;00m \u001B[38;5;129;01mnot\u001B[39;00m \u001B[38;5;28;01mNone\u001B[39;00m\n\u001B[0;32m   1672\u001B[0m f \u001B[38;5;241m=\u001B[39m \u001B[38;5;28mself\u001B[39m\u001B[38;5;241m.\u001B[39mhandles\u001B[38;5;241m.\u001B[39mhandle\n",
      "File \u001B[1;32m~\\anaconda3\\Lib\\site-packages\\pandas\\io\\common.py:859\u001B[0m, in \u001B[0;36mget_handle\u001B[1;34m(path_or_buf, mode, encoding, compression, memory_map, is_text, errors, storage_options)\u001B[0m\n\u001B[0;32m    854\u001B[0m \u001B[38;5;28;01melif\u001B[39;00m \u001B[38;5;28misinstance\u001B[39m(handle, \u001B[38;5;28mstr\u001B[39m):\n\u001B[0;32m    855\u001B[0m     \u001B[38;5;66;03m# Check whether the filename is to be opened in binary mode.\u001B[39;00m\n\u001B[0;32m    856\u001B[0m     \u001B[38;5;66;03m# Binary mode does not support 'encoding' and 'newline'.\u001B[39;00m\n\u001B[0;32m    857\u001B[0m     \u001B[38;5;28;01mif\u001B[39;00m ioargs\u001B[38;5;241m.\u001B[39mencoding \u001B[38;5;129;01mand\u001B[39;00m \u001B[38;5;124m\"\u001B[39m\u001B[38;5;124mb\u001B[39m\u001B[38;5;124m\"\u001B[39m \u001B[38;5;129;01mnot\u001B[39;00m \u001B[38;5;129;01min\u001B[39;00m ioargs\u001B[38;5;241m.\u001B[39mmode:\n\u001B[0;32m    858\u001B[0m         \u001B[38;5;66;03m# Encoding\u001B[39;00m\n\u001B[1;32m--> 859\u001B[0m         handle \u001B[38;5;241m=\u001B[39m \u001B[38;5;28mopen\u001B[39m(\n\u001B[0;32m    860\u001B[0m             handle,\n\u001B[0;32m    861\u001B[0m             ioargs\u001B[38;5;241m.\u001B[39mmode,\n\u001B[0;32m    862\u001B[0m             encoding\u001B[38;5;241m=\u001B[39mioargs\u001B[38;5;241m.\u001B[39mencoding,\n\u001B[0;32m    863\u001B[0m             errors\u001B[38;5;241m=\u001B[39merrors,\n\u001B[0;32m    864\u001B[0m             newline\u001B[38;5;241m=\u001B[39m\u001B[38;5;124m\"\u001B[39m\u001B[38;5;124m\"\u001B[39m,\n\u001B[0;32m    865\u001B[0m         )\n\u001B[0;32m    866\u001B[0m     \u001B[38;5;28;01melse\u001B[39;00m:\n\u001B[0;32m    867\u001B[0m         \u001B[38;5;66;03m# Binary mode\u001B[39;00m\n\u001B[0;32m    868\u001B[0m         handle \u001B[38;5;241m=\u001B[39m \u001B[38;5;28mopen\u001B[39m(handle, ioargs\u001B[38;5;241m.\u001B[39mmode)\n",
      "\u001B[1;31mFileNotFoundError\u001B[0m: [Errno 2] No such file or directory: 'your_dataset.csv'"
     ]
    }
   ],
   "source": [
    "import pandas as pd\n",
    "from sklearn.linear_model import LinearRegression\n",
    "from sklearn.model_selection import train_test_split\n",
    "import joblib  # For saving and loading the model\n",
    "\n",
    "# Load your dataset (assuming it's already cleaned and ready)\n",
    "df = pd.read_csv(\"Dataset-PT.csv\", skiprows=1)  # Replace with your actual dataset path\n",
    "\n",
    "df = df.drop(['weather', 'temperature', 'day_of_week','time_of_day','Calendar_date','bus_id'], axis=1, errors='ignore')\n",
    "\n",
    "# Pisahkan fitur dan target (arrival_delay)\n",
    "X = df.drop(['arrival_delay'], axis=1)  # Fitur\n",
    "y = df['arrival_delay']  # Target (arrival_delay)\n",
    "\n",
    "# Membagi dataset menjadi data latih dan data uji\n",
    "X_train, X_test, y_train, y_test = train_test_split(X, y, test_size=0.2, random_state=42)\n",
    "\n",
    "# Membuat dan melatih model Linear Regression\n",
    "model_LR = LinearRegression()\n",
    "model_LR.fit(X_train, y_train)\n",
    "\n",
    "# Simpan model yang telah dilatih menggunakan joblib\n",
    "joblib.dump(model_LR, 'linear_regression_model.pkl')\n",
    "\n",
    "# Fungsi untuk memuat model yang disimpan\n",
    "def load_trained_model(filepath):\n",
    "    model = joblib.load(filepath)\n",
    "    return model\n",
    "\n",
    "# Fungsi untuk mendapatkan input dari pengguna\n",
    "def get_user_input():\n",
    "    # Mengumpulkan input dari pengguna untuk setiap fitur\n",
    "    user_data = {\n",
    "        'dwell_time': float(input(\"Enter dwell_time: \")),\n",
    "        'travel_time_for_previous_section': float(input(\"Enter travel_time_for_previous_section: \")),\n",
    "        'scheduled_travel_time': float(input(\"Enter scheduled_travel_time: \")),\n",
    "        'upstream_stop_delay': float(input(\"Enter upstream_stop_delay: \")),\n",
    "        'origin_delay': float(input(\"Enter origin_delay: \")),\n",
    "        'previous_bus_delay': float(input(\"Enter previous_bus_delay: \")),\n",
    "        'previous_trip_travel_time': float(input(\"Enter previous_trip_travel_time: \")),\n",
    "        'recurrent_delay': float(input(\"Enter recurrent_delay: \")),\n",
    "        'route_id': int(input(\"Enter route_id: \")),\n",
    "        'factor(weather)Light_Rain': int(input(\"Enter factor(weather)Light_Rain (0 or 1): \")),\n",
    "        'factor(weather)Light_Snow': int(input(\"Enter factor(weather)Light_Snow (0 or 1): \")),\n",
    "        'factor(weather)Normal': int(input(\"Enter factor(weather)Normal (0 or 1): \")),\n",
    "        'factor(weather)Rain': int(input(\"Enter factor(weather)Rain (0 or 1): \")),\n",
    "        'factor(weather)Snow': int(input(\"Enter factor(weather)Snow (0 or 1): \")),\n",
    "        'factor(temperature)Cold': int(input(\"Enter factor(temperature)Cold (0 or 1): \")),\n",
    "        'factor(temperature)Extra_cold': int(input(\"Enter factor(temperature)Extra_cold (0 or 1): \")),\n",
    "        'factor(temperature)Normal': int(input(\"Enter factor(temperature)Normal (0 or 1): \")),\n",
    "        'factor(day_of_week)weekday': int(input(\"Enter factor(day_of_week)weekday (0 or 1): \")),\n",
    "        'factor(day_of_week)weekend': int(input(\"Enter factor(day_of_week)weekend (0 or 1): \")),\n",
    "        'factor(time_of_day)Afternoon_peak': int(input(\"Enter factor(time_of_day)Afternoon_peak (0 or 1): \")),\n",
    "        'factor(time_of_day)Morning_peak': int(input(\"Enter factor(time_of_day)Morning_peak (0 or 1): \")),\n",
    "        'factor(time_of_day)Off-peak': int(input(\"Enter factor(time_of_day)Off-peak (0 or 1): \")),\n",
    "    }\n",
    "\n",
    "    # Mengonversi input pengguna ke dalam DataFrame\n",
    "    return pd.DataFrame([user_data])\n",
    "\n",
    "# Load the trained Linear Regression model\n",
    "filepath = 'linear_regression_model.pkl'  # Model yang disimpan\n",
    "model = load_trained_model(filepath)\n",
    "\n",
    "# Mengambil input dari pengguna\n",
    "input_data = get_user_input()\n",
    "\n",
    "# Lakukan prediksi menggunakan model\n",
    "prediction = model.predict(input_data)\n",
    "\n",
    "# Menampilkan hasil prediksi\n",
    "print(f\"Predicted arrival_delay: {prediction[0]}\")\n"
   ],
   "metadata": {
    "collapsed": false,
    "ExecuteTime": {
     "end_time": "2024-09-25T12:58:51.779422Z",
     "start_time": "2024-09-25T12:58:50.365576Z"
    }
   },
   "id": "3fdbde9f95e5e038",
   "execution_count": 15
  },
  {
   "cell_type": "code",
   "outputs": [
    {
     "ename": "ValueError",
     "evalue": "could not convert string to float: ''",
     "output_type": "error",
     "traceback": [
      "\u001B[1;31m---------------------------------------------------------------------------\u001B[0m",
      "\u001B[1;31mValueError\u001B[0m                                Traceback (most recent call last)",
      "Cell \u001B[1;32mIn[17], line 68\u001B[0m\n\u001B[0;32m     65\u001B[0m model \u001B[38;5;241m=\u001B[39m load_trained_model(filepath)\n\u001B[0;32m     67\u001B[0m \u001B[38;5;66;03m# Mengambil input dari pengguna\u001B[39;00m\n\u001B[1;32m---> 68\u001B[0m input_data \u001B[38;5;241m=\u001B[39m get_user_input()\n\u001B[0;32m     70\u001B[0m \u001B[38;5;66;03m# Lakukan prediksi menggunakan model\u001B[39;00m\n\u001B[0;32m     71\u001B[0m prediction \u001B[38;5;241m=\u001B[39m model\u001B[38;5;241m.\u001B[39mpredict(input_data)\n",
      "Cell \u001B[1;32mIn[17], line 34\u001B[0m, in \u001B[0;36mget_user_input\u001B[1;34m()\u001B[0m\n\u001B[0;32m     31\u001B[0m \u001B[38;5;28;01mdef\u001B[39;00m \u001B[38;5;21mget_user_input\u001B[39m():\n\u001B[0;32m     32\u001B[0m     \u001B[38;5;66;03m# Mengumpulkan input dari pengguna untuk setiap fitur, termasuk fitur yang sebelumnya hilang\u001B[39;00m\n\u001B[0;32m     33\u001B[0m     user_data \u001B[38;5;241m=\u001B[39m {\n\u001B[1;32m---> 34\u001B[0m         \u001B[38;5;124m'\u001B[39m\u001B[38;5;124mdwell_time\u001B[39m\u001B[38;5;124m'\u001B[39m: \u001B[38;5;28mfloat\u001B[39m(\u001B[38;5;28minput\u001B[39m(\u001B[38;5;124m\"\u001B[39m\u001B[38;5;124mEnter dwell_time: \u001B[39m\u001B[38;5;124m\"\u001B[39m)),\n\u001B[0;32m     35\u001B[0m         \u001B[38;5;124m'\u001B[39m\u001B[38;5;124mtravel_time_for_previous_section\u001B[39m\u001B[38;5;124m'\u001B[39m: \u001B[38;5;28mfloat\u001B[39m(\u001B[38;5;28minput\u001B[39m(\u001B[38;5;124m\"\u001B[39m\u001B[38;5;124mEnter travel_time_for_previous_section: \u001B[39m\u001B[38;5;124m\"\u001B[39m)),\n\u001B[0;32m     36\u001B[0m         \u001B[38;5;124m'\u001B[39m\u001B[38;5;124mscheduled_travel_time\u001B[39m\u001B[38;5;124m'\u001B[39m: \u001B[38;5;28mfloat\u001B[39m(\u001B[38;5;28minput\u001B[39m(\u001B[38;5;124m\"\u001B[39m\u001B[38;5;124mEnter scheduled_travel_time: \u001B[39m\u001B[38;5;124m\"\u001B[39m)),\n\u001B[0;32m     37\u001B[0m         \u001B[38;5;124m'\u001B[39m\u001B[38;5;124mupstream_stop_delay\u001B[39m\u001B[38;5;124m'\u001B[39m: \u001B[38;5;28mfloat\u001B[39m(\u001B[38;5;28minput\u001B[39m(\u001B[38;5;124m\"\u001B[39m\u001B[38;5;124mEnter upstream_stop_delay: \u001B[39m\u001B[38;5;124m\"\u001B[39m)),\n\u001B[0;32m     38\u001B[0m         \u001B[38;5;124m'\u001B[39m\u001B[38;5;124morigin_delay\u001B[39m\u001B[38;5;124m'\u001B[39m: \u001B[38;5;28mfloat\u001B[39m(\u001B[38;5;28minput\u001B[39m(\u001B[38;5;124m\"\u001B[39m\u001B[38;5;124mEnter origin_delay: \u001B[39m\u001B[38;5;124m\"\u001B[39m)),\n\u001B[0;32m     39\u001B[0m         \u001B[38;5;124m'\u001B[39m\u001B[38;5;124mprevious_bus_delay\u001B[39m\u001B[38;5;124m'\u001B[39m: \u001B[38;5;28mfloat\u001B[39m(\u001B[38;5;28minput\u001B[39m(\u001B[38;5;124m\"\u001B[39m\u001B[38;5;124mEnter previous_bus_delay: \u001B[39m\u001B[38;5;124m\"\u001B[39m)),\n\u001B[0;32m     40\u001B[0m         \u001B[38;5;124m'\u001B[39m\u001B[38;5;124mprevious_trip_travel_time\u001B[39m\u001B[38;5;124m'\u001B[39m: \u001B[38;5;28mfloat\u001B[39m(\u001B[38;5;28minput\u001B[39m(\u001B[38;5;124m\"\u001B[39m\u001B[38;5;124mEnter previous_trip_travel_time: \u001B[39m\u001B[38;5;124m\"\u001B[39m)),\n\u001B[0;32m     41\u001B[0m         \u001B[38;5;124m'\u001B[39m\u001B[38;5;124mrecurrent_delay\u001B[39m\u001B[38;5;124m'\u001B[39m: \u001B[38;5;28mfloat\u001B[39m(\u001B[38;5;28minput\u001B[39m(\u001B[38;5;124m\"\u001B[39m\u001B[38;5;124mEnter recurrent_delay: \u001B[39m\u001B[38;5;124m\"\u001B[39m)),\n\u001B[0;32m     42\u001B[0m         \u001B[38;5;124m'\u001B[39m\u001B[38;5;124mroute_id\u001B[39m\u001B[38;5;124m'\u001B[39m: \u001B[38;5;28mint\u001B[39m(\u001B[38;5;28minput\u001B[39m(\u001B[38;5;124m\"\u001B[39m\u001B[38;5;124mEnter route_id: \u001B[39m\u001B[38;5;124m\"\u001B[39m)),\n\u001B[0;32m     43\u001B[0m         \u001B[38;5;124m'\u001B[39m\u001B[38;5;124mstop_sequence\u001B[39m\u001B[38;5;124m'\u001B[39m: \u001B[38;5;28mint\u001B[39m(\u001B[38;5;28minput\u001B[39m(\u001B[38;5;124m\"\u001B[39m\u001B[38;5;124mEnter stop_sequence: \u001B[39m\u001B[38;5;124m\"\u001B[39m)),  \u001B[38;5;66;03m# Fitur tambahan yang diperlukan\u001B[39;00m\n\u001B[0;32m     44\u001B[0m         \u001B[38;5;124m'\u001B[39m\u001B[38;5;124mtraffic_condition\u001B[39m\u001B[38;5;124m'\u001B[39m: \u001B[38;5;28mint\u001B[39m(\u001B[38;5;28minput\u001B[39m(\u001B[38;5;124m\"\u001B[39m\u001B[38;5;124mEnter traffic_condition: \u001B[39m\u001B[38;5;124m\"\u001B[39m)),  \u001B[38;5;66;03m# Fitur tambahan yang diperlukan\u001B[39;00m\n\u001B[0;32m     45\u001B[0m         \u001B[38;5;124m'\u001B[39m\u001B[38;5;124mfactor(weather)Light_Rain\u001B[39m\u001B[38;5;124m'\u001B[39m: \u001B[38;5;28mint\u001B[39m(\u001B[38;5;28minput\u001B[39m(\u001B[38;5;124m\"\u001B[39m\u001B[38;5;124mEnter factor(weather)Light_Rain (0 or 1): \u001B[39m\u001B[38;5;124m\"\u001B[39m)),\n\u001B[0;32m     46\u001B[0m         \u001B[38;5;124m'\u001B[39m\u001B[38;5;124mfactor(weather)Light_Snow\u001B[39m\u001B[38;5;124m'\u001B[39m: \u001B[38;5;28mint\u001B[39m(\u001B[38;5;28minput\u001B[39m(\u001B[38;5;124m\"\u001B[39m\u001B[38;5;124mEnter factor(weather)Light_Snow (0 or 1): \u001B[39m\u001B[38;5;124m\"\u001B[39m)),\n\u001B[0;32m     47\u001B[0m         \u001B[38;5;124m'\u001B[39m\u001B[38;5;124mfactor(weather)Normal\u001B[39m\u001B[38;5;124m'\u001B[39m: \u001B[38;5;28mint\u001B[39m(\u001B[38;5;28minput\u001B[39m(\u001B[38;5;124m\"\u001B[39m\u001B[38;5;124mEnter factor(weather)Normal (0 or 1): \u001B[39m\u001B[38;5;124m\"\u001B[39m)),\n\u001B[0;32m     48\u001B[0m         \u001B[38;5;124m'\u001B[39m\u001B[38;5;124mfactor(weather)Rain\u001B[39m\u001B[38;5;124m'\u001B[39m: \u001B[38;5;28mint\u001B[39m(\u001B[38;5;28minput\u001B[39m(\u001B[38;5;124m\"\u001B[39m\u001B[38;5;124mEnter factor(weather)Rain (0 or 1): \u001B[39m\u001B[38;5;124m\"\u001B[39m)),\n\u001B[0;32m     49\u001B[0m         \u001B[38;5;124m'\u001B[39m\u001B[38;5;124mfactor(weather)Snow\u001B[39m\u001B[38;5;124m'\u001B[39m: \u001B[38;5;28mint\u001B[39m(\u001B[38;5;28minput\u001B[39m(\u001B[38;5;124m\"\u001B[39m\u001B[38;5;124mEnter factor(weather)Snow (0 or 1): \u001B[39m\u001B[38;5;124m\"\u001B[39m)),\n\u001B[0;32m     50\u001B[0m         \u001B[38;5;124m'\u001B[39m\u001B[38;5;124mfactor(temperature)Cold\u001B[39m\u001B[38;5;124m'\u001B[39m: \u001B[38;5;28mint\u001B[39m(\u001B[38;5;28minput\u001B[39m(\u001B[38;5;124m\"\u001B[39m\u001B[38;5;124mEnter factor(temperature)Cold (0 or 1): \u001B[39m\u001B[38;5;124m\"\u001B[39m)),\n\u001B[0;32m     51\u001B[0m         \u001B[38;5;124m'\u001B[39m\u001B[38;5;124mfactor(temperature)Extra_cold\u001B[39m\u001B[38;5;124m'\u001B[39m: \u001B[38;5;28mint\u001B[39m(\u001B[38;5;28minput\u001B[39m(\u001B[38;5;124m\"\u001B[39m\u001B[38;5;124mEnter factor(temperature)Extra_cold (0 or 1): \u001B[39m\u001B[38;5;124m\"\u001B[39m)),\n\u001B[0;32m     52\u001B[0m         \u001B[38;5;124m'\u001B[39m\u001B[38;5;124mfactor(temperature)Normal\u001B[39m\u001B[38;5;124m'\u001B[39m: \u001B[38;5;28mint\u001B[39m(\u001B[38;5;28minput\u001B[39m(\u001B[38;5;124m\"\u001B[39m\u001B[38;5;124mEnter factor(temperature)Normal (0 or 1): \u001B[39m\u001B[38;5;124m\"\u001B[39m)),\n\u001B[0;32m     53\u001B[0m         \u001B[38;5;124m'\u001B[39m\u001B[38;5;124mfactor(day_of_week)weekday\u001B[39m\u001B[38;5;124m'\u001B[39m: \u001B[38;5;28mint\u001B[39m(\u001B[38;5;28minput\u001B[39m(\u001B[38;5;124m\"\u001B[39m\u001B[38;5;124mEnter factor(day_of_week)weekday (0 or 1): \u001B[39m\u001B[38;5;124m\"\u001B[39m)),\n\u001B[0;32m     54\u001B[0m         \u001B[38;5;124m'\u001B[39m\u001B[38;5;124mfactor(day_of_week)weekend\u001B[39m\u001B[38;5;124m'\u001B[39m: \u001B[38;5;28mint\u001B[39m(\u001B[38;5;28minput\u001B[39m(\u001B[38;5;124m\"\u001B[39m\u001B[38;5;124mEnter factor(day_of_week)weekend (0 or 1): \u001B[39m\u001B[38;5;124m\"\u001B[39m)),\n\u001B[0;32m     55\u001B[0m         \u001B[38;5;124m'\u001B[39m\u001B[38;5;124mfactor(time_of_day)Afternoon_peak\u001B[39m\u001B[38;5;124m'\u001B[39m: \u001B[38;5;28mint\u001B[39m(\u001B[38;5;28minput\u001B[39m(\u001B[38;5;124m\"\u001B[39m\u001B[38;5;124mEnter factor(time_of_day)Afternoon_peak (0 or 1): \u001B[39m\u001B[38;5;124m\"\u001B[39m)),\n\u001B[0;32m     56\u001B[0m         \u001B[38;5;124m'\u001B[39m\u001B[38;5;124mfactor(time_of_day)Morning_peak\u001B[39m\u001B[38;5;124m'\u001B[39m: \u001B[38;5;28mint\u001B[39m(\u001B[38;5;28minput\u001B[39m(\u001B[38;5;124m\"\u001B[39m\u001B[38;5;124mEnter factor(time_of_day)Morning_peak (0 or 1): \u001B[39m\u001B[38;5;124m\"\u001B[39m)),\n\u001B[0;32m     57\u001B[0m         \u001B[38;5;124m'\u001B[39m\u001B[38;5;124mfactor(time_of_day)Off-peak\u001B[39m\u001B[38;5;124m'\u001B[39m: \u001B[38;5;28mint\u001B[39m(\u001B[38;5;28minput\u001B[39m(\u001B[38;5;124m\"\u001B[39m\u001B[38;5;124mEnter factor(time_of_day)Off-peak (0 or 1): \u001B[39m\u001B[38;5;124m\"\u001B[39m)),\n\u001B[0;32m     58\u001B[0m     }\n\u001B[0;32m     60\u001B[0m     \u001B[38;5;66;03m# Mengonversi input pengguna ke dalam DataFrame\u001B[39;00m\n\u001B[0;32m     61\u001B[0m     \u001B[38;5;28;01mreturn\u001B[39;00m pd\u001B[38;5;241m.\u001B[39mDataFrame([user_data])\n",
      "\u001B[1;31mValueError\u001B[0m: could not convert string to float: ''"
     ]
    }
   ],
   "source": [
    "import pandas as pd\n",
    "from sklearn.linear_model import LinearRegression\n",
    "from sklearn.model_selection import train_test_split\n",
    "import joblib  # For saving and loading the model\n",
    "\n",
    "# Load your dataset (assuming it's already cleaned and ready)\n",
    "df = pd.read_csv(\"Dataset-PT.csv\", skiprows=1)  # Replace with your actual dataset path\n",
    "\n",
    "df = df.drop(['weather', 'temperature', 'day_of_week','time_of_day','Calendar_date','bus_id'], axis=1, errors='ignore')\n",
    "\n",
    "# Pisahkan fitur dan target (arrival_delay)\n",
    "X = df.drop(['arrival_delay'], axis=1)  # Fitur\n",
    "y = df['arrival_delay']  # Target (arrival_delay)\n",
    "\n",
    "# Membagi dataset menjadi data latih dan data uji\n",
    "X_train, X_test, y_train, y_test = train_test_split(X, y, test_size=0.2, random_state=42)\n",
    "\n",
    "# Membuat dan melatih model Linear Regression\n",
    "model_LR = LinearRegression()\n",
    "model_LR.fit(X_train, y_train)\n",
    "\n",
    "# Simpan model yang telah dilatih menggunakan joblib\n",
    "joblib.dump(model_LR, 'linear_regression_model.pkl')\n",
    "\n",
    "# Fungsi untuk memuat model yang disimpan\n",
    "def load_trained_model(filepath):\n",
    "    model = joblib.load(filepath)\n",
    "    return model\n",
    "\n",
    "# Fungsi untuk mendapatkan input dari pengguna\n",
    "def get_user_input():\n",
    "    # Mengumpulkan input dari pengguna untuk setiap fitur, termasuk fitur yang sebelumnya hilang\n",
    "    user_data = {\n",
    "        'dwell_time': float(input(\"Enter dwell_time: \")),\n",
    "        'travel_time_for_previous_section': float(input(\"Enter travel_time_for_previous_section: \")),\n",
    "        'scheduled_travel_time': float(input(\"Enter scheduled_travel_time: \")),\n",
    "        'upstream_stop_delay': float(input(\"Enter upstream_stop_delay: \")),\n",
    "        'origin_delay': float(input(\"Enter origin_delay: \")),\n",
    "        'previous_bus_delay': float(input(\"Enter previous_bus_delay: \")),\n",
    "        'previous_trip_travel_time': float(input(\"Enter previous_trip_travel_time: \")),\n",
    "        'recurrent_delay': float(input(\"Enter recurrent_delay: \")),\n",
    "        'route_id': int(input(\"Enter route_id: \")),\n",
    "        'stop_sequence': int(input(\"Enter stop_sequence: \")),  # Fitur tambahan yang diperlukan\n",
    "        'traffic_condition': int(input(\"Enter traffic_condition: \")),  # Fitur tambahan yang diperlukan\n",
    "        'factor(weather)Light_Rain': int(input(\"Enter factor(weather)Light_Rain (0 or 1): \")),\n",
    "        'factor(weather)Light_Snow': int(input(\"Enter factor(weather)Light_Snow (0 or 1): \")),\n",
    "        'factor(weather)Normal': int(input(\"Enter factor(weather)Normal (0 or 1): \")),\n",
    "        'factor(weather)Rain': int(input(\"Enter factor(weather)Rain (0 or 1): \")),\n",
    "        'factor(weather)Snow': int(input(\"Enter factor(weather)Snow (0 or 1): \")),\n",
    "        'factor(temperature)Cold': int(input(\"Enter factor(temperature)Cold (0 or 1): \")),\n",
    "        'factor(temperature)Extra_cold': int(input(\"Enter factor(temperature)Extra_cold (0 or 1): \")),\n",
    "        'factor(temperature)Normal': int(input(\"Enter factor(temperature)Normal (0 or 1): \")),\n",
    "        'factor(day_of_week)weekday': int(input(\"Enter factor(day_of_week)weekday (0 or 1): \")),\n",
    "        'factor(day_of_week)weekend': int(input(\"Enter factor(day_of_week)weekend (0 or 1): \")),\n",
    "        'factor(time_of_day)Afternoon_peak': int(input(\"Enter factor(time_of_day)Afternoon_peak (0 or 1): \")),\n",
    "        'factor(time_of_day)Morning_peak': int(input(\"Enter factor(time_of_day)Morning_peak (0 or 1): \")),\n",
    "        'factor(time_of_day)Off-peak': int(input(\"Enter factor(time_of_day)Off-peak (0 or 1): \")),\n",
    "    }\n",
    "\n",
    "    # Mengonversi input pengguna ke dalam DataFrame\n",
    "    return pd.DataFrame([user_data])\n",
    "\n",
    "# Load the trained Linear Regression model\n",
    "filepath = 'linear_regression_model.pkl'  # Model yang disimpan\n",
    "model = load_trained_model(filepath)\n",
    "\n",
    "# Mengambil input dari pengguna\n",
    "input_data = get_user_input()\n",
    "\n",
    "# Lakukan prediksi menggunakan model\n",
    "prediction = model.predict(input_data)\n",
    "\n",
    "# Menampilkan hasil prediksi\n",
    "print(f\"Predicted arrival_delay: {prediction[0]}\")\n"
   ],
   "metadata": {
    "collapsed": false,
    "ExecuteTime": {
     "end_time": "2024-09-25T13:00:15.426661Z",
     "start_time": "2024-09-25T12:59:53.499070Z"
    }
   },
   "id": "f024e679f851fe34",
   "execution_count": 17
  },
  {
   "cell_type": "code",
   "outputs": [],
   "source": [],
   "metadata": {
    "collapsed": false
   },
   "id": "cce1cab236d2bfa8"
  }
 ],
 "metadata": {
  "kernelspec": {
   "display_name": "Python 3",
   "language": "python",
   "name": "python3"
  },
  "language_info": {
   "codemirror_mode": {
    "name": "ipython",
    "version": 2
   },
   "file_extension": ".py",
   "mimetype": "text/x-python",
   "name": "python",
   "nbconvert_exporter": "python",
   "pygments_lexer": "ipython2",
   "version": "2.7.6"
  }
 },
 "nbformat": 4,
 "nbformat_minor": 5
}
